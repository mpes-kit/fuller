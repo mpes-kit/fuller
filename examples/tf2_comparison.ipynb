{
 "cells": [
  {
   "cell_type": "markdown",
   "metadata": {},
   "source": [
    "# Reconstruction of band using Markov Random Field Model"
   ]
  },
  {
   "cell_type": "markdown",
   "metadata": {},
   "source": [
    "## Model setup"
   ]
  },
  {
   "cell_type": "code",
   "execution_count": null,
   "metadata": {},
   "outputs": [],
   "source": [
    "# Import packages\n",
    "import numpy as np\n",
    "import matplotlib.pyplot as plt\n",
    "\n",
    "from fuller.mrfRec import MrfRec\n",
    "from fuller.utils import loadHDF\n",
    "\n",
    "import os"
   ]
  },
  {
   "cell_type": "code",
   "execution_count": 2,
   "metadata": {},
   "outputs": [],
   "source": [
    "data_path = '../' # Put in Path to a storage of at least 20 Gbyte free space.\n",
    "if not os.path.exists(data_path + \"/data.zip\"):\n",
    "    os.system(f\"curl -L --output {data_path}/data.zip https://zenodo.org/records/7314278/files/data.zip\")\n",
    "if not os.path.isdir(data_path + \"/data\"):\n",
    "    os.system(f\"unzip -d {data_path} -o {data_path}/data\")"
   ]
  },
  {
   "cell_type": "code",
   "execution_count": 3,
   "metadata": {},
   "outputs": [],
   "source": [
    "# Load preprocessed data\n",
    "data = loadHDF('./WSe2_preprocessed.h5')\n",
    "E = data['E']\n",
    "kx = data['kx']\n",
    "ky = data['ky']\n",
    "I = data['V']"
   ]
  },
  {
   "cell_type": "code",
   "execution_count": 4,
   "metadata": {},
   "outputs": [],
   "source": [
    "# Create MRF model\n",
    "mrf = MrfRec(E=E, kx=kx, ky=ky, I=I, eta=.12)\n",
    "mrf.I_normalized = True"
   ]
  },
  {
   "cell_type": "markdown",
   "metadata": {},
   "source": [
    "## Initialization"
   ]
  },
  {
   "cell_type": "code",
   "execution_count": 5,
   "metadata": {},
   "outputs": [],
   "source": [
    "# Initialize mrf model with band structure approximation from DFT\n",
    "path_dft = '../data/theory/WSe2_PBEsol_bands.mat'\n",
    "\n",
    "band_index = 4\n",
    "offset = .5\n",
    "k_scale = 1.1\n",
    "\n",
    "kx_dft, ky_dft, E_dft = mrf.loadBandsMat(path_dft)\n",
    "mrf.initializeBand(kx=kx_dft, ky=ky_dft, Eb=E_dft[band_index,...], offset=offset, kScale=k_scale, flipKAxes=True)"
   ]
  },
  {
   "cell_type": "markdown",
   "metadata": {},
   "source": [
    "## Reconstruction"
   ]
  },
  {
   "cell_type": "code",
   "execution_count": null,
   "metadata": {
    "scrolled": false
   },
   "outputs": [],
   "source": [
    "# Run optimization to perform reconstruction\n",
    "eta = .1\n",
    "n_epochs = 150\n",
    "\n",
    "mrf.eta = eta\n",
    "mrf.iter_para(n_epochs, use_gpu=True, updateLogP=True)"
   ]
  },
  {
   "cell_type": "code",
   "execution_count": 7,
   "metadata": {},
   "outputs": [],
   "source": [
    "logPs_new = mrf.logP"
   ]
  },
  {
   "cell_type": "code",
   "execution_count": 8,
   "metadata": {},
   "outputs": [],
   "source": [
    "result_new = mrf.getEb()\n",
    "logP_new = mrf.getLogP()"
   ]
  },
  {
   "cell_type": "code",
   "execution_count": null,
   "metadata": {},
   "outputs": [],
   "source": [
    "# Import packages\n",
    "import numpy as np\n",
    "import matplotlib.pyplot as plt\n",
    "\n",
    "from fuller_tf_v1.mrfRec import MrfRec as MrfRecv1\n",
    "\n",
    "import os"
   ]
  },
  {
   "cell_type": "code",
   "execution_count": 10,
   "metadata": {},
   "outputs": [],
   "source": [
    "# Create MRF model\n",
    "mrf = MrfRecv1(E=E, kx=kx, ky=ky, I=I, eta=.12)\n",
    "mrf.I_normalized = True"
   ]
  },
  {
   "cell_type": "code",
   "execution_count": 11,
   "metadata": {},
   "outputs": [],
   "source": [
    "# Initialize mrf model with band structure approximation from DFT\n",
    "path_dft = '../data/theory/WSe2_PBEsol_bands.mat'\n",
    "\n",
    "band_index = 4\n",
    "offset = .5\n",
    "k_scale = 1.1\n",
    "\n",
    "kx_dft, ky_dft, E_dft = mrf.loadBandsMat(path_dft)\n",
    "mrf.initializeBand(kx=kx_dft, ky=ky_dft, Eb=E_dft[band_index,...], offset=offset, kScale=k_scale, flipKAxes=True)"
   ]
  },
  {
   "cell_type": "code",
   "execution_count": null,
   "metadata": {},
   "outputs": [],
   "source": [
    "# Run optimization to perform reconstruction\n",
    "eta = .1\n",
    "n_epochs = 150\n",
    "\n",
    "mrf.eta = eta\n",
    "mrf.iter_para(n_epochs, use_gpu=True, updateLogP=True)"
   ]
  },
  {
   "cell_type": "code",
   "execution_count": 13,
   "metadata": {},
   "outputs": [],
   "source": [
    "logPs_old = mrf.logP"
   ]
  },
  {
   "cell_type": "code",
   "execution_count": 14,
   "metadata": {},
   "outputs": [],
   "source": [
    "result_old = mrf.getEb()\n",
    "logP_old = mrf.getLogP()"
   ]
  },
  {
   "cell_type": "code",
   "execution_count": null,
   "metadata": {},
   "outputs": [],
   "source": [
    "np.allclose(result_new, result_old)"
   ]
  },
  {
   "cell_type": "code",
   "execution_count": null,
   "metadata": {},
   "outputs": [],
   "source": [
    "np.allclose(logP_new, logP_old)"
   ]
  },
  {
   "cell_type": "code",
   "execution_count": null,
   "metadata": {},
   "outputs": [],
   "source": [
    "np.allclose(logPs_new, logPs_old)"
   ]
  },
  {
   "cell_type": "code",
   "execution_count": null,
   "metadata": {},
   "outputs": [],
   "source": []
  }
 ],
 "metadata": {
  "kernelspec": {
   "display_name": ".pyenv38",
   "language": "python",
   "name": "python3"
  },
  "language_info": {
   "codemirror_mode": {
    "name": "ipython",
    "version": 3
   },
   "file_extension": ".py",
   "mimetype": "text/x-python",
   "name": "python",
   "nbconvert_exporter": "python",
   "pygments_lexer": "ipython3",
   "version": "3.8.12"
  }
 },
 "nbformat": 4,
 "nbformat_minor": 2
}
