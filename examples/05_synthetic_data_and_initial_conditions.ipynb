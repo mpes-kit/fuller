{
 "cells": [
  {
   "cell_type": "code",
   "execution_count": null,
   "metadata": {},
   "outputs": [],
   "source": [
    "import numpy as np\n",
    "import fuller\n",
    "from mpes import analysis as aly\n",
    "import matplotlib.pyplot as plt\n",
    "from tqdm import tqdm_notebook as tqdm\n",
    "import tifffile as ti\n",
    "import matplotlib as mpl\n",
    "from scipy import interpolate"
   ]
  },
  {
   "cell_type": "code",
   "execution_count": null,
   "metadata": {},
   "outputs": [],
   "source": [
    "from imp import reload\n",
    "reload(fuller)\n",
    "reload(fuller.utils)\n",
    "reload(fuller.generator)"
   ]
  },
  {
   "cell_type": "code",
   "execution_count": null,
   "metadata": {},
   "outputs": [],
   "source": [
    "ncfs = 400\n",
    "bases = fuller.generator.ppz.hexike_basis(nterms=ncfs, npix=208, vertical=True, outside=0)"
   ]
  },
  {
   "cell_type": "code",
   "execution_count": null,
   "metadata": {},
   "outputs": [],
   "source": [
    "# Compute the polynomial decomposition coefficients\n",
    "bandout = np.nan_to_num(fuller.utils.loadHDF(r'.\\wse2_lda_bandcuts.h5')['bands'])\n",
    "bcfs = []\n",
    "for i in tqdm(range(14)):\n",
    "    bcfs.append(fuller.generator.decomposition_hex2d(bandout[i,...] + 0.86813, bases=bases, baxis=0, ret='coeffs'))\n",
    "bcfs = np.array(bcfs)"
   ]
  },
  {
   "cell_type": "code",
   "execution_count": null,
   "metadata": {},
   "outputs": [],
   "source": [
    "plt.imshow(bandout[0,...])"
   ]
  },
  {
   "cell_type": "code",
   "execution_count": null,
   "metadata": {},
   "outputs": [],
   "source": [
    "# Generate Brillouin zone mask\n",
    "bzmsk = fuller.generator.hexmask(hexdiag=208, imside=208, padded=False, margins=[1, 1, 1, 1])\n",
    "bzmsk_tight = fuller.generator.hexmask(hexdiag=202, imside=208, padded=True, margins=[3, 3, 3, 3])"
   ]
  },
  {
   "cell_type": "code",
   "execution_count": null,
   "metadata": {},
   "outputs": [],
   "source": [
    "nbands = 8"
   ]
  },
  {
   "cell_type": "code",
   "execution_count": null,
   "metadata": {},
   "outputs": [],
   "source": [
    "# Generate photoemission data without padding\n",
    "bshape = (208, 208)\n",
    "amps = np.ones(bshape)\n",
    "xs = np.linspace(-4.5, 0.5, 280, endpoint=True)\n",
    "syndat = np.zeros((280, 208, 208))\n",
    "gamss = []\n",
    "for i in tqdm(range(nbands)):\n",
    "    gams = 0.05\n",
    "    syndat += aly.voigt(feval=True, vardict={'amp':amps, 'xvar':xs[:,None,None], 'ctr':(bandout[i,...] + 0.86813),\n",
    "                                        'sig':0.1, 'gam':gams})"
   ]
  },
  {
   "cell_type": "code",
   "execution_count": null,
   "metadata": {},
   "outputs": [],
   "source": [
    "# Generate edge-padded bands\n",
    "synfbands = []\n",
    "padsize = ((24, 24), (24, 24))\n",
    "for i in tqdm(range(nbands)): \n",
    "    impad = fuller.generator.hexpad(bandout[i,...] + 0.86813, cvd=104, mask=bzmsk, edgepad=padsize)\n",
    "    synfbands.append(fuller.generator.restore(impad, method='cubic'))\n",
    "synfbands = np.asarray(synfbands)"
   ]
  },
  {
   "cell_type": "code",
   "execution_count": null,
   "metadata": {},
   "outputs": [],
   "source": [
    "# Generate edge-padded photoemission data\n",
    "bshape = (256, 256)\n",
    "amps = np.ones(bshape)\n",
    "xs = np.linspace(-4.5, 0.5, 280, endpoint=True)\n",
    "synfdat = np.zeros((280, 256, 256))\n",
    "gamss = []\n",
    "for i in tqdm(range(nbands)):\n",
    "#     btemp = np.nan_to_num(synbands[i,...])\n",
    "#     gams = np.abs(synfbands[i,...] - np.nanmean(synfbands[i,...]))/3\n",
    "    gams = 0.05\n",
    "#     gamss.append(gams)\n",
    "    synfdat += aly.voigt(feval=True, vardict={'amp':amps, 'xvar':xs[:,None,None], 'ctr':(synfbands[i,...]),\n",
    "                                        'sig':0.1, 'gam':gams})\n",
    "# gamss = np.asarray(gamss)"
   ]
  },
  {
   "cell_type": "code",
   "execution_count": null,
   "metadata": {},
   "outputs": [],
   "source": [
    "xss = np.linspace(-4.5, 0.5, 280, endpoint=True)\n",
    "xss[1] - xss[0], xss.size"
   ]
  },
  {
   "cell_type": "code",
   "execution_count": null,
   "metadata": {},
   "outputs": [],
   "source": [
    "plt.imshow(synfdat[:,80,:], aspect=0.5, origin='lower', cmap='terrain_r')"
   ]
  },
  {
   "cell_type": "code",
   "execution_count": null,
   "metadata": {},
   "outputs": [],
   "source": [
    "# Generate mask for large coefficients\n",
    "cfmask = bcfs.copy()\n",
    "cfmask[np.abs(cfmask) >= 1e-2] = 1.\n",
    "cfmask[np.abs(cfmask) < 1e-2] = 0\n",
    "cfmask[:, 0] = 0 # No rigid shift modulation"
   ]
  },
  {
   "cell_type": "code",
   "execution_count": null,
   "metadata": {},
   "outputs": [],
   "source": [
    "# Generate coefficient-scaled data\n",
    "synfscaled = {}\n",
    "errs = np.around(np.arange(0.3, 2.01, 0.05), 2)\n",
    "bscmod = bcfs.copy()\n",
    "\n",
    "for err in tqdm(errs):\n",
    "    \n",
    "    synbands = []\n",
    "    for i in range(nbands):\n",
    "        \n",
    "        bscmod[i, 1:] = err*bcfs[i, 1:] # Scale only the dispersion terms (leave out the first offset term)\n",
    "        bandmod = fuller.generator.reconstruction_hex2d(bscmod[i, :], bases=bases)\n",
    "        \n",
    "        # Sixfold rotational symmetrization\n",
    "        symmed = fuller.generator.rotosymmetrize(bandmod, center=(104, 104), rotsym=6)[0]\n",
    "        symmed = fuller.generator.reflectosymmetrize(symmed, center=(104, 104), refangles=[0, 90])\n",
    "        padded = fuller.generator.hexpad(symmed, cvd=104, mask=bzmsk_tight, edgepad=padsize)\n",
    "        synbands.append(fuller.generator.restore(padded, method='nearest'))\n",
    "    \n",
    "    synfscaled[str(err)] = np.asarray(synbands)"
   ]
  },
  {
   "cell_type": "code",
   "execution_count": null,
   "metadata": {},
   "outputs": [],
   "source": [
    "plt.figure(figsize=(8, 8))\n",
    "plt.imshow(synbands[0])"
   ]
  },
  {
   "cell_type": "code",
   "execution_count": null,
   "metadata": {},
   "outputs": [],
   "source": [
    "# Generate coefficient-perturbed data\n",
    "synfperturbed = {}\n",
    "noizamp = 0.02\n",
    "# noizamps = np.asarray([5e-3, 1e-2, 2.5e-2, 5e-2, 7.5e-2, 1e-1, 2.5e-1, 5e-1])\n",
    "bscmod = bcfs.copy()\n",
    "\n",
    "for si in tqdm(range(nbands)):\n",
    "    \n",
    "    # Generate random perturbation to the coefficients\n",
    "    np.random.seed(si)\n",
    "    noiz = fuller.utils.coeffgen((nbands, 400), amp=noizamp, distribution='uniform', modulation='exp',\n",
    "                                 mask=cfmask[:nbands,:], low=-1, high=1)\n",
    "    bscmod[:nbands, 1:] += noiz[:, 1:]\n",
    "    \n",
    "    synbands = []\n",
    "    for i in range(nbands):\n",
    "        bandmod = fuller.generator.reconstruction_hex2d(noiz[i, :], bases=bases)*bzmsk\n",
    "        bandmod += bandout[i,...]\n",
    "        \n",
    "        # Sixfold rotational symmetrization\n",
    "        symmed = fuller.generator.rotosymmetrize(bandmod, center=(104, 104), rotsym=6)[0]\n",
    "        symmed = fuller.generator.reflectosymmetrize(symmed, center=(104, 104), refangles=[0, 90])*bzmsk_tight\n",
    "        padded = fuller.generator.hexpad(symmed, cvd=104, mask=bzmsk_tight, edgepad=padsize)\n",
    "        synbands.append(fuller.generator.restore(padded, method='nearest'))\n",
    "    \n",
    "    synfperturbed[str(si).zfill(2)] = np.asarray(synbands)"
   ]
  },
  {
   "cell_type": "code",
   "execution_count": null,
   "metadata": {},
   "outputs": [],
   "source": [
    "plt.figure(figsize=(8, 8))\n",
    "plt.imshow(synbands[0])"
   ]
  },
  {
   "cell_type": "code",
   "execution_count": null,
   "metadata": {},
   "outputs": [],
   "source": [
    "# Generate coefficient-perturbed data\n",
    "synfperturbed2 = {}\n",
    "noizamp = 0.05\n",
    "# noizamps = np.asarray([5e-3, 1e-2, 2.5e-2, 5e-2, 7.5e-2, 1e-1, 2.5e-1, 5e-1])\n",
    "bscmod = bcfs.copy()\n",
    "\n",
    "for si in tqdm(range(nbands)):\n",
    "    \n",
    "    # Generate random perturbation to the coefficients\n",
    "    np.random.seed(si)\n",
    "    noiz = fuller.utils.coeffgen((nbands, 400), amp=noizamp, distribution='uniform', modulation='exp',\n",
    "                                 mask=cfmask[:nbands,:], low=-1, high=1)\n",
    "    bscmod[:nbands, 1:] += noiz[:, 1:]\n",
    "    \n",
    "    synbands = []\n",
    "    for i in range(nbands):\n",
    "        bandmod = fuller.generator.reconstruction_hex2d(noiz[i, :], bases=bases)*bzmsk\n",
    "        bandmod += bandout[i,...]\n",
    "        \n",
    "        # Sixfold rotational symmetrization\n",
    "        symmed = fuller.generator.rotosymmetrize(bandmod, (104, 104), rotsym=6)[0]\n",
    "        symmed = fuller.generator.reflectosymmetrize(symmed, center=(104, 104), refangles=[0, 90])*bzmsk_tight\n",
    "        padded = fuller.generator.hexpad(symmed, cvd=104, mask=bzmsk_tight, edgepad=padsize)\n",
    "        synbands.append(fuller.generator.restore(padded, method='nearest'))\n",
    "    \n",
    "    synfperturbed2[str(si).zfill(2)] = np.asarray(synbands)"
   ]
  },
  {
   "cell_type": "code",
   "execution_count": null,
   "metadata": {},
   "outputs": [],
   "source": [
    "fuller.utils.saveHDF(*[['data', {'bands':bandout[:8,...], 'bands_padded':synfbands, 'mpes':syndat, 'mpes_padded':synfdat}],\n",
    "                       ['estimates_amp_tuning_padded', synfscaled], \n",
    "                       ['estimates_amp=0.02', synfperturbed], ['estimates_amp=0.05', synfperturbed2],\n",
    "                       ['params', {'coeffs':bcfs, 'basis':bases, 'E':xs, 'amps':amps, 'sig':0.1, 'gam':gams,\n",
    "                        'kx':axes['axes'][0], 'ky':axes['axes'][1], 'mask':bzmsk, 'mask_tight':bzmsk_tight}]],\n",
    "                     save_addr=r'./synth_data_test_004_WSe2_LDA_top8.h5')"
   ]
  },
  {
   "cell_type": "code",
   "execution_count": null,
   "metadata": {},
   "outputs": [],
   "source": [
    "# Calibrate momentum axes\n",
    "mc = aly.MomentumCorrector(np.asarray(synbands))"
   ]
  },
  {
   "cell_type": "code",
   "execution_count": null,
   "metadata": {},
   "outputs": [],
   "source": [
    "mc.selectSlice2D(selector=slice(0,1), axis=0)\n",
    "mc.view(mc.slice)"
   ]
  },
  {
   "cell_type": "code",
   "execution_count": null,
   "metadata": {},
   "outputs": [],
   "source": [
    "mc.featureExtract(mc.slice, method='daofind', fwhm=30, sigma=20)"
   ]
  },
  {
   "cell_type": "code",
   "execution_count": null,
   "metadata": {},
   "outputs": [],
   "source": [
    "mc.view(mc.slice, annotated=True, points=mc.features)"
   ]
  },
  {
   "cell_type": "code",
   "execution_count": null,
   "metadata": {},
   "outputs": [],
   "source": [
    "# Calculate distances\n",
    "dg = 1.64/np.cos(np.radians(30))\n",
    "dg"
   ]
  },
  {
   "cell_type": "code",
   "execution_count": null,
   "metadata": {},
   "outputs": [],
   "source": [
    "axes = mc.calibrate(mc.slice, mc.pouter_ord[0,:], mc.pcent, dist=dg, equiscale=True, ret='axes')"
   ]
  },
  {
   "cell_type": "code",
   "execution_count": null,
   "metadata": {},
   "outputs": [],
   "source": [
    "axes['axes'][0][0], axes['axes'][0][-1]"
   ]
  },
  {
   "cell_type": "code",
   "execution_count": null,
   "metadata": {},
   "outputs": [],
   "source": []
  }
 ],
 "metadata": {
  "kernelspec": {
   "display_name": ".pyenv38",
   "language": "python",
   "name": "python3"
  },
  "language_info": {
   "codemirror_mode": {
    "name": "ipython",
    "version": 3
   },
   "file_extension": ".py",
   "mimetype": "text/x-python",
   "name": "python",
   "nbconvert_exporter": "python",
   "pygments_lexer": "ipython3",
   "version": "3.8.12"
  }
 },
 "nbformat": 4,
 "nbformat_minor": 2
}
