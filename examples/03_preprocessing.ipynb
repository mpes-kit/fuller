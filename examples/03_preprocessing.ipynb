{
 "cells": [
  {
   "cell_type": "markdown",
   "metadata": {
    "collapsed": true
   },
   "source": [
    "# Illustration of the preprocessing steps"
   ]
  },
  {
   "cell_type": "code",
   "execution_count": null,
   "metadata": {},
   "outputs": [],
   "source": [
    "# Import packages\n",
    "import numpy as np\n",
    "import tensorflow as tf\n",
    "import matplotlib.pyplot as plt\n",
    "\n",
    "from fuller.mrfRec import MrfRec\n",
    "from fuller.generator import rotosymmetrize\n",
    "from fuller.utils import saveHDF\n",
    "\n",
    "from mpes import fprocessing as fp\n",
    "\n",
    "import os"
   ]
  },
  {
   "cell_type": "code",
   "execution_count": null,
   "metadata": {},
   "outputs": [],
   "source": [
    "data_path = '../' # Put in Path to a storage of at least 20 Gbyte free space.\n",
    "if not os.path.exists(data_path + \"/data.zip\"):\n",
    "    os.system(f\"curl -L --output {data_path}/data.zip https://zenodo.org/records/7314278/files/data.zip\")\n",
    "if not os.path.isdir(data_path + \"/data\"):\n",
    "    os.system(f\"unzip -d {data_path} -o {data_path}/data\")"
   ]
  },
  {
   "cell_type": "code",
   "execution_count": null,
   "metadata": {},
   "outputs": [],
   "source": [
    "# Load data\n",
    "data = fp.readBinnedhdf5('../data/pes/0_binned.h5')\n",
    "I = data['V']\n",
    "E = data['E']\n",
    "kx = data['kx']\n",
    "ky = data['ky']\n",
    "\n",
    "# Create reconstruction object from data file\n",
    "mrf = MrfRec(E=E, kx=kx, ky=ky, I=I)\n",
    "I_raw = I.copy()\n",
    "\n",
    "# Set plot folder\n",
    "plot_dir = 'plots'"
   ]
  },
  {
   "cell_type": "code",
   "execution_count": null,
   "metadata": {},
   "outputs": [],
   "source": [
    "# Create function for plotting\n",
    "def plot_slices(mrf, plot_dir, prefix):\n",
    "    # ky sice\n",
    "    mrf.plotI(ky=0., cmapName=\"coolwarm\")\n",
    "    plt.xlim((-1.65, 1.65))\n",
    "    plt.ylim((-8.5, 0.5))\n",
    "    plt.savefig(plot_dir + '/' + prefix + '_ky_slice.png', dpi=300)\n",
    "\n",
    "    # kx sice\n",
    "    mrf.plotI(kx=0., cmapName=\"coolwarm\")\n",
    "    plt.xlim((-1.65, 1.65))\n",
    "    plt.ylim((-8.5, 0.5))\n",
    "    plt.savefig(plot_dir + '/' + prefix + '_kx_slice.png', dpi=300)\n",
    "\n",
    "    # ky sice\n",
    "    mrf.plotI(E=-1.2, cmapName=\"coolwarm\", equal_axes=True, figsize=(9, 7.5))\n",
    "    plt.xlim((-1.65, 1.65))\n",
    "    plt.ylim((-1.65, 1.65))\n",
    "    plt.tight_layout()\n",
    "    plt.savefig(plot_dir + '/' + prefix + '_E_slice.png', dpi=300)"
   ]
  },
  {
   "cell_type": "markdown",
   "metadata": {},
   "source": [
    "## Plot raw data"
   ]
  },
  {
   "cell_type": "code",
   "execution_count": null,
   "metadata": {
    "scrolled": false
   },
   "outputs": [],
   "source": [
    "plot_slices(mrf, plot_dir, 'raw')"
   ]
  },
  {
   "cell_type": "markdown",
   "metadata": {},
   "source": [
    "## Rotational symmetrization"
   ]
  },
  {
   "cell_type": "code",
   "execution_count": null,
   "metadata": {},
   "outputs": [],
   "source": [
    "mrf.symmetrizeI(mirror=False)\n",
    "plot_slices(mrf, plot_dir, 'sym_rot')"
   ]
  },
  {
   "cell_type": "markdown",
   "metadata": {},
   "source": [
    "## Mirror symetrization"
   ]
  },
  {
   "cell_type": "code",
   "execution_count": null,
   "metadata": {},
   "outputs": [],
   "source": [
    "mrf.symmetrizeI(rotational=False)\n",
    "plot_slices(mrf, plot_dir, 'sym_mir')"
   ]
  },
  {
   "cell_type": "markdown",
   "metadata": {},
   "source": [
    "## Normalization using clahe"
   ]
  },
  {
   "cell_type": "code",
   "execution_count": null,
   "metadata": {
    "scrolled": false
   },
   "outputs": [],
   "source": [
    "mrf.normalizeI(kernel_size=(30, 30, 40), n_bins=256, clip_limit=0.1, use_gpu=True)\n",
    "plot_slices(mrf, plot_dir, 'clahe')"
   ]
  },
  {
   "cell_type": "markdown",
   "metadata": {},
   "source": [
    "## Smoothing using Gaussian filter"
   ]
  },
  {
   "cell_type": "code",
   "execution_count": null,
   "metadata": {},
   "outputs": [],
   "source": [
    "mrf.smoothenI(sigma=(.8, .8, 1.))\n",
    "plot_slices(mrf, plot_dir, 'smooth')"
   ]
  },
  {
   "cell_type": "markdown",
   "metadata": {},
   "source": [
    "## Save preprocessed dataset"
   ]
  },
  {
   "cell_type": "code",
   "execution_count": null,
   "metadata": {
    "pycharm": {
     "name": "#%%\n"
    }
   },
   "outputs": [],
   "source": [
    "data_save = [['axes', {'E': mrf.E, 'kx': mrf.kx, 'ky': mrf.ky}], ['binned', {'V': mrf.I}]]\n",
    "saveHDF(*data_save, save_addr='./WSe2_preprocessed.h5')"
   ]
  },
  {
   "cell_type": "code",
   "execution_count": null,
   "metadata": {},
   "outputs": [],
   "source": []
  }
 ],
 "metadata": {
  "kernelspec": {
   "display_name": ".pyenv38",
   "language": "python",
   "name": "python3"
  },
  "language_info": {
   "codemirror_mode": {
    "name": "ipython",
    "version": 3
   },
   "file_extension": ".py",
   "mimetype": "text/x-python",
   "name": "python",
   "nbconvert_exporter": "python",
   "pygments_lexer": "ipython3",
   "version": "3.8.12"
  },
  "pycharm": {
   "stem_cell": {
    "cell_type": "raw",
    "metadata": {
     "collapsed": false
    },
    "source": []
   }
  }
 },
 "nbformat": 4,
 "nbformat_minor": 1
}
