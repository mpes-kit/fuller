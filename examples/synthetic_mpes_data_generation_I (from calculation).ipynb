{
 "cells": [
  {
   "cell_type": "code",
   "execution_count": null,
   "metadata": {},
   "outputs": [],
   "source": [
    "import numpy as np\n",
    "import fuller\n",
    "from fuller import generator\n",
    "import scipy.io as sio\n",
    "from mpes import analysis as aly\n",
    "from symmetrize import pointops as po\n",
    "import matplotlib.pyplot as plt"
   ]
  },
  {
   "cell_type": "code",
   "execution_count": null,
   "metadata": {},
   "outputs": [],
   "source": [
    "from imp import reload\n",
    "reload(fuller)\n",
    "reload(fuller.utils)\n",
    "reload(fuller.generator)"
   ]
  },
  {
   "cell_type": "code",
   "execution_count": null,
   "metadata": {},
   "outputs": [],
   "source": [
    "fth = r'../theory'"
   ]
  },
  {
   "cell_type": "code",
   "execution_count": null,
   "metadata": {},
   "outputs": [],
   "source": [
    "bsth = sio.loadmat(fth + r'/WSe2_DFT_BandStructure.mat')\n",
    "bsth.keys()"
   ]
  },
  {
   "cell_type": "code",
   "execution_count": null,
   "metadata": {},
   "outputs": [],
   "source": [
    "plt.pcolormesh(bsth['kxx'], bsth['kyy'], bsth['evb'][0,...])"
   ]
  },
  {
   "cell_type": "code",
   "execution_count": null,
   "metadata": {},
   "outputs": [],
   "source": [
    "nr, nc = bsth['kxx'].shape\n",
    "kxvals = bsth['kxx'][:,0]\n",
    "kyvals = bsth['kyy'][0,:]\n",
    "xlen, ylen = 256, int(256/(nr/nc))\n",
    "ofs = (xlen - ylen) // 2"
   ]
  },
  {
   "cell_type": "code",
   "execution_count": null,
   "metadata": {},
   "outputs": [],
   "source": [
    "bandaug, _, [kxx, kyy] = fuller.utils.interpolate2d(kxvals, kyvals, bsth['evb'][0,...], xlen, ylen, ret='all')"
   ]
  },
  {
   "cell_type": "code",
   "execution_count": null,
   "metadata": {
    "scrolled": true
   },
   "outputs": [],
   "source": [
    "plt.pcolormesh(kxx, kyy, bandaug)"
   ]
  },
  {
   "cell_type": "markdown",
   "metadata": {},
   "source": [
    "### Detect landmarks"
   ]
  },
  {
   "cell_type": "code",
   "execution_count": null,
   "metadata": {},
   "outputs": [],
   "source": [
    "mc = aly.MomentumCorrector(image=bandaug)\n",
    "mc.slice = mc.image\n",
    "mc.featureExtract(image=mc.image, direction='ccw', method='daofind', sigma=15, fwhm=30)\n",
    "mc.view(mc.image, points=mc.features, annotated=True, cmap='viridis')"
   ]
  },
  {
   "cell_type": "code",
   "execution_count": null,
   "metadata": {},
   "outputs": [],
   "source": [
    "mc.pouter_ord[0,:] - mc.pouter_ord[3,:]"
   ]
  },
  {
   "cell_type": "markdown",
   "metadata": {},
   "source": [
    "### Synthesize artificial MPES data within the first Brillouin zone"
   ]
  },
  {
   "cell_type": "code",
   "execution_count": null,
   "metadata": {},
   "outputs": [],
   "source": [
    "hm, margins = fuller.generator.hexmask(hexside=170, imside=256, padded=True, pad_left=43, pad_top=43, ret='all')\n",
    "plt.imshow(hm[:,ofs:-ofs]*bandaug)\n",
    "plt.scatter(mc.pouter_ord[:,1], mc.pouter_ord[:,0])"
   ]
  },
  {
   "cell_type": "code",
   "execution_count": null,
   "metadata": {},
   "outputs": [],
   "source": [
    "bandcut = cut_margins(bandaug, margins, offsetx=ofs)\n",
    "hmcut = cut_margins(hm, margins)\n",
    "bandhm = bandcut*hmcut\n",
    "plt.imshow(bandhm)"
   ]
  },
  {
   "cell_type": "code",
   "execution_count": null,
   "metadata": {},
   "outputs": [],
   "source": [
    "bandhm_dmean = np.nan_to_num(bandhm - np.nanmean(bandhm))\n",
    "bcf = fuller.generator.decomposition_hex2d(bandhm_dmean, nterms=400)"
   ]
  },
  {
   "cell_type": "code",
   "execution_count": null,
   "metadata": {},
   "outputs": [],
   "source": [
    "plt.plot(bcf)"
   ]
  },
  {
   "cell_type": "code",
   "execution_count": null,
   "metadata": {},
   "outputs": [],
   "source": [
    "dg = fuller.generator.MPESDataGenerator()"
   ]
  },
  {
   "cell_type": "code",
   "execution_count": null,
   "metadata": {},
   "outputs": [],
   "source": []
  },
  {
   "cell_type": "code",
   "execution_count": null,
   "metadata": {},
   "outputs": [],
   "source": []
  },
  {
   "cell_type": "markdown",
   "metadata": {},
   "source": [
    "### Simulate DFT error in initial estimates"
   ]
  },
  {
   "cell_type": "code",
   "execution_count": null,
   "metadata": {},
   "outputs": [],
   "source": []
  },
  {
   "cell_type": "code",
   "execution_count": null,
   "metadata": {},
   "outputs": [],
   "source": []
  },
  {
   "cell_type": "code",
   "execution_count": null,
   "metadata": {},
   "outputs": [],
   "source": []
  }
 ],
 "metadata": {
  "kernelspec": {
   "display_name": "Python 3",
   "language": "python",
   "name": "python3"
  },
  "language_info": {
   "codemirror_mode": {
    "name": "ipython",
    "version": 3
   },
   "file_extension": ".py",
   "mimetype": "text/x-python",
   "name": "python",
   "nbconvert_exporter": "python",
   "pygments_lexer": "ipython3",
   "version": "3.6.4"
  }
 },
 "nbformat": 4,
 "nbformat_minor": 2
}
