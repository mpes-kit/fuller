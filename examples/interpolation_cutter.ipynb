{
 "cells": [
  {
   "cell_type": "code",
   "execution_count": null,
   "metadata": {},
   "outputs": [],
   "source": [
    "import numpy as np\n",
    "import fuller\n",
    "import scipy.io as sio\n",
    "from mpes import fprocessing as fp, analysis as aly\n",
    "import matplotlib.pyplot as plt"
   ]
  },
  {
   "cell_type": "code",
   "execution_count": null,
   "metadata": {},
   "outputs": [],
   "source": [
    "from imp import reload\n",
    "reload(aly)"
   ]
  },
  {
   "cell_type": "code",
   "execution_count": null,
   "metadata": {},
   "outputs": [],
   "source": [
    "bm = fp.readBinnedhdf5('..\\data\\WSe2_256x256x1024_fullrange_rotsym.h5')"
   ]
  },
  {
   "cell_type": "code",
   "execution_count": null,
   "metadata": {},
   "outputs": [],
   "source": [
    "bm['V'].shape"
   ]
  },
  {
   "cell_type": "code",
   "execution_count": null,
   "metadata": {},
   "outputs": [],
   "source": [
    "emax, emin = -bm['E'][::-1][0], -bm['E'][::-1][499]\n",
    "emax, emin"
   ]
  },
  {
   "cell_type": "code",
   "execution_count": null,
   "metadata": {},
   "outputs": [],
   "source": [
    "mc = aly.MomentumCorrector(bm['V'])"
   ]
  },
  {
   "cell_type": "code",
   "execution_count": null,
   "metadata": {},
   "outputs": [],
   "source": [
    "mc.selectSlice2D(slice(30, 38), axis=2)\n",
    "mc.view(mci.slice)\n",
    "plt.axvline(x=129)"
   ]
  },
  {
   "cell_type": "code",
   "execution_count": null,
   "metadata": {},
   "outputs": [],
   "source": [
    "mc.featureExtract(mc.slice, method='daofind', sigma=4, fwhm=7, sigma_radius=2)\n",
    "mc.view(mc.slice, annotated=True, points=mc.features)"
   ]
  },
  {
   "cell_type": "code",
   "execution_count": null,
   "metadata": {},
   "outputs": [],
   "source": [
    "G = mc.pcent\n",
    "K = mc.pouter_ord[0,:]\n",
    "M = mc.pouter_ord[:2,:].mean(axis=0)"
   ]
  },
  {
   "cell_type": "code",
   "execution_count": null,
   "metadata": {},
   "outputs": [],
   "source": [
    "rpts = np.asarray([G[0], M[0], K[0], G[0]])\n",
    "cpts = np.asarray([G[1], M[1], K[1], G[1]])\n",
    "rr, cc, ids = aly.points2path(rpts, cpts, npoints=[40, 32, 50])"
   ]
  },
  {
   "cell_type": "code",
   "execution_count": null,
   "metadata": {},
   "outputs": [],
   "source": [
    "paths = np.concatenate((rr, cc, np.ones((120, 1))), axis=1)\n",
    "bc = aly.bandpath_map(bm['V'][:,:,:500], pathr=rr, pathc=cc, eaxis=2)"
   ]
  },
  {
   "cell_type": "code",
   "execution_count": null,
   "metadata": {},
   "outputs": [],
   "source": [
    "plt.figure(figsize=(10,8))\n",
    "plt.imshow(bc, cmap='terrain_r', aspect=10, extent=[0, 119, emin, emax])"
   ]
  },
  {
   "cell_type": "code",
   "execution_count": null,
   "metadata": {},
   "outputs": [],
   "source": [
    "from skimage.exposure import equalize_adapthist"
   ]
  },
  {
   "cell_type": "code",
   "execution_count": null,
   "metadata": {},
   "outputs": [],
   "source": [
    "bceq = equalize_adapthist(bc/100, kernel_size=(20, 12), clip_limit=0.015)"
   ]
  },
  {
   "cell_type": "code",
   "execution_count": null,
   "metadata": {},
   "outputs": [],
   "source": [
    "f, ax = plt.subplots(figsize=(10,8))\n",
    "plt.imshow(bceq, cmap='terrain_r', aspect=9, extent=[0, 119, emin, emax])\n",
    "for j in range(len(ids)):\n",
    "    plt.axvline(ids[j], ls='--', dashes=(5, 5), color='r', lw=2)\n",
    "# plt.xticks([])\n",
    "plt.tick_params(labelsize=15)\n",
    "plt.xlim([ids[0], ids[-1]-1])\n",
    "plt.ylabel('Binding energy (eV)', fontsize=15)\n",
    "ax.set_xticks([  0,  39,  70, 119])\n",
    "ax.set_xticklabels(['$\\Gamma$', 'M', 'K', '$\\Gamma$']);\n",
    "# plt.savefig('WSe2_Comparison_ExperimentSym_TheoryLDA_Ramp.pdf', bbox_inches='tight', dpi=300)"
   ]
  },
  {
   "cell_type": "code",
   "execution_count": null,
   "metadata": {},
   "outputs": [],
   "source": [
    "dicta = [['data', {'cut':bc, 'cut_clahe':bceq}]]\n",
    "fuller.utils.saveHDF(*dicta, save_addr=r'.\\WSe2_BZSymLineCut.h5')"
   ]
  },
  {
   "cell_type": "code",
   "execution_count": null,
   "metadata": {},
   "outputs": [],
   "source": []
  }
 ],
 "metadata": {
  "kernelspec": {
   "display_name": "Python 3",
   "language": "python",
   "name": "python3"
  },
  "language_info": {
   "codemirror_mode": {
    "name": "ipython",
    "version": 3
   },
   "file_extension": ".py",
   "mimetype": "text/x-python",
   "name": "python",
   "nbconvert_exporter": "python",
   "pygments_lexer": "ipython3",
   "version": "3.6.4"
  }
 },
 "nbformat": 4,
 "nbformat_minor": 2
}
