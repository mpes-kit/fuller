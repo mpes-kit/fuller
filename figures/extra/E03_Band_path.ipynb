{
 "cells": [
  {
   "cell_type": "markdown",
   "metadata": {},
   "source": [
    "## Slice the band mapping or band structure data along certain high-symmetry lines\n",
    "The following demo relates to the software package [mpes](https://github.com/mpes-kit/mpes/), which contains the functionality for making band path figures"
   ]
  },
  {
   "cell_type": "code",
   "execution_count": null,
   "metadata": {},
   "outputs": [],
   "source": [
    "import warnings as wn\n",
    "wn.filterwarnings(\"ignore\")\n",
    "\n",
    "import numpy as np\n",
    "import fuller\n",
    "import matplotlib.pyplot as plt\n",
    "import matplotlib as mpl\n",
    "from mpes import analysis as aly, fprocessing as fp\n",
    "from matplotlib.ticker import MultipleLocator, FormatStrFormatter\n",
    "%matplotlib inline"
   ]
  },
  {
   "cell_type": "code",
   "execution_count": null,
   "metadata": {},
   "outputs": [],
   "source": [
    "mpl.rcParams['font.family'] = 'sans-serif'\n",
    "mpl.rcParams['font.sans-serif'] = 'Arial'\n",
    "mpl.rcParams['axes.linewidth'] = 2\n",
    "mpl.rcParams['pdf.fonttype'] = 42\n",
    "mpl.rcParams['ps.fonttype'] = 42"
   ]
  },
  {
   "cell_type": "code",
   "execution_count": null,
   "metadata": {},
   "outputs": [],
   "source": [
    "# Load photoemission data files\n",
    "fdir = r'../../data/pes'\n",
    "files = fuller.utils.findFiles(fdir, fstring='/*', ftype='h5')\n",
    "fdata = fp.readBinnedhdf5(files[1])\n",
    "mc = aly.MomentumCorrector(fdata['V'])"
   ]
  },
  {
   "cell_type": "code",
   "execution_count": null,
   "metadata": {},
   "outputs": [],
   "source": [
    "mc.selectSlice2D(selector=slice(30, 32), axis=2)\n",
    "mc.featureExtract(mc.slice, method='daofind', sigma=6, fwhm=20, symscores=False)\n",
    "\n",
    "# False detection filter, if needed\n",
    "try:\n",
    "    mc.pouter_ord = mc.pouter_ord[[0,1,3,5,6,9],:]\n",
    "except:\n",
    "    pass"
   ]
  },
  {
   "cell_type": "code",
   "execution_count": null,
   "metadata": {},
   "outputs": [],
   "source": [
    "mc.view(image=mc.slice, annotated=True, points=mc.features)"
   ]
  },
  {
   "cell_type": "code",
   "execution_count": null,
   "metadata": {},
   "outputs": [],
   "source": [
    "# Define high-symmetry points\n",
    "G = mc.pcent # Gamma point\n",
    "K = mc.pouter_ord[0,:] # K point\n",
    "K1 = mc.pouter_ord[1,:] # K' point\n",
    "M = (K + K1) / 2 # M point\n",
    "\n",
    "# Define cutting path\n",
    "pathPoints = np.asarray([G, M, K, G])\n",
    "nGM, nMK, nKG = 70, 39, 79\n",
    "segPoints = [nGM, nMK, nKG]\n",
    "rowInds, colInds, pathInds = aly.points2path(pathPoints[:,0], pathPoints[:,1], npoints=segPoints)\n",
    "nSegPoints = len(rowInds)\n",
    "\n",
    "# Normalize data\n",
    "imNorm = fdata['V'] / fdata['V'].max()\n",
    "\n",
    "# Sample the data along high-symmetry lines (k-path) connecting the corresponding high-symmetry points\n",
    "pathDiagram = aly.bandpath_map(imNorm, pathr=rowInds, pathc=colInds, eaxis=2)"
   ]
  },
  {
   "cell_type": "code",
   "execution_count": null,
   "metadata": {},
   "outputs": [],
   "source": [
    "Evals = fdata['E']\n",
    "ehi, elo = Evals[0], Evals[469]\n",
    "\n",
    "f, ax = plt.subplots(figsize=(10, 6))\n",
    "plt.imshow(pathDiagram[:470, :], cmap='Blues', aspect=10.9, extent=[0, nSegPoints, elo, ehi], vmin=0, vmax=0.5)\n",
    "ax.set_xticks(pathInds)\n",
    "ax.set_xticklabels(['$\\overline{\\Gamma}$', '$\\overline{\\mathrm{M}}$',\n",
    "                    '$\\overline{\\mathrm{K}}$', '$\\overline{\\Gamma}$'], fontsize=15)\n",
    "for p in pathInds[:-1]:\n",
    "    ax.axvline(x=p, c='r', ls='--', lw=2, dashes=[4, 2])\n",
    "# ax.axhline(y=0, ls='--', color='r', lw=2)\n",
    "ax.yaxis.set_major_locator(MultipleLocator(2))\n",
    "ax.yaxis.set_minor_locator(MultipleLocator(1))\n",
    "ax.yaxis.set_label_position(\"right\")\n",
    "ax.yaxis.tick_right()\n",
    "ax.set_ylabel('Energy (eV)', fontsize=15, rotation=-90, labelpad=20)\n",
    "ax.tick_params(axis='x', length=0, pad=6)\n",
    "ax.tick_params(which='both', axis='y', length=8, width=2, labelsize=15)"
   ]
  }
 ],
 "metadata": {
  "kernelspec": {
   "display_name": "Python 3",
   "language": "python",
   "name": "python3"
  },
  "language_info": {
   "codemirror_mode": {
    "name": "ipython",
    "version": 3
   },
   "file_extension": ".py",
   "mimetype": "text/x-python",
   "name": "python",
   "nbconvert_exporter": "python",
   "pygments_lexer": "ipython3",
   "version": "3.7.3"
  }
 },
 "nbformat": 4,
 "nbformat_minor": 2
}
