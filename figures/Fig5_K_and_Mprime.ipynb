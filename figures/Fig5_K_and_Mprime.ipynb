{
 "cells": [
  {
   "cell_type": "markdown",
   "metadata": {},
   "source": [
    "## Compare reconstructed and refined band patches around high-symmetry points"
   ]
  },
  {
   "cell_type": "code",
   "execution_count": null,
   "metadata": {},
   "outputs": [],
   "source": [
    "import warnings as wn\n",
    "wn.filterwarnings(\"ignore\")\n",
    "\n",
    "import os\n",
    "import numpy as np\n",
    "from mpes import analysis as aly\n",
    "import matplotlib as mpl\n",
    "import matplotlib.pyplot as plt\n",
    "from mpl_toolkits.axes_grid1.inset_locator import inset_axes\n",
    "%matplotlib inline"
   ]
  },
  {
   "cell_type": "code",
   "execution_count": null,
   "metadata": {},
   "outputs": [],
   "source": [
    "mpl.rcParams['font.family'] = 'sans-serif'\n",
    "mpl.rcParams['font.sans-serif'] = 'Arial'\n",
    "mpl.rcParams['axes.linewidth'] = 2\n",
    "mpl.rcParams['pdf.fonttype'] = 42\n",
    "mpl.rcParams['ps.fonttype'] = 42\n",
    "\n",
    "colornames = ['#646464', '#666666', '#6a6a6a', '#6f6f6f', '#737373', '#787878', '#7d7d7d', '#828282', '#878787', '#8d8d8d', '#929292', '#989898', '#9e9e9e', '#a4a4a4', '#aaaaaa', '#b0b0b0', '#b6b6b6', '#bcbcbc', '#c2c2c2', '#c9c9c9', '#cfcfcf', '#d6d6d6', '#dcdcdc', '#e3e3e3', '#eaeaea', '#efefee', '#efeee5', '#efeddc', '#efecd3', '#eeebca', '#eeeac0', '#eee9b7', '#eee8ad', '#ede7a4', '#ede69a', '#ede590', '#ede487', '#ece37d', '#ece273', '#ece069', '#ecdf5f', '#ebde55', '#ebdd4b', '#ebdc41', '#ebdb37', '#ebd333', '#ebc933', '#ecbe32', '#ecb432', '#eda931', '#ee9e31', '#ee9330', '#ef8830', '#ef7d2f', '#f0722f', '#f0672e', '#f15c2e', '#f2512d', '#f2462d', '#f33b2c', '#f3302c', '#f4252b', '#f4192b', '#ef182f', '#e81834', '#e21939', '#db1a3e', '#d51a43', '#ce1b48', '#c71b4d', '#c11c52', '#ba1c58', '#b31d5d', '#ac1d62', '#a61e67', '#9f1e6c', '#981f72', '#911f77', '#8a207c', '#842182']\n",
    "custom_cmap = mpl.colors.LinearSegmentedColormap.from_list('custom', colornames, N=256)\n",
    "\n",
    "# Create plot folder if needed\n",
    "if not os.path.exists('../results/figures'):\n",
    "    os.mkdir('../results/figures')"
   ]
  },
  {
   "cell_type": "markdown",
   "metadata": {},
   "source": [
    "### Region around $\\overline{\\text{M}^\\prime}$ point"
   ]
  },
  {
   "cell_type": "code",
   "execution_count": null,
   "metadata": {},
   "outputs": [],
   "source": [
    "# Load reconstruction outcome\n",
    "recon = np.load(r'../data/processed/wse2_recon/postproc_refrotsym_bands_lda.npy')\n",
    "rm, cm = 128, 203\n",
    "mofs = 25\n",
    "mpatch = recon[:2, rm-mofs:rm+mofs, cm-mofs:cm+mofs]\n",
    "\n",
    "# Load line (pointwise) fitting results using reconstruction as initialization\n",
    "brec = np.load(r'../data/processed/patches/WSe2_Mpoint_recon_.npz')\n",
    "bands = brec['bands']\n",
    "kx = brec['kx']\n",
    "ky = brec['ky']\n",
    "kxx, kyy = np.meshgrid(kx+0.05, ky-0.05)"
   ]
  },
  {
   "cell_type": "markdown",
   "metadata": {},
   "source": [
    "### Figure 5c"
   ]
  },
  {
   "cell_type": "code",
   "execution_count": null,
   "metadata": {},
   "outputs": [],
   "source": [
    "# Plot comparison between reconstruction and line fitting\n",
    "f, ax = plt.subplots(2, 2, figsize=(7, 7))\n",
    "ax[0, 0].set_title('Reconstruction', fontsize=15)\n",
    "ax[0, 1].set_title('Line fitting', fontsize=15)\n",
    "\n",
    "ax[0, 0].set_xticks([])\n",
    "ax[0, 0].tick_params(axis='both', labelsize=15, length=8, width=2)\n",
    "ax[0, 0].set_ylabel('$k_y$ ($\\mathrm{\\AA}^{-1}$)', fontsize=15)\n",
    "\n",
    "ax[1, 0].tick_params(axis='both', labelsize=15, length=8, width=2)\n",
    "ax[1, 0].set_xlabel('$k_x$ ($\\mathrm{\\AA}^{-1}$)', fontsize=15)\n",
    "ax[1, 0].set_ylabel('$k_y$ ($\\mathrm{\\AA}^{-1}$)', fontsize=15)\n",
    "\n",
    "for i in range(1, 2):\n",
    "    ax[0, i].set_yticks([])\n",
    "    ax[0, i].set_xticks([])\n",
    "    ax[1, i].tick_params(axis='both', labelsize=15, length=8, width=2)\n",
    "    ax[1, i].set_yticks([])\n",
    "    ax[1, i].set_xlabel('$k_x$ ($\\mathrm{\\AA}^{-1}$)', fontsize=15)\n",
    "    \n",
    "cs00 = ax[0, 0].contourf(kxx, kyy, mpatch[0,...], 20, cmap=custom_cmap, vmin=-1.6, vmax=-1)\n",
    "ax[0, 0].contour(cs00, colors='k', linestyles='-', linewidths=0.5)\n",
    "ax[0, 0].text(0.65, 0.9, 'Band #1', fontsize=15, transform=ax[0,0].transAxes)\n",
    "\n",
    "cs10 = ax[1, 0].contourf(kxx, kyy, mpatch[1,:,:], 20, cmap=custom_cmap, vmin=-1.95, vmax=-1.4)\n",
    "ax[1, 0].contour(cs10, colors='k', linestyles='-', linewidths=0.5)\n",
    "ax[1, 0].text(0.65, 0.9, 'Band #2', fontsize=15, transform=ax[1,0].transAxes)\n",
    "    \n",
    "cs01 = ax[0, 1].contourf(kxx, kyy, bands[0,...], 20, cmap=custom_cmap, vmin=-1.6, vmax=-1)\n",
    "ax[0, 1].contour(cs01, colors='k', linestyles='-', linewidths=0.5)\n",
    "\n",
    "cs11 = ax[1, 1].contourf(kxx, kyy, bands[1,...], 20, cmap=custom_cmap, vmin=-1.95, vmax=-1.4)\n",
    "ax[1, 1].contour(cs11, colors='k', linestyles='-', linewidths=0.5)\n",
    "\n",
    "plt.subplots_adjust(hspace=0.08, wspace=0.08)\n",
    "plt.savefig('../results/figures/fig_5c.png', bbox_inches='tight', transparent=True, dpi=300)"
   ]
  },
  {
   "cell_type": "markdown",
   "metadata": {},
   "source": [
    "### Region around $\\overline{\\text{K}}$ point"
   ]
  },
  {
   "cell_type": "code",
   "execution_count": null,
   "metadata": {},
   "outputs": [],
   "source": [
    "# Load reconstruction and line (pointwise) fitting result\n",
    "rfb = np.load(r'../data/processed/patches/WSe2_Kpoint_linefit.npz')\n",
    "rcfb = np.load(r'../data/processed/patches/WSe2_Kpoint_recon.npz')\n",
    "fitbs = np.load(r'../data/processed/patches/WSe2_Kpoint_TWfitting.npz')"
   ]
  },
  {
   "cell_type": "markdown",
   "metadata": {},
   "source": [
    "### Figure 5e"
   ]
  },
  {
   "cell_type": "code",
   "execution_count": null,
   "metadata": {},
   "outputs": [],
   "source": [
    "# Plot comparison between reconstruction, line fitting, and model fitting\n",
    "ofs = 6\n",
    "kxx, kyy = np.meshgrid(rfb['kx'][ofs:-ofs]+0.05, rfb['ky'][ofs:-ofs])\n",
    "\n",
    "minsft = 0.26\n",
    "kxext = [rfb['kx'][0], rfb['kx'][-1]]\n",
    "kyext = [rfb['ky'][0], rfb['ky'][-1]]\n",
    "\n",
    "f, ax = plt.subplots(2, 4, figsize=(14, 7))\n",
    "ax[0, 0].set_title('Reconstruction', fontsize=15)\n",
    "ax[0, 1].set_title('Line fitting (LF)', fontsize=15)\n",
    "ax[0, 2].set_title('TW model fitting', fontsize=15)\n",
    "ax[0, 3].set_title('Difference (TW$-$LF)', fontsize=15)\n",
    "\n",
    "ax[0, 0].set_xticks([])\n",
    "ax[0, 0].tick_params(axis='both', labelsize=15, length=8, width=2)\n",
    "ax[0, 0].set_ylabel('$k_y$ ($\\mathrm{\\AA}^{-1}$)', fontsize=15)\n",
    "\n",
    "ax[1, 0].tick_params(axis='both', labelsize=15, length=8, width=2)\n",
    "ax[1, 0].set_xlabel('$k_x$ ($\\mathrm{\\AA}^{-1}$)', fontsize=15)\n",
    "ax[1, 0].set_ylabel('$k_y$ ($\\mathrm{\\AA}^{-1}$)', fontsize=15)\n",
    "for i in range(1, 4):\n",
    "    ax[0, i].set_yticks([])\n",
    "    ax[0, i].set_xticks([])\n",
    "    ax[1, i].tick_params(axis='both', labelsize=15, length=8, width=2)\n",
    "    ax[1, i].set_yticks([])\n",
    "    ax[1, i].set_xlabel('$k_x$ ($\\mathrm{\\AA}^{-1}$)', fontsize=15)\n",
    "    \n",
    "cs00 = ax[0, 0].contourf(kxx, kyy, rcfb['bands'][0,ofs+1:-ofs+1,ofs:-ofs], 23, cmap=custom_cmap, vmax=-0.7, vmin=-1.2+minsft)\n",
    "ax[0, 0].contour(cs00, colors='k', linestyles='-', linewidths=0.5)\n",
    "ax[0, 0].text(0.65, 0.9, 'Band #1', fontsize=15, transform=ax[0,0].transAxes)\n",
    "\n",
    "cs10 = ax[1, 0].contourf(kxx, kyy, rcfb['bands'][1,ofs+1:-ofs+1,ofs:-ofs], 23, cmap=custom_cmap, vmax=-1.15, vmin=-1.55+minsft)\n",
    "ax[1, 0].contour(cs10, colors='k', linestyles='-', linewidths=0.5)\n",
    "ax[1, 0].text(0.65, 0.9, 'Band #2', fontsize=15, transform=ax[1,0].transAxes)\n",
    "    \n",
    "cs01 = ax[0, 1].contourf(kxx, kyy, rfb['bands'][0,ofs+1:-ofs+1,ofs:-ofs], 23, cmap=custom_cmap, vmax=-0.7, vmin=-1.2+minsft)\n",
    "ax[0, 1].contour(cs01, colors='k', linestyles='-', linewidths=0.5)\n",
    "\n",
    "cs11 = ax[1, 1].contourf(kxx, kyy, rfb['bands'][1,ofs+1:-ofs+1,ofs:-ofs], 23, cmap=custom_cmap, vmax=-1.15, vmin=-1.55+minsft)\n",
    "ax[1, 1].contour(cs11, colors='k', linestyles='-', linewidths=0.5)\n",
    "\n",
    "cs02 = ax[0, 2].contourf(kxx, kyy, fitbs['b1'], 23, cmap=custom_cmap, vmax=-0.7, vmin=-1.2+minsft)\n",
    "ax[0, 2].contour(cs02, colors='k', linestyles='-', linewidths=0.5)\n",
    "\n",
    "cs12 = ax[1, 2].contourf(kxx, kyy, fitbs['b2'], 23, cmap=custom_cmap, vmax=-1.15, vmin=-1.55+minsft)\n",
    "ax[1, 2].contour(cs12, colors='k', linestyles='-', linewidths=0.5)\n",
    "\n",
    "cs03 = ax[0, 3].contourf(kxx, kyy, 1e3*(fitbs['b1'] - rfb['bands'][0,ofs+1:-ofs+1,ofs:-ofs]), 23, cmap='RdBu_r', vmax=12, vmin=-12)\n",
    "ax[0, 3].contour(cs03, colors='k', linestyles='-', linewidths=0.5)\n",
    "\n",
    "cs13 = ax[1, 3].contourf(kxx, kyy, 1e3*(fitbs['b2'] - rfb['bands'][1,ofs+1:-ofs+1,ofs:-ofs]), 23, cmap='RdBu_r', vmax=12, vmin=-12)\n",
    "ct = ax[1, 3].contour(cs13, colors='k', linestyles='-', linewidths=0.5)\n",
    "# cbar = f.colorbar(ct)\n",
    "cax = inset_axes(ax[1,3], width=\"3%\", height=\"30%\", bbox_to_anchor=(585, -210, 350, 400))\n",
    "# cb = plt.colorbar(cs13, cax=cax, ticks=np.arange(-15, 16, 5))\n",
    "cb = plt.colorbar(cs13, cax=cax, ticks=np.arange(-12, 13, 4))\n",
    "cb.ax.tick_params(axis='both', labelsize=15, length=8, width=2)\n",
    "cb.ax.set_title('meV', fontsize=15, x=1.2)\n",
    "\n",
    "plt.subplots_adjust(hspace=0.08, wspace=0.08)\n",
    "plt.savefig('../results/figures/fig_5e.png', bbox_inches='tight', transparent=True, dpi=300)"
   ]
  }
 ],
 "metadata": {
  "kernelspec": {
   "display_name": "Python 3 (ipykernel)",
   "language": "python",
   "name": "python3"
  },
  "language_info": {
   "codemirror_mode": {
    "name": "ipython",
    "version": 3
   },
   "file_extension": ".py",
   "mimetype": "text/x-python",
   "name": "python",
   "nbconvert_exporter": "python",
   "pygments_lexer": "ipython3",
   "version": "3.7.13"
  }
 },
 "nbformat": 4,
 "nbformat_minor": 2
}
