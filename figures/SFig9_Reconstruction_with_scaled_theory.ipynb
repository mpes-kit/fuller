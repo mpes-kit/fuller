{
 "cells": [
  {
   "cell_type": "markdown",
   "metadata": {},
   "source": [
    "## Reconstruction for synthetic data with scaled theoretical band structure (LDA-DFT) as initialization"
   ]
  },
  {
   "cell_type": "code",
   "execution_count": null,
   "metadata": {},
   "outputs": [],
   "source": [
    "import warnings as wn\n",
    "wn.filterwarnings(\"ignore\")\n",
    "\n",
    "import os\n",
    "import numpy as np\n",
    "from numpy import nan_to_num as n2n\n",
    "import fuller\n",
    "from mpes import fprocessing as fp, analysis as aly\n",
    "import matplotlib.pyplot as plt\n",
    "import matplotlib as mpl\n",
    "from natsort import natsorted\n",
    "import glob as g\n",
    "from mpl_toolkits.axes_grid1 import make_axes_locatable\n",
    "from mpl_toolkits.axes_grid1.inset_locator import inset_axes\n",
    "from matplotlib.ticker import AutoMinorLocator\n",
    "%matplotlib inline"
   ]
  },
  {
   "cell_type": "code",
   "execution_count": null,
   "metadata": {},
   "outputs": [],
   "source": [
    "mpl.rcParams['font.family'] = 'sans-serif'\n",
    "mpl.rcParams['font.sans-serif'] = 'Arial'\n",
    "mpl.rcParams['axes.linewidth'] = 2\n",
    "mpl.rcParams['pdf.fonttype'] = 42\n",
    "mpl.rcParams['ps.fonttype'] = 42\n",
    "\n",
    "# Create plot folder if needed\n",
    "if not os.path.exists('../results/figures'):\n",
    "    os.mkdir('../results/figures')"
   ]
  },
  {
   "cell_type": "code",
   "execution_count": null,
   "metadata": {},
   "outputs": [],
   "source": [
    "# Load synthetic data and ground truth band structure (gt)\n",
    "data = fuller.utils.loadHDF(r'../data/synthetic/synth_data_WSe2_LDA_top8.h5')\n",
    "gtbands = data['bands_padded']\n",
    "kxvals, kyvals = data['kx'], data['ky']\n",
    "msk = data['mask_tight']"
   ]
  },
  {
   "cell_type": "markdown",
   "metadata": {},
   "source": [
    "### Supplementary Figure 9d"
   ]
  },
  {
   "cell_type": "code",
   "execution_count": null,
   "metadata": {},
   "outputs": [],
   "source": [
    "# Load reconstructions and corresponding initializations\n",
    "scales = ['0.8', '1.2']\n",
    "\n",
    "recons, inits = {}, {}\n",
    "for isc, sc in enumerate(scales):\n",
    "    scalestr = str(sc)\n",
    "    files = fuller.utils.findFiles(r'../data/synthetic/sc='+scalestr+'_lda', fstring=r'/*')\n",
    "    recon = []\n",
    "    for f in files:\n",
    "        recon.append(fuller.utils.loadH5Parts(f, ['bands/Eb'], outtype='vals'))\n",
    "    \n",
    "    recons[scalestr] = np.squeeze(np.array(recon))\n",
    "    inits[scalestr] = data[scalestr]"
   ]
  },
  {
   "cell_type": "code",
   "execution_count": null,
   "metadata": {},
   "outputs": [],
   "source": [
    "# Calculate errors in initialization (einit) and reconstruction (erec)\n",
    "bands_tight = fuller.utils.trim_2d_edge(gtbands, edges=24, axes=(1, 2))\n",
    "erec = fuller.metrics.abserror(recons, bands_tight, [0.8, 1.2], ofs=24, mask=msk, outkeys=[0.8, 1.2], ret='dict')\n",
    "einit = fuller.metrics.abserror(inits, bands_tight, [0.8, 1.2], ofs=24, mask=msk, outkeys=[0.8, 1.2], ret='dict')"
   ]
  },
  {
   "cell_type": "code",
   "execution_count": null,
   "metadata": {},
   "outputs": [],
   "source": [
    "# Plot comparison between reconstruction using scaled DFT calculations\n",
    "dt=0.08 # horizontal jitter amplitude in visualization (to separate overlapping points)\n",
    "f, ax = plt.subplots(figsize=(8.5, 5.5))\n",
    "for i in range(8):\n",
    "    ax.axvline(x=i+1, ls='--', lw=1, c='g', zorder=0)\n",
    "    \n",
    "    if i < 7:\n",
    "        ax.scatter(i+1-dt, einit['0.8'][i]*1000, s=100, facecolors='b', edgecolors='b', lw=2, zorder=1)\n",
    "        ax.scatter(i+1-dt, erec['0.8'][i]*1000, s=100, facecolors='w', edgecolors='b', lw=2, zorder=1)\n",
    "\n",
    "        ax.scatter(i+1+dt, einit['1.2'][i]*1000, s=100, facecolors='k', edgecolors='k', lw=2, zorder=1)\n",
    "        ax.scatter(i+1+dt, erec['1.2'][i]*1000, s=100, facecolors='w', edgecolors='k', lw=2, zorder=1)\n",
    "    \n",
    "    if i == 7:\n",
    "        ax.scatter(i+1-dt, einit['0.8'][i]*1000, s=100, facecolors='b', edgecolors='b', lw=2, zorder=1,\n",
    "                   label=r'Scaled LDA (0.8$\\times$)')\n",
    "        ax.scatter(i+1-dt, erec['0.8'][i]*1000, s=100, facecolors='w', edgecolors='b', lw=2, zorder=1,\n",
    "                   label=r'Recon. with 0.8$\\times$')\n",
    "\n",
    "        ax.scatter(i+1+dt, einit['1.2'][i]*1000, s=100, facecolors='k', edgecolors='k', lw=2, zorder=1,\n",
    "                   label=r'Scaled LDA (1.2$\\times$)')\n",
    "        ax.scatter(i+1+dt, erec['1.2'][i]*1000, s=100, facecolors='w', edgecolors='k', lw=2, zorder=1,\n",
    "                   label=r'Recon. with 1.2$\\times$')\n",
    "    \n",
    "ax.set_ylabel('Average error $\\eta_{\\mathrm{avg}}$ wrt ground truth (meV)', fontsize=18)\n",
    "ax.set_yticks(range(0, 181, 20))\n",
    "ax.tick_params(axis='both', length=8, width=2, labelsize=15)\n",
    "ax.set_xticks(range(1, 9))\n",
    "ax.set_xlabel('Band index', fontsize=18)\n",
    "ax.set_ylim([0, 180])\n",
    "ax.set_title('Reconstruction from scaled LDA calculations', fontsize=18)\n",
    "lg = ax.legend(bbox_transform=ax.transAxes, bbox_to_anchor=(0.45, 0.93), frameon=True, fontsize=15,\n",
    "               facecolor='w', labelspacing=0.2, handletextpad=0.3)\n",
    "frame = lg.get_frame()\n",
    "frame.set_facecolor('w')\n",
    "frame.set_edgecolor('k')\n",
    "frame.set_linewidth(2)\n",
    "plt.savefig(r'../results/figures/sfig_9d.png', bbox_inches='tight', transparent=True, dpi=300)"
   ]
  },
  {
   "cell_type": "markdown",
   "metadata": {},
   "source": [
    "### Supplementary Figure 9f"
   ]
  },
  {
   "cell_type": "code",
   "execution_count": null,
   "metadata": {},
   "outputs": [],
   "source": [
    "# Using know positions (ways to obtain these see notebooks in /code/extra/)\n",
    "G = np.array([127.0, 127.27828129766911])\n",
    "K = np.array([ 23.83002655, 127.        ])\n",
    "M = np.array([ 49.38033047, 171.8133136 ])\n",
    "\n",
    "pathPoints = np.asarray([G, M, K, G])\n",
    "nGM, nMK, nKG = 70, 39, 79\n",
    "segPoints = [nGM, nMK, nKG]\n",
    "rowInds, colInds, pathInds = aly.points2path(pathPoints[:,0], pathPoints[:,1], npoints=segPoints)\n",
    "nSegPoints = len(rowInds)\n",
    "\n",
    "pdGT = aly.bandpath_map(np.moveaxis(gtbands, 0, 2), pathr=rowInds, pathc=colInds, eaxis=2)\n",
    "pdInit = aly.bandpath_map(np.moveaxis(inits['0.8'], 0, 2), pathr=rowInds, pathc=colInds, eaxis=2)\n",
    "pdMPES = aly.bandpath_map(np.moveaxis(data['mpes_padded'], 0, 2), pathr=rowInds, pathc=colInds, eaxis=2)\n",
    "Emin, Emax = data['E'].min(), data['E'].max()\n",
    "\n",
    "# Symmetrize the reconstructed bands\n",
    "symrecbands = []\n",
    "for i in range(8):\n",
    "    symmed = fuller.generator.rotosymmetrize(recons['0.8'][i,...], (127.5, 127.5), rotsym=6)[0]\n",
    "    symrecbands.append(fuller.generator.refsym(symmed[None,...], op='nanmean', pbar=False)[0,...])\n",
    "symrecbands = np.asarray(symrecbands)\n",
    "pdRecon = aly.bandpath_map(np.moveaxis(symrecbands, 0, 2), pathr=rowInds, pathc=colInds, eaxis=2)"
   ]
  },
  {
   "cell_type": "code",
   "execution_count": null,
   "metadata": {},
   "outputs": [],
   "source": [
    "# Plot comparison between initialization, reconstruction and ground truth along high-symmetry lines\n",
    "xaxis = np.array(range(rowInds.size))\n",
    "pos = pathInds.copy()\n",
    "pos[-1] -= 1\n",
    "\n",
    "f, ax = plt.subplots(figsize=(8.3, 6))\n",
    "imax = ax.imshow(pdMPES, cmap='Blues', origin='lower', extent=[0, nSegPoints, Emin, Emax], aspect=22, vmax=7, zorder=0)\n",
    "ax.plot(pdGT.T, c='k', zorder=2)\n",
    "ax.plot(pdRecon.T, c='r', zorder=3)\n",
    "ax.plot(pdInit.T + 0.12, '--', c='g', zorder=1)\n",
    "\n",
    "ax.plot(xaxis, pdGT[-1, :], c='k', zorder=2, label='Ground truth (LDA)')\n",
    "ax.plot(xaxis, pdInit[-1, :] + 0.12, '--', c='g', zorder=1, label=r'Initial. (0.8$\\times$)')\n",
    "ax.plot(xaxis, pdRecon[-1, :], c='r', zorder=3, label='Reconstruction')\n",
    "\n",
    "ax.tick_params(axis='y', length=8, width=2, labelsize=15)\n",
    "ax.tick_params(axis='x', length=0, width=0, labelsize=15, pad=8)\n",
    "ax.set_xlim([pos[0], pos[-1]])\n",
    "ax.set_xticks(pos)\n",
    "ax.set_xticklabels(['$\\overline{\\Gamma}$', '$\\overline{\\mathrm{M}}$',\n",
    "                       '$\\overline{\\mathrm{K}}$', '$\\overline{\\Gamma}$'])\n",
    "ax.set_ylabel('Energy (eV)', fontsize=18)\n",
    "# ax.set_ylim([])\n",
    "for p in pos[:-1]:\n",
    "        ax.axvline(x=p, c='k', ls='--', lw=2, dashes=[4, 2])\n",
    "ax.legend(loc='lower left', frameon=False, fontsize=15,\n",
    "               facecolor='None', labelspacing=0.2, handletextpad=0.3, borderpad=0)\n",
    "plt.savefig('../results/figures/sfig_9f.png', bbox_inches='tight', transparent=True, dpi=300)"
   ]
  }
 ],
 "metadata": {
  "kernelspec": {
   "display_name": "Python 3 (ipykernel)",
   "language": "python",
   "name": "python3"
  },
  "language_info": {
   "codemirror_mode": {
    "name": "ipython",
    "version": 3
   },
   "file_extension": ".py",
   "mimetype": "text/x-python",
   "name": "python",
   "nbconvert_exporter": "python",
   "pygments_lexer": "ipython3",
   "version": "3.7.13"
  }
 },
 "nbformat": 4,
 "nbformat_minor": 2
}
