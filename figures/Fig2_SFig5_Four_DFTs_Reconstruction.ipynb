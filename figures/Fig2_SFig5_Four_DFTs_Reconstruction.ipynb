{
 "cells": [
  {
   "cell_type": "markdown",
   "metadata": {},
   "source": [
    "## Reconstruction with four DFT calculations as initializations"
   ]
  },
  {
   "cell_type": "code",
   "execution_count": null,
   "metadata": {},
   "outputs": [],
   "source": [
    "import warnings as wn\n",
    "wn.filterwarnings(\"ignore\")\n",
    "\n",
    "import os\n",
    "import numpy as np\n",
    "import fuller\n",
    "import matplotlib.pyplot as plt\n",
    "import matplotlib as mpl\n",
    "from mpl_toolkits.axes_grid1.inset_locator import inset_axes\n",
    "from mpes import fprocessing as fp, analysis as aly\n",
    "from scipy import io as sio\n",
    "%matplotlib inline"
   ]
  },
  {
   "cell_type": "code",
   "execution_count": null,
   "metadata": {},
   "outputs": [],
   "source": [
    "mpl.rcParams['font.family'] = 'sans-serif'\n",
    "mpl.rcParams['font.sans-serif'] = 'Arial'\n",
    "mpl.rcParams['axes.linewidth'] = 2\n",
    "mpl.rcParams['pdf.fonttype'] = 42\n",
    "mpl.rcParams['ps.fonttype'] = 42\n",
    "\n",
    "# Create plot folder if needed\n",
    "if not os.path.exists('../results/figures'):\n",
    "    os.mkdir('../results/figures')"
   ]
  },
  {
   "cell_type": "code",
   "execution_count": null,
   "metadata": {},
   "outputs": [],
   "source": [
    "# Load preprocessed photoemission data\n",
    "bcsm = np.load(r'../data/processed/hslines/WSe2_vcut.npy')\n",
    "Evals = fp.readBinnedhdf5(r'../data/pes/3_smooth.h5')['E']\n",
    "ehi, elo = Evals[0], Evals[469]"
   ]
  },
  {
   "cell_type": "markdown",
   "metadata": {},
   "source": [
    "### Main Figure 2a"
   ]
  },
  {
   "cell_type": "code",
   "execution_count": null,
   "metadata": {},
   "outputs": [],
   "source": [
    "# Specify the band shift hyperparameters (including the global shift of 0.65)\n",
    "dftbands = sio.loadmat('../data/theory/hslines/initials_DFT_G-M.mat')    \n",
    "lda_th_shift = dftbands['LDA'][100:125, 0].max()\n",
    "pbe_th_shift = dftbands['PBE'][100:125, 0].max()\n",
    "pbesol_th_shift = dftbands['PBEsol'][100:125, 0].max()\n",
    "hse_th_shift = dftbands['HSE'][100:125, 0].max()\n",
    "eshift = 0.65\n",
    "\n",
    "lda_shift = np.array([0.4, 0.2, 0.3, 0.25, 0.22, 0.3, 0.3, 0.25, 0.2, 0.32, 0.4, 0.4, 0.4, 0.4]) + eshift\n",
    "pbe_shift = np.array([0, -0.3, -0.2, -0.25, -0.35, -0.3, -0.25, -0.2, -0.4, -0.4, -0.4, -0.4, -0.37, -0.4]) + eshift\n",
    "pbesol_shift = np.array([0, -0.2, -0.1, -0.15, -0.2, -0.05, 0, 0, -0.2, -0.1, -0.1, -0.1, 0, 0]) + eshift\n",
    "hse_shift = np.array([-0.15, -0.4, -0.2, -0.2, -0.2, -0.15, 0, 0, 0.1, 0, 0.1, 0.1, 0.2, 0.2]) + eshift"
   ]
  },
  {
   "cell_type": "code",
   "execution_count": null,
   "metadata": {},
   "outputs": [],
   "source": [
    "# Plot initializations vs theories\n",
    "bseg = bcsm[:, :70]\n",
    "\n",
    "f, ax = plt.subplots(2, 2, figsize=(4.5, 9))\n",
    "ax[0,0].imshow(bseg, cmap='Blues', extent=[0, 69, elo, ehi], aspect=17)\n",
    "ax[0,1].imshow(bseg, cmap='Blues', extent=[0, 69, elo, ehi], aspect=17)\n",
    "ax[1,0].imshow(bseg, cmap='Blues', extent=[0, 69, elo, ehi], aspect=17)\n",
    "ax[1,1].imshow(bseg, cmap='Blues', extent=[0, 69, elo, ehi], aspect=17)\n",
    "\n",
    "# Plot original theory energy bands after zero adjustment\n",
    "ax[0,0].plot(dftbands['LDA'][:69,:14] - lda_th_shift, 'r-')\n",
    "ax[0,0].plot(dftbands['LDA'][:69, 13] - lda_th_shift, 'r-', label='Theory')\n",
    "ax[0,1].plot(dftbands['PBE'][:69,:14] - pbe_th_shift, 'r-')\n",
    "ax[1,0].plot(dftbands['PBEsol'][:69,:14] - pbesol_th_shift, 'r-')\n",
    "ax[1,1].plot(dftbands['HSE'][:69,:14] - hse_th_shift, 'r-')\n",
    "\n",
    "# Plot shift-aligned energy bands\n",
    "for ib in range(14):\n",
    "    ax[0,0].plot(dftbands['LDA'][:69,ib] + lda_shift[ib], '--', color='#F0FF24', dashes=[5, 2])\n",
    "    ax[0,1].plot(dftbands['PBE'][:69,ib] + pbe_shift[ib], '--', color='#F0FF24', dashes=[5, 2])\n",
    "    ax[1,0].plot(dftbands['PBEsol'][:69,ib] + pbesol_shift[ib], '--', color='#F0FF24', dashes=[5, 2])\n",
    "    ax[1,1].plot(dftbands['HSE'][:69,ib] + hse_shift[ib], '--', color='#F0FF24', dashes=[5, 2])\n",
    "ax[0,0].plot(dftbands['LDA'][:69,ib] + lda_shift[ib], '--', color='#F0FF24', dashes=[5, 2], label='Initialization')\n",
    "\n",
    "ax[0,0].set_title('LDA', fontsize=15, x=0.8, y=0.88)\n",
    "ax[0,1].set_title('PBE', fontsize=15, x=0.8, y=0.88)\n",
    "ax[1,0].set_title('PBEsol', fontsize=15, x=0.75, y=0.88)\n",
    "ax[1,1].set_title('HSE06', fontsize=15, x=0.76, y=0.88)\n",
    "\n",
    "for i in range(2):\n",
    "    for j in range(2):\n",
    "        ax[i,j].tick_params(axis='both', length=8, width=2, labelsize=15)\n",
    "        ax[i,j].set_ylim([elo, ehi])\n",
    "\n",
    "ax[0,0].set_xticks([])\n",
    "ax[0,1].set_xticks([])\n",
    "ax[0,1].set_yticks([])\n",
    "ax[1,1].set_yticks([])\n",
    "ax[0,0].set_yticks(range(-7, 1))\n",
    "ax[1,0].set_yticks(range(-7, 1))\n",
    "\n",
    "ax[0,0].set_ylabel('Energy (eV)', fontsize=20)\n",
    "ax[1,0].set_ylabel('Energy (eV)', fontsize=20)\n",
    "\n",
    "ax[1,0].tick_params(axis='x', width=0, pad=0)\n",
    "ax[1,1].tick_params(axis='x', width=0, pad=0)\n",
    "\n",
    "ax[1,0].set_xticks([0,  69])\n",
    "ax[1,0].set_xticklabels(['$\\overline{\\Gamma}$', '$\\overline{\\mathrm{M}}$'])\n",
    "ax[1,1].set_xticks([0,  69])\n",
    "ax[1,1].set_xticklabels(['$\\overline{\\Gamma}$', '$\\overline{\\mathrm{M}}$'])\n",
    "\n",
    "lg = ax[0,0].legend(fontsize=15, ncol=2, facecolor='#A9CCE3', edgecolor='#A9CCE3', bbox_to_anchor=(2.21, 1.18))\n",
    "\n",
    "plt.subplots_adjust(hspace=0.02, wspace=0.15)\n",
    "plt.savefig('../results/figures/fig_2a.png', bbox_inches='tight', transparent=True, dpi=300)"
   ]
  },
  {
   "cell_type": "markdown",
   "metadata": {},
   "source": [
    "### Main Figure 2c"
   ]
  },
  {
   "cell_type": "code",
   "execution_count": null,
   "metadata": {},
   "outputs": [],
   "source": [
    "paths = np.load(r'../data/processed/hslines/WSe2_kpath.npz')\n",
    "\n",
    "reconbands = {}\n",
    "for name in ['LDA', 'PBE', 'PBEsol', 'HSE']:\n",
    "    bands = np.load(r'../data/processed/wse2_recon/postproc_refrotsym_bands_'+name.lower()+'.npy')\n",
    "    bdi = aly.bandpath_map(np.moveaxis(bands, 0, 2), pathr=paths['rowInds'], pathc=paths['colInds'], eaxis=2)\n",
    "    reconbands[name] = bdi.T"
   ]
  },
  {
   "cell_type": "code",
   "execution_count": null,
   "metadata": {},
   "outputs": [],
   "source": [
    "pos = paths['pathInds']\n",
    "pos[-1] -= 1\n",
    "\n",
    "ff, axa = plt.subplots(1, 1, figsize=(10.5, 8))\n",
    "im = axa.imshow(bcsm, cmap='Blues', extent=[0, 185, elo, ehi], aspect=12)\n",
    "# axa.plot(dftbands['HSE'][:,:14] - hse_th_shift, 'r--', zorder=2)\n",
    "for ib in range(14):\n",
    "    axa.plot(reconbands['LDA'][:,ib] + 0.65, color='r', zorder=1);\n",
    "axa.tick_params(axis='y', length=8, width=2, labelsize=15)\n",
    "axa.tick_params(axis='x', length=0, labelsize=15, pad=8)\n",
    "axa.set_ylim([elo, ehi])\n",
    "axa.set_xticks(pos)\n",
    "axa.set_xticklabels(['$\\overline{\\Gamma}$', '$\\overline{\\mathrm{M}}$',\n",
    "                       '$\\overline{\\mathrm{K}}$', '$\\overline{\\Gamma}$']);\n",
    "axa.set_ylabel('Energy (eV)', fontsize=20)\n",
    "for p in pos[:-1]:\n",
    "        axa.axvline(x=p, c='k', ls='--', lw=2, dashes=[4, 2])\n",
    "        \n",
    "axa.set_title('Reconstruction', fontsize=15, x=0.8, y=0.9)\n",
    "cax = inset_axes(axa, width=\"3%\", height=\"30%\", bbox_to_anchor=(220, 90, 440, 200))\n",
    "cb = plt.colorbar(im, cax=cax, ticks=[])\n",
    "cb.ax.set_ylabel('Intensity', fontsize=15, rotation=-90, labelpad=17)\n",
    "\n",
    "plt.savefig('../results/figures/fig_2c.png', bbox_inches='tight', transparent=True, dpi=300)"
   ]
  },
  {
   "cell_type": "markdown",
   "metadata": {},
   "source": [
    "### Supplementary Figure 5"
   ]
  },
  {
   "cell_type": "code",
   "execution_count": null,
   "metadata": {},
   "outputs": [],
   "source": [
    "dftbands = {}\n",
    "for dft in ['LDA','PBE','PBEsol','HSE']:\n",
    "    dftbands[dft] = sio.loadmat(r'../data/theory/hslines/WSe2_bandlines_'+dft+'_186.mat')['lines']"
   ]
  },
  {
   "cell_type": "code",
   "execution_count": null,
   "metadata": {},
   "outputs": [],
   "source": [
    "f, axs = plt.subplots(2, 2, figsize=(17, 10))\n",
    "axs[0,0].imshow(bcsm, cmap='Blues', extent=[0, 185, elo, ehi], aspect=12)\n",
    "axs[0,1].imshow(bcsm, cmap='Blues', extent=[0, 185, elo, ehi], aspect=12)\n",
    "axs[1,0].imshow(bcsm, cmap='Blues', extent=[0, 185, elo, ehi], aspect=12)\n",
    "axs[1,1].imshow(bcsm, cmap='Blues', extent=[0, 185, elo, ehi], aspect=12)\n",
    "\n",
    "c_over = '#FFD54F'\n",
    "axs[0,0].plot(dftbands['LDA'][:,:14] - lda_th_shift, color=c_over, ls='--', dashes=[3, 1], zorder=2)\n",
    "axs[0,1].plot(dftbands['PBE'][:,:14] - pbe_th_shift, color=c_over, ls='--', dashes=[3, 1], zorder=2)\n",
    "axs[1,0].plot(dftbands['PBEsol'][:,:14] - pbesol_th_shift, color=c_over, ls='--', dashes=[3, 1], zorder=2)\n",
    "axs[1,1].plot(dftbands['HSE'][:,:14] - hse_th_shift, color=c_over, ls='--', dashes=[3, 1], zorder=2)\n",
    "\n",
    "axs[0,0].set_title('LDA', fontsize=15, x=0.8, y=0.9)\n",
    "axs[0,1].set_title('PBE', fontsize=15, x=0.8, y=0.9)\n",
    "axs[1,0].set_title('PBEsol', fontsize=15, x=0.8, y=0.9)\n",
    "axs[1,1].set_title('HSE06', fontsize=15, x=0.8, y=0.9)\n",
    "\n",
    "for i in range(2):\n",
    "    for j in range(2):\n",
    "        axs[i,j].tick_params(axis='y', length=8, width=2, labelsize=15)\n",
    "        axs[i,j].tick_params(axis='x', length=0, labelsize=15, pad=8)\n",
    "        axs[i,j].set_yticks(np.arange(-8, 1))\n",
    "        axs[i,j].set_ylim([elo, ehi])\n",
    "        axs[i,j].set_xticks(pos)\n",
    "        axs[i,j].set_xticklabels(['$\\overline{\\Gamma}$', '$\\overline{\\mathrm{M}}$',\n",
    "                               '$\\overline{\\mathrm{K}}$', '$\\overline{\\Gamma}$'])\n",
    "    \n",
    "        for p in pos[:-1]:\n",
    "            axs[i,j].axvline(x=p, c='k', ls='--', lw=2, dashes=[3, 1.7])\n",
    "        \n",
    "for ib in range(14):\n",
    "    axs[0,0].plot(reconbands['LDA'][:,ib] + 0.65, '-', color='r', zorder=1)\n",
    "    axs[0,1].plot(reconbands['PBE'][:,ib] + 0.65, '-', color='r', zorder=1)\n",
    "    axs[1,0].plot(reconbands['PBEsol'][:,ib] + 0.65, '-', color='r', zorder=1)\n",
    "    axs[1,1].plot(reconbands['HSE'][:,ib] + 0.65, '-', color='r', zorder=1)\n",
    "\n",
    "# Add legend\n",
    "axs[0,0].plot(dftbands['LDA'][:,0] - lda_th_shift, color=c_over, ls='--', dashes=[3, 1], zorder=2, label='LDA Calc.')\n",
    "axs[0,0].plot(reconbands['LDA'][:,ib] + 0.65, '-', color='r', zorder=1, label='LDA Recon.')\n",
    "lg = axs[0,0].legend(fontsize=15, ncol=1, facecolor='w', edgecolor='k', framealpha=1, bbox_to_anchor=(0.94, 0.1))\n",
    "lg.get_frame().set_linewidth(2)\n",
    "\n",
    "axs[0,1].plot(dftbands['PBE'][:,0] - pbe_th_shift, color=c_over, ls='--', dashes=[3, 1], zorder=2, label='PBE Calc.')\n",
    "axs[0,1].plot(reconbands['PBE'][:,ib] + 0.65, '-', color='r', zorder=1, label='PBE Recon.')\n",
    "lg = axs[0,1].legend(fontsize=15, ncol=1, facecolor='w', edgecolor='k', framealpha=1, bbox_to_anchor=(0.94, 0.1))\n",
    "lg.get_frame().set_linewidth(2)\n",
    "\n",
    "axs[1,0].plot(dftbands['PBEsol'][:,0] - pbesol_th_shift, color=c_over, ls='--', dashes=[3, 1], zorder=2, label='PBEsol Calc.')\n",
    "axs[1,0].plot(reconbands['PBEsol'][:,ib] + 0.65, '-', color='r', zorder=1, label='PBEsol Recon.')\n",
    "lg = axs[1,0].legend(fontsize=15, ncol=1, facecolor='w', edgecolor='k', framealpha=1, bbox_to_anchor=(0.98, 0.1))\n",
    "lg.get_frame().set_linewidth(2)\n",
    "\n",
    "axs[1,1].plot(dftbands['HSE'][:,0] - hse_th_shift, color=c_over, ls='--', dashes=[3, 1], zorder=2, label='HSE06 Calc.')\n",
    "axs[1,1].plot(reconbands['HSE'][:,ib] + 0.65, '-', color='r', zorder=1, label='HSE06 Recon.')\n",
    "lg = axs[1,1].legend(fontsize=15, ncol=1, facecolor='w', edgecolor='k', framealpha=1, bbox_to_anchor=(0.94, 0.1))\n",
    "lg.get_frame().set_linewidth(2)\n",
    "\n",
    "plt.subplots_adjust(hspace=0.2, wspace=0.1)\n",
    "plt.savefig('../results/figures/sfig_5.png', bbox_inches='tight', transparent=True, dpi=300)"
   ]
  }
 ],
 "metadata": {
  "kernelspec": {
   "display_name": "Python 3 (ipykernel)",
   "language": "python",
   "name": "python3"
  },
  "language_info": {
   "codemirror_mode": {
    "name": "ipython",
    "version": 3
   },
   "file_extension": ".py",
   "mimetype": "text/x-python",
   "name": "python",
   "nbconvert_exporter": "python",
   "pygments_lexer": "ipython3",
   "version": "3.7.13"
  }
 },
 "nbformat": 4,
 "nbformat_minor": 2
}
