{
 "cells": [
  {
   "cell_type": "markdown",
   "metadata": {},
   "source": [
    "## Digitization of reconstructed bands using hexagonal Zernike polynomials"
   ]
  },
  {
   "cell_type": "code",
   "execution_count": null,
   "metadata": {},
   "outputs": [],
   "source": [
    "import warnings as wn\n",
    "wn.filterwarnings(\"ignore\")\n",
    "\n",
    "import os\n",
    "import numpy as np\n",
    "import fuller\n",
    "import matplotlib.pyplot as plt\n",
    "import matplotlib as mpl\n",
    "from mpl_toolkits.axes_grid1 import make_axes_locatable\n",
    "from matplotlib.ticker import (MultipleLocator, FormatStrFormatter,\n",
    "                               AutoMinorLocator)\n",
    "import matplotlib.colors as cs\n",
    "import itertools as it\n",
    "from tqdm import tqdm_notebook as tqdm\n",
    "%matplotlib inline"
   ]
  },
  {
   "cell_type": "code",
   "execution_count": null,
   "metadata": {},
   "outputs": [],
   "source": [
    "mpl.rcParams['font.family'] = 'sans-serif'\n",
    "mpl.rcParams['font.sans-serif'] = 'Arial'\n",
    "mpl.rcParams['axes.linewidth'] = 2\n",
    "mpl.rcParams['pdf.fonttype'] = 42\n",
    "mpl.rcParams['ps.fonttype'] = 42\n",
    "\n",
    "colornames = ['#646464', '#666666', '#6a6a6a', '#6f6f6f', '#737373', '#787878', '#7d7d7d', '#828282', '#878787', '#8d8d8d', '#929292', '#989898', '#9e9e9e', '#a4a4a4', '#aaaaaa', '#b0b0b0', '#b6b6b6', '#bcbcbc', '#c2c2c2', '#c9c9c9', '#cfcfcf', '#d6d6d6', '#dcdcdc', '#e3e3e3', '#eaeaea', '#efefee', '#efeee5', '#efeddc', '#efecd3', '#eeebca', '#eeeac0', '#eee9b7', '#eee8ad', '#ede7a4', '#ede69a', '#ede590', '#ede487', '#ece37d', '#ece273', '#ece069', '#ecdf5f', '#ebde55', '#ebdd4b', '#ebdc41', '#ebdb37', '#ebd333', '#ebc933', '#ecbe32', '#ecb432', '#eda931', '#ee9e31', '#ee9330', '#ef8830', '#ef7d2f', '#f0722f', '#f0672e', '#f15c2e', '#f2512d', '#f2462d', '#f33b2c', '#f3302c', '#f4252b', '#f4192b', '#ef182f', '#e81834', '#e21939', '#db1a3e', '#d51a43', '#ce1b48', '#c71b4d', '#c11c52', '#ba1c58', '#b31d5d', '#ac1d62', '#a61e67', '#9f1e6c', '#981f72', '#911f77', '#8a207c', '#842182']\n",
    "custom_cmap = mpl.colors.LinearSegmentedColormap.from_list('custom', colornames, N=256)\n",
    "\n",
    "# Create plot folder if needed\n",
    "if not os.path.exists('../results/figures'):\n",
    "    os.mkdir('../results/figures')"
   ]
  },
  {
   "cell_type": "markdown",
   "metadata": {},
   "source": [
    "### Main Figure 3a"
   ]
  },
  {
   "cell_type": "code",
   "execution_count": null,
   "metadata": {},
   "outputs": [],
   "source": [
    "# Generate hexagonal Zernike basis\n",
    "basis = fuller.generator.ppz.hexike_basis(nterms=100, npix=257, vertical=True, outside=0)\n",
    "\n",
    "# Mask the region beyond the hexagonal boundary\n",
    "bmask = fuller.generator.hexmask(hexdiag=257, imside=257, padded=False, margins=[1, 1, 1, 1])"
   ]
  },
  {
   "cell_type": "code",
   "execution_count": null,
   "metadata": {},
   "outputs": [],
   "source": [
    "# Plotting a selection of hexagonal Zernike polynomials\n",
    "ff, axs = plt.subplots(5, 1, figsize=(3, 10))\n",
    "\n",
    "for ind, ibs in enumerate([3, 10, 27, 41, 89]):\n",
    "    im = axs[ind].imshow(basis[ibs,...]*bmask[...], cmap=custom_cmap, vmin=-1.8, vmax=1.8)\n",
    "    axs[ind].axis('off')\n",
    "    axs[ind].text(5, 5, str(ind+1), fontsize=15, fontname=\"Arial\")\n",
    "\n",
    "cax = ff.add_axes([0.36, 0.08, 0.3, 0.02])\n",
    "cb = plt.colorbar(im, cax=cax, ticks=[-1.8, 1.8], orientation='horizontal')\n",
    "cb.ax.tick_params(axis='both', length=0)\n",
    "cb.ax.set_xticklabels(['low', 'high'], fontsize=15) #'{0}'.format(u'\\u2014')\n",
    "# cb.ax.set_ylabel('Height', rotation=-90, fontsize=15)\n",
    "plt.subplots_adjust(hspace=0.1)\n",
    "plt.savefig('../results/figures/fig_3a1.png', bbox_inches='tight', transparent=True, dpi=300)"
   ]
  },
  {
   "cell_type": "code",
   "execution_count": null,
   "metadata": {},
   "outputs": [],
   "source": [
    "# Calculate the decomposition coefficients for all bands\n",
    "bandout = np.nan_to_num(np.load(r'../data/processed/wse2_recon_1BZ/postproc_bandcuts_lda.npz')['bandcuts'])\n",
    "bases_recon = fuller.generator.ppz.hexike_basis(nterms=400, npix=175, vertical=True, outside=0)\n",
    "cfs_rec_lda = []\n",
    "for i in tqdm(range(14)):\n",
    "    cfs_rec_lda.append(fuller.generator.decomposition_hex2d(bandout[i,...], bases=bases_recon, baxis=0, ret='coeffs'))\n",
    "cfs_rec_lda = np.array(cfs_rec_lda)"
   ]
  },
  {
   "cell_type": "code",
   "execution_count": null,
   "metadata": {},
   "outputs": [],
   "source": [
    "# Collect the large coefficients needed for approximating each energy band\n",
    "cfs_large = fuller.utils.binarize(cfs_rec_lda, threshold=1e-2, vals=[0, 1])"
   ]
  },
  {
   "cell_type": "code",
   "execution_count": null,
   "metadata": {},
   "outputs": [],
   "source": [
    "cl = plt.cm.tab20(np.linspace(0,1,14))\n",
    "f, ax = plt.subplots(figsize=(6, 10))\n",
    "xs = np.arange(1, 400)\n",
    "for i in range(14):\n",
    "    ax.plot(xs, cfs_rec_lda[i,1:]-i/3, lw=1, color=cl[i])\n",
    "    ax.axhline(y=-i/3, lw=1, color=cl[i])\n",
    "    ax.text(320, -i/3+0.08, 'Band #'+str(i+1), fontsize=15, fontname=\"Arial\")\n",
    "\n",
    "ax.bar(xs, (np.abs(cfs_large[:,1:])).sum(axis=0)/40, bottom=-4.9, width=1, color=(0.3, 0.3, 0.3))\n",
    "ax.axhline(y=-4.9, lw=1, color=(0.3, 0.3, 0.3))\n",
    "# ax.set_title('HSE06', fontsize=15, y=0.88)\n",
    "ax.text(320, -4.9+0.08, 'All bands', fontsize=15, fontname=\"Arial\")\n",
    "# ax.text('Counts', transform=ax.transAxes)\n",
    "\n",
    "ax.set_xticks(list(range(0, 401, 50)))\n",
    "ax.set_yticks([])\n",
    "ax.set_ylim([-5, 1])\n",
    "ax.tick_params(axis='x', length=8, width=2, labelsize=15)\n",
    "ax.set_ylabel('Amplitude (a. u.)', fontsize=15)\n",
    "ax.set_xlim([0, 400])\n",
    "ax.set_xlabel('Coefficient index', fontsize=15)\n",
    "ax.spines['left'].set_visible(False)\n",
    "ax.spines['right'].set_visible(False)\n",
    "ax.spines['top'].set_visible(False)\n",
    "ax.text(-22, -4.5, 'Counts', rotation=90, fontsize=15);\n",
    "plt.savefig('../results/figures/fig_3a2.png', bbox_inches='tight', transparent=True, dpi=300)"
   ]
  },
  {
   "cell_type": "markdown",
   "metadata": {},
   "source": [
    "### Main Figure 3c"
   ]
  },
  {
   "cell_type": "code",
   "execution_count": null,
   "metadata": {},
   "outputs": [],
   "source": [
    "# Calculate the pairwise correlation matrix\n",
    "ncfs = 14\n",
    "dcm = np.zeros((ncfs, ncfs))\n",
    "ids = list(it.product(range(ncfs), repeat=2))\n",
    "for ipair, pair in enumerate(ids):\n",
    "    i, j = pair[0], pair[1]\n",
    "    dcm[i,j] = fuller.metrics.dcos(cfs_rec_lda[i,1:], cfs_rec_lda[j,1:])"
   ]
  },
  {
   "cell_type": "code",
   "execution_count": null,
   "metadata": {},
   "outputs": [],
   "source": [
    "# Construct new colormap 'KRdBu' and 'KRdBu_r' (based on 'RdBu' with black blended into the very end of the red side)\n",
    "cmap_rdbu = mpl.cm.get_cmap('RdBu')\n",
    "cmap_gr = mpl.cm.get_cmap('Greys_r')\n",
    "colors = [cmap_gr(0.1), cmap_rdbu(0.1)]\n",
    "nk = 13\n",
    "\n",
    "KRd = cs.LinearSegmentedColormap.from_list('KRdBu', colors, N=nk)\n",
    "KRdvals = KRd(np.linspace(0, 1, nk))\n",
    "RdBuvals = cmap_rdbu(np.linspace(0.1, 1, 256-nk))\n",
    "KRdBu_vals = np.concatenate((KRdvals, RdBuvals))\n",
    "KRdBu_r_vals = np.flipud(KRdBu_vals)\n",
    "KRdBu = cs.ListedColormap(KRdBu_vals)\n",
    "KRdBu_r = cs.ListedColormap(KRdBu_r_vals)"
   ]
  },
  {
   "cell_type": "code",
   "execution_count": null,
   "metadata": {},
   "outputs": [],
   "source": [
    "# Plot the pairwise correlation matrix for reconstructed bands\n",
    "f, ax = plt.subplots(figsize=(6, 6))\n",
    "im = ax.matshow(dcm, cmap=KRdBu_r, extent=[0, 14, 14, 0], origin='upper', vmin=-1, vmax=1)\n",
    "tks = list(np.arange(0.5, 14, 1))\n",
    "ax.set_xticks(tks)\n",
    "ax.set_yticks(tks)\n",
    "ax.set_xticklabels(['#' + str(int(i+0.5)) for i in tks], fontsize=15, rotation=90)\n",
    "ax.set_yticklabels(['#' + str(int(i+0.5)) for i in tks], fontsize=15, rotation=0)\n",
    "ax.tick_params(axis='both', size=8, width=2, labelsize=15)\n",
    "ax.tick_params(axis='x', bottom=False)\n",
    "ax.tick_params(axis='x', pad=8)\n",
    "# ax.set_title('HSE06', fontsize=15, x=0.5, y=1.15)\n",
    "divider = make_axes_locatable(ax)\n",
    "cax = divider.append_axes(\"right\", size=\"5%\", pad=0.2)\n",
    "cax.tick_params(axis='y', size=8)\n",
    "cb = plt.colorbar(im, cax=cax, ticks=np.arange(-1, 1.01, 0.2))\n",
    "cb.ax.set_ylabel('Cosine similarity', fontsize=15, rotation=-90, labelpad=20)\n",
    "cb.ax.tick_params(axis='both', length=8, width=2, labelsize=15)\n",
    "# plt.colorbar(im, cax=cax, ticks=[])\n",
    "ax.text(-0.18, 1.08, ' Band\\n index', rotation=-45, transform=ax.transAxes, fontsize=15)\n",
    "plt.savefig('../results/figures/fig_3c.png', bbox_inches='tight', transparent=True, dpi=300)"
   ]
  }
 ],
 "metadata": {
  "kernelspec": {
   "display_name": "Python 3 (ipykernel)",
   "language": "python",
   "name": "python3"
  },
  "language_info": {
   "codemirror_mode": {
    "name": "ipython",
    "version": 3
   },
   "file_extension": ".py",
   "mimetype": "text/x-python",
   "name": "python",
   "nbconvert_exporter": "python",
   "pygments_lexer": "ipython3",
   "version": "3.7.13"
  }
 },
 "nbformat": 4,
 "nbformat_minor": 2
}
