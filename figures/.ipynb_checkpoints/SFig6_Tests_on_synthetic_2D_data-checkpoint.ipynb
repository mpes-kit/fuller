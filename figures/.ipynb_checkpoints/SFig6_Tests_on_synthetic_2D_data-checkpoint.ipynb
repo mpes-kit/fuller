{
 "cells": [
  {
   "cell_type": "markdown",
   "metadata": {},
   "source": [
    "## Tests of the Markov random field model for reconstructing 2D synthetic data"
   ]
  },
  {
   "cell_type": "code",
   "execution_count": null,
   "metadata": {},
   "outputs": [],
   "source": [
    "import warnings as wn\n",
    "wn.filterwarnings(\"ignore\")\n",
    "\n",
    "import numpy as np\n",
    "import fuller\n",
    "import matplotlib.pyplot as plt\n",
    "from mpes import analysis as aly\n",
    "import matplotlib as mpl\n",
    "import matplotlib.gridspec as gridspec\n",
    "import os\n",
    "%matplotlib inline"
   ]
  },
  {
   "cell_type": "code",
   "execution_count": null,
   "metadata": {},
   "outputs": [],
   "source": [
    "mpl.rcParams['font.family'] = 'sans-serif'\n",
    "mpl.rcParams['font.sans-serif'] = 'Arial'\n",
    "mpl.rcParams['axes.linewidth'] = 2\n",
    "mpl.rcParams['pdf.fonttype'] = 42\n",
    "mpl.rcParams['ps.fonttype'] = 42\n",
    "\n",
    "# Create plot folder if needed\n",
    "if not os.path.exists('../results/figures'):\n",
    "    os.mkdir('../results/figures')"
   ]
  },
  {
   "cell_type": "markdown",
   "metadata": {},
   "source": [
    "## 2D single sinosodial band"
   ]
  },
  {
   "cell_type": "markdown",
   "metadata": {},
   "source": [
    "### Data generation"
   ]
  },
  {
   "cell_type": "code",
   "execution_count": null,
   "metadata": {},
   "outputs": [],
   "source": [
    "# Generate synthetic data\n",
    "kx = np.arange(-1, 1, 0.01)\n",
    "band_sin2d = 3*np.sin(13*kx) + 2*np.cos(12*kx) - 4\n",
    "b2d_min, b2d_max = band_sin2d.min(), band_sin2d.max()\n",
    "# plt.plot(kx, band_sin2d)\n",
    "\n",
    "Evals = np.arange(b2d_min-2, b2d_max+2, 0.01)\n",
    "pes_data_2d = aly.voigt(feval=True, vardict={'amp':1, 'xvar':Evals[:,None],\n",
    "                                             'ctr':band_sin2d, 'sig':1, 'gam':0.3})\n",
    "plt.imshow(pes_data_2d[::-1,:], aspect=0.1, extent=[-1, 1, b2d_min-2, b2d_max+2], cmap='Blues')"
   ]
  },
  {
   "cell_type": "code",
   "execution_count": null,
   "metadata": {},
   "outputs": [],
   "source": [
    "# Construct initialization\n",
    "init = np.zeros_like(kx)\n",
    "plt.plot(kx, band_sin2d, c='r', label='ground truth')\n",
    "plt.plot(kx, init, c='b', label='initialization')\n",
    "plt.legend(loc='lower left', fontsize=12)"
   ]
  },
  {
   "cell_type": "markdown",
   "metadata": {},
   "source": [
    "### Reconstruction"
   ]
  },
  {
   "cell_type": "code",
   "execution_count": null,
   "metadata": {},
   "outputs": [],
   "source": [
    "I = np.transpose(pes_data_2d)\n",
    "I = I / I.max()\n",
    "mrf = fuller.mrfRec.MrfRec(E=Evals, kx=kx, ky=np.array([0.]), I=np.reshape(I, (len(kx), 1, len(Evals))),\n",
    "                           eta=1, E0=init[:, None])"
   ]
  },
  {
   "cell_type": "code",
   "execution_count": null,
   "metadata": {},
   "outputs": [],
   "source": [
    "mrf.iter_seq(200)\n",
    "recon = mrf.getEb()[:, 0]"
   ]
  },
  {
   "cell_type": "markdown",
   "metadata": {},
   "source": [
    "### Supplementary Figure 5a"
   ]
  },
  {
   "cell_type": "code",
   "execution_count": null,
   "metadata": {},
   "outputs": [],
   "source": [
    "# Summary plot\n",
    "gs = gridspec.GridSpec(1, 2, width_ratios=[5,5])\n",
    "fig = plt.figure()\n",
    "axs = []\n",
    "for i in range(2):\n",
    "    axs.append(fig.add_subplot(gs[i]))\n",
    "    \n",
    "im = axs[0].imshow(pes_data_2d[::-1,:], aspect=0.15, extent=[-1, 1, b2d_min-2, b2d_max+2], cmap='Blues')\n",
    "axs[0].plot(kx, band_sin2d, 'r')\n",
    "axs[0].set_aspect(aspect=0.15)\n",
    "axs[0].set_ylabel('Energy (a.u.)', fontsize=15)\n",
    "cax = fig.add_axes([0.94, 0.54, 0.03, 0.2])\n",
    "cb = fig.colorbar(im, cax=cax, orientation='vertical', ticks=[])\n",
    "cb.ax.set_ylabel('Intensity', fontsize=15, rotation=-90, labelpad=18)\n",
    "\n",
    "axs[1].plot(kx, band_sin2d, 'r', label='ground truth')\n",
    "axs[1].plot(kx, init, 'b', label='initialization')\n",
    "axs[1].plot(kx, recon, 'g', label='reconstruction')\n",
    "axs[1].set_xlim([-1, 1])\n",
    "axs[1].set_ylim([b2d_min-2, b2d_max+2])\n",
    "axs[1].set_aspect(aspect=0.15)\n",
    "axs[1].set_yticks([])\n",
    "lg = axs[1].legend(fontsize=15, bbox_to_anchor=(1.04,0.5), frameon=False,\n",
    "                   borderpad=0, labelspacing=0.8, handlelength=1.2, handletextpad=0.5)\n",
    "\n",
    "for i in range(2):\n",
    "    axs[i].set_xlabel('$k$ (a.u.)', fontsize=15)\n",
    "    axs[i].tick_params(axis='both', length=8, width=2, labelsize=15)\n",
    "\n",
    "plt.subplots_adjust(wspace=0.1)\n",
    "plt.savefig('../results/figures/sfig_6a.png', dpi=300, bbox_inches='tight', transparent=True)"
   ]
  },
  {
   "cell_type": "markdown",
   "metadata": {},
   "source": [
    "## 2D band crossing"
   ]
  },
  {
   "cell_type": "markdown",
   "metadata": {},
   "source": [
    "### Data generation"
   ]
  },
  {
   "cell_type": "code",
   "execution_count": null,
   "metadata": {},
   "outputs": [],
   "source": [
    "# Generate synthetic data\n",
    "kx = np.arange(-1, 1, 0.014)\n",
    "band_pb2d_up = 5*kx**2 - kx/5 - 5\n",
    "band_pb2d_down = -(0.2*kx**2 + kx/4 + 2.5)\n",
    "plt.figure(figsize=(5,4))\n",
    "b2d_min, b2d_max = band_pb2d_down.min(), band_pb2d_up.max()\n",
    "# plt.plot(kx, band_pb2d_up)\n",
    "# plt.plot(kx, band_pb2d_down)\n",
    "\n",
    "Evals = np.arange(b2d_min-4, b2d_max+2, 0.012)\n",
    "pes_data_2d_up = aly.voigt(feval=True, vardict={'amp':1.6, 'xvar':Evals[:,None],\n",
    "                                             'ctr':band_pb2d_up, 'sig':0.07, 'gam':0.15})\n",
    "pes_data_2d_down = aly.voigt(feval=True, vardict={'amp':1, 'xvar':Evals[:,None],\n",
    "                                             'ctr':band_pb2d_down, 'sig':0.07, 'gam':0.1})\n",
    "pes_data_2d = pes_data_2d_up + pes_data_2d_down\n",
    "plt.imshow(pes_data_2d[::-1,:], aspect=0.2, extent=[-1, 1, b2d_min-4, b2d_max+2], cmap='Blues')"
   ]
  },
  {
   "cell_type": "code",
   "execution_count": null,
   "metadata": {},
   "outputs": [],
   "source": [
    "# Construct initialization\n",
    "band_init2d_up = 3.5 * kx ** 2 - kx / 20 - 4\n",
    "band_init2d_down = -3 * np.ones_like(kx)\n",
    "\n",
    "plt.plot(kx, band_pb2d_up, c='r')\n",
    "plt.plot(kx, band_pb2d_down, c='r', label='ground truth')\n",
    "plt.plot(kx, band_init2d_up, c='b')\n",
    "plt.plot(kx, band_init2d_down, c='b', label='initialization')\n",
    "plt.legend(loc='upper center', fontsize=12)"
   ]
  },
  {
   "cell_type": "markdown",
   "metadata": {},
   "source": [
    "### Reconstruction"
   ]
  },
  {
   "cell_type": "code",
   "execution_count": null,
   "metadata": {},
   "outputs": [],
   "source": [
    "# Reconstruct first band\n",
    "I = np.transpose(pes_data_2d)\n",
    "I = I / I.max()\n",
    "mrf = fuller.mrfRec.MrfRec(E=Evals, kx=kx, ky=np.array([0.]), I=np.reshape(I, (len(kx), 1, len(Evals))),\n",
    "                           eta=0.085, E0=band_init2d_down[:, None])\n",
    "mrf.iter_seq(500)\n",
    "recon_down = mrf.getEb()[:, 0]"
   ]
  },
  {
   "cell_type": "code",
   "execution_count": null,
   "metadata": {},
   "outputs": [],
   "source": [
    "# Reconstruct second band\n",
    "mrf = fuller.mrfRec.MrfRec(E=Evals, kx=kx, ky=np.array([0.]), I=np.reshape(I, (len(kx), 1, len(Evals))),\n",
    "                           eta=0.2, E0=band_init2d_up[:, None])\n",
    "mrf.iter_seq(500)\n",
    "recon_up = mrf.getEb()[:, 0]"
   ]
  },
  {
   "cell_type": "markdown",
   "metadata": {},
   "source": [
    "### Supplementary Figure 6b"
   ]
  },
  {
   "cell_type": "code",
   "execution_count": null,
   "metadata": {},
   "outputs": [],
   "source": [
    "# Summary plot\n",
    "emin, emax = Evals.min(), Evals.max()\n",
    "\n",
    "gs = gridspec.GridSpec(1, 2, width_ratios=[8,8])\n",
    "fig = plt.figure()\n",
    "axs = []\n",
    "for i in range(2):\n",
    "    axs.append(fig.add_subplot(gs[i]))\n",
    "    \n",
    "im = axs[0].imshow(pes_data_2d, aspect=0.2, extent=[-1, 1, emin, emax], cmap='Blues', origin='lower', vmax=2)\n",
    "axs[0].plot(kx, band_pb2d_up, 'r')\n",
    "axs[0].plot(kx, band_pb2d_down, 'r')\n",
    "axs[0].set_aspect(aspect=0.2)\n",
    "axs[0].set_ylabel('Energy (a.u.)', fontsize=15)\n",
    "cax = fig.add_axes([0.94, 0.54, 0.03, 0.2])\n",
    "cb = fig.colorbar(im, cax=cax, orientation='vertical', ticks=[])\n",
    "cb.ax.set_ylabel('Intensity', fontsize=15, rotation=-90, labelpad=18)\n",
    "\n",
    "axs[1].plot(kx, band_pb2d_up, 'r')\n",
    "axs[1].plot(kx, band_pb2d_down, 'r', label='ground truth')\n",
    "axs[1].plot(kx, band_init2d_up, 'b')\n",
    "axs[1].plot(kx, band_init2d_down, 'b', label='initialization')\n",
    "axs[1].plot(kx, recon_up, 'g')\n",
    "axs[1].plot(kx, recon_down, 'g', label='reconstruction')\n",
    "axs[1].set_xlim([-1, 1])\n",
    "axs[1].set_ylim([emin, emax])\n",
    "axs[1].set_aspect(aspect=0.2)\n",
    "axs[1].set_yticks([])\n",
    "lg = axs[1].legend(fontsize=15, bbox_to_anchor=(1.04,0.5), frameon=False,\n",
    "                   borderpad=0, labelspacing=0.8, handlelength=1.2, handletextpad=0.5)\n",
    "\n",
    "for i in range(2):\n",
    "    axs[i].set_xlabel('$k$ (a.u.)', fontsize=15)\n",
    "    axs[i].tick_params(axis='both', length=8, width=2, labelsize=15)\n",
    "\n",
    "plt.subplots_adjust(wspace=0.1)\n",
    "plt.savefig('../results/figures/sfig_6b.png', dpi=300, bbox_inches='tight', transparent=True)"
   ]
  }
 ],
 "metadata": {
  "kernelspec": {
   "display_name": "Python 3 (ipykernel)",
   "language": "python",
   "name": "python3"
  },
  "language_info": {
   "codemirror_mode": {
    "name": "ipython",
    "version": 3
   },
   "file_extension": ".py",
   "mimetype": "text/x-python",
   "name": "python",
   "nbconvert_exporter": "python",
   "pygments_lexer": "ipython3",
   "version": "3.7.13"
  }
 },
 "nbformat": 4,
 "nbformat_minor": 2
}
