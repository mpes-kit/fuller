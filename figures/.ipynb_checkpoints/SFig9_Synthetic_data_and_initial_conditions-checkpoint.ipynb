{
 "cells": [
  {
   "cell_type": "markdown",
   "metadata": {},
   "source": [
    "## Generate synthetic multiband photoemission data using DFT calculations"
   ]
  },
  {
   "cell_type": "code",
   "execution_count": null,
   "metadata": {},
   "outputs": [],
   "source": [
    "import warnings as wn\n",
    "wn.filterwarnings(\"ignore\")\n",
    "\n",
    "import os\n",
    "import numpy as np\n",
    "import fuller\n",
    "from mpes import analysis as aly\n",
    "import matplotlib.pyplot as plt\n",
    "from matplotlib.ticker import (MultipleLocator, FormatStrFormatter,\n",
    "                               AutoMinorLocator)\n",
    "from tqdm import tqdm_notebook as tqdm\n",
    "import tifffile as ti\n",
    "import matplotlib as mpl\n",
    "from scipy import interpolate\n",
    "%matplotlib inline"
   ]
  },
  {
   "cell_type": "code",
   "execution_count": null,
   "metadata": {},
   "outputs": [],
   "source": [
    "mpl.rcParams['font.family'] = 'sans-serif'\n",
    "mpl.rcParams['font.sans-serif'] = 'Arial'\n",
    "mpl.rcParams['axes.linewidth'] = 2\n",
    "mpl.rcParams['pdf.fonttype'] = 42\n",
    "mpl.rcParams['ps.fonttype'] = 42\n",
    "\n",
    "# Create plot folder if needed\n",
    "if not os.path.exists('../results/figures'):\n",
    "    os.mkdir('../results/figures')"
   ]
  },
  {
   "cell_type": "code",
   "execution_count": null,
   "metadata": {},
   "outputs": [],
   "source": [
    "ncfs = 400\n",
    "bases = fuller.generator.ppz.hexike_basis(nterms=ncfs, npix=207, vertical=True, outside=0)"
   ]
  },
  {
   "cell_type": "code",
   "execution_count": null,
   "metadata": {},
   "outputs": [],
   "source": [
    "# Compute the polynomial decomposition coefficients\n",
    "bandout = np.nan_to_num(fuller.utils.loadHDF('../data/theory/bands_1BZ/wse2_lda_bandcuts.h5')['bands'])\n",
    "ldashift = 0.86813 # For zeroing the energy at K points\n",
    "bcfs = []\n",
    "for i in tqdm(range(14)):\n",
    "    bcfs.append(fuller.generator.decomposition_hex2d(bandout[i,...] + ldashift, bases=bases, baxis=0, ret='coeffs'))\n",
    "bcfs = np.array(bcfs)"
   ]
  },
  {
   "cell_type": "code",
   "execution_count": null,
   "metadata": {},
   "outputs": [],
   "source": [
    "# Generate Brillouin zone mask\n",
    "bzmsk = fuller.generator.hexmask(hexdiag=207, imside=207, padded=False, margins=[1, 1, 1, 1])\n",
    "bzmsk_tight = fuller.generator.hexmask(hexdiag=201, imside=207, padded=True, margins=[3, 3, 3, 3])"
   ]
  },
  {
   "cell_type": "code",
   "execution_count": null,
   "metadata": {},
   "outputs": [],
   "source": [
    "# Generate photoemission data without padding\n",
    "nbands = 8\n",
    "bshape = (207, 207)\n",
    "amps = np.ones(bshape)\n",
    "xs = np.linspace(-4.5, 0.5, 285, endpoint=True)\n",
    "syndat = np.zeros((285, 207, 207))\n",
    "gamss = []\n",
    "for i in tqdm(range(nbands)):\n",
    "    gams = 0.05\n",
    "    syndat += aly.voigt(feval=True, vardict={'amp':amps, 'xvar':xs[:,None,None], 'ctr':(bandout[i,...] + 0.86813),\n",
    "                                        'sig':0.1, 'gam':gams})"
   ]
  },
  {
   "cell_type": "code",
   "execution_count": null,
   "metadata": {},
   "outputs": [],
   "source": [
    "hwd = 103.5 # Half width of projected Brillouin zone in pixels"
   ]
  },
  {
   "cell_type": "code",
   "execution_count": null,
   "metadata": {},
   "outputs": [],
   "source": [
    "# Generate edge-padded bands\n",
    "synfbands = []\n",
    "padsize = ((24, 24), (24, 24))\n",
    "for i in tqdm(range(nbands)): \n",
    "    impad = fuller.generator.hexpad(bandout[i,...] + 0.86813, cvd=hwd, mask=bzmsk, edgepad=padsize)\n",
    "    synfbands.append(fuller.generator.restore(impad, method='cubic'))\n",
    "synfbands = np.asarray(synfbands)"
   ]
  },
  {
   "cell_type": "code",
   "execution_count": null,
   "metadata": {},
   "outputs": [],
   "source": [
    "# Generate edge-padded photoemission data\n",
    "bshape = (255, 255)\n",
    "amps = np.ones(bshape)\n",
    "xs = np.linspace(-4.5, 0.5, 285, endpoint=True)\n",
    "synfdat = np.zeros((285, 255, 255))\n",
    "gamss = []\n",
    "for i in tqdm(range(nbands)):\n",
    "#     btemp = np.nan_to_num(synbands[i,...])\n",
    "#     gams = np.abs(synfbands[i,...] - np.nanmean(synfbands[i,...]))/3\n",
    "    gams = 0.05\n",
    "#     gamss.append(gams)\n",
    "    synfdat += aly.voigt(feval=True, vardict={'amp':amps, 'xvar':xs[:,None,None], 'ctr':(synfbands[i,...]),\n",
    "                                        'sig':0.1, 'gam':gams})\n",
    "# gamss = np.asarray(gamss)"
   ]
  },
  {
   "cell_type": "code",
   "execution_count": null,
   "metadata": {},
   "outputs": [],
   "source": [
    "xss = np.linspace(-4.5, 0.5, 285, endpoint=True)\n",
    "xss[1] - xss[0], xss.size"
   ]
  },
  {
   "cell_type": "code",
   "execution_count": null,
   "metadata": {},
   "outputs": [],
   "source": [
    "plt.imshow(synfdat[:,80,:], aspect=0.8, origin='lower', cmap='terrain_r')"
   ]
  },
  {
   "cell_type": "code",
   "execution_count": null,
   "metadata": {},
   "outputs": [],
   "source": [
    "# Generate mask for large coefficients\n",
    "cfmask = fuller.utils.binarize(bcfs, threshold=1e-2, vals=[0, 1])\n",
    "cfmask[:, 0] = 0 # No rigid shift modulation"
   ]
  },
  {
   "cell_type": "code",
   "execution_count": null,
   "metadata": {},
   "outputs": [],
   "source": [
    "# Generate coefficient-scaled data\n",
    "synfscaled = {}\n",
    "# errs = np.around(np.arange(0.3, 2.01, 0.05), 2)\n",
    "errs = [0.8, 1.0, 1.2]\n",
    "bscmod = bcfs.copy()\n",
    "\n",
    "for err in tqdm(errs):\n",
    "    \n",
    "    synbands = []\n",
    "    for i in range(nbands):\n",
    "        \n",
    "        bscmod[i, 1:] = err*bcfs[i, 1:] # Scale only the dispersion terms (leave out the first offset term)\n",
    "        bandmod = fuller.generator.reconstruction_hex2d(bscmod[i, :], bases=bases)\n",
    "        \n",
    "        # Sixfold rotational symmetrization\n",
    "        symmed = fuller.generator.rotosymmetrize(bandmod, center=(hwd, hwd), rotsym=6)[0]\n",
    "        symmed = fuller.generator.reflectosymmetrize(symmed, center=(hwd, hwd), refangles=[0, 90])\n",
    "        padded = fuller.generator.hexpad(symmed, cvd=103.5, mask=bzmsk_tight, edgepad=padsize)\n",
    "        synbands.append(fuller.generator.restore(padded, method='nearest'))\n",
    "    \n",
    "    synfscaled[str(err)] = np.asarray(synbands)"
   ]
  },
  {
   "cell_type": "code",
   "execution_count": null,
   "metadata": {},
   "outputs": [],
   "source": [
    "plt.figure(figsize=(6, 6))\n",
    "plt.imshow(synbands[0])"
   ]
  },
  {
   "cell_type": "code",
   "execution_count": null,
   "metadata": {},
   "outputs": [],
   "source": [
    "# Calibrate momentum axes\n",
    "mc = aly.MomentumCorrector(np.asarray(synbands))\n",
    "mc.selectSlice2D(selector=slice(0,1), axis=0)"
   ]
  },
  {
   "cell_type": "code",
   "execution_count": null,
   "metadata": {},
   "outputs": [],
   "source": [
    "mc.featureExtract(mc.slice, method='daofind', fwhm=30, sigma=20)\n",
    "#mc.view(mc.slice, annotated=True, points=mc.features)"
   ]
  },
  {
   "cell_type": "code",
   "execution_count": null,
   "metadata": {},
   "outputs": [],
   "source": [
    "# Calculate distances\n",
    "dg = 1.27/np.cos(np.radians(30))\n",
    "axes = mc.calibrate(mc.slice, mc.pouter_ord[0,:], mc.pcent, dist=dg, equiscale=True, ret='axes')\n",
    "dg, axes['axes'][0][0], axes['axes'][0][-1]"
   ]
  },
  {
   "cell_type": "markdown",
   "metadata": {},
   "source": [
    "### Supplementary Figure 9c"
   ]
  },
  {
   "cell_type": "code",
   "execution_count": null,
   "metadata": {},
   "outputs": [],
   "source": [
    "kx, ky = axes['axes'][0], axes['axes'][1]\n",
    "emin, emax = xs.min(), xs.max()\n",
    "kxtight = kx[24:-24]\n",
    "kytight = ky[24:-24]\n",
    "kxmin, kxmax = kxtight.min(), kxtight.max()\n",
    "kymin, kymax = kytight.min(), kytight.max()"
   ]
  },
  {
   "cell_type": "code",
   "execution_count": null,
   "metadata": {},
   "outputs": [],
   "source": [
    "islc = 90 # slice index\n",
    "f, axs = plt.subplots(1, 2, figsize=(10, 6))\n",
    "bands_tight = bandout + ldashift\n",
    "\n",
    "cs = ['r']\n",
    "labels = [0.8]\n",
    "for ni, i in enumerate(labels):\n",
    "    lbl = str(i)\n",
    "    reconbands = bzmsk_tight*(synfscaled[lbl][:,24:-24,24:-24])\n",
    "    for j in range(8):\n",
    "        axs[0].plot(kxtight, reconbands[j, islc, :], c=cs[ni])\n",
    "        axs[1].plot(kytight, reconbands[j, :, islc], c=cs[ni])\n",
    "        if j == 7:\n",
    "            axs[0].plot(kxtight, reconbands[j, islc, :], c=cs[ni], label='Scaled LDA ('+lbl+r'$\\times$)')\n",
    "            axs[1].plot(kytight, reconbands[j, :, islc], c=cs[ni], label='Scaled LDA ('+lbl+r'$\\times$)')\n",
    "\n",
    "gtband = bzmsk_tight*bands_tight\n",
    "for j in range(8):\n",
    "    axs[0].plot(kxtight, gtband[j, islc, :], c='k', lw=2)\n",
    "    axs[1].plot(kytight, gtband[j, :, islc], c='k', lw=2)\n",
    "    if j == 7:\n",
    "        axs[0].plot(kxtight, gtband[j, islc, :], c='k', lw=2, label=r'LDA calc. (1.0$\\times$)')\n",
    "        axs[1].plot(kytight, gtband[j, :, islc], c='k', lw=2, label=r'LDA calc. (1.0$\\times$)')\n",
    "\n",
    "cs = ['g']\n",
    "labels = [1.2]\n",
    "for ni, i in enumerate(labels):\n",
    "    lbl = str(i)\n",
    "    reconbands = bzmsk_tight*(synfscaled[lbl][:,24:-24,24:-24])\n",
    "    for j in range(8):\n",
    "        axs[0].plot(kxtight, reconbands[j, islc, :], c=cs[ni])\n",
    "        axs[1].plot(kytight, reconbands[j, :, islc], c=cs[ni])\n",
    "        if j == 7:\n",
    "            axs[0].plot(kxtight, reconbands[j, islc, :], c=cs[ni], label='Scaled LDA ('+lbl+r'$\\times$)')\n",
    "            axs[1].plot(kytight, reconbands[j, :, islc], c=cs[ni], label='Scaled LDA ('+lbl+r'$\\times$)')\n",
    "\n",
    "for i in range(2):\n",
    "    axs[i].tick_params(which='major', axis='both', length=8, width=2, labelsize=15)\n",
    "    axs[i].tick_params(which='minor', axis='both', length=8, width=1)\n",
    "    axs[i].set_xticks(np.arange(-1., 1.1, 1))\n",
    "    axs[i].xaxis.set_minor_locator(AutoMinorLocator(2))\n",
    "    axs[i].legend(loc='upper left', frameon=False, fontsize=15, ncol=1, labelspacing=0.1, borderpad=0, columnspacing=1)\n",
    "    axs[i].set_yticks(np.arange(-4, 2, 1))\n",
    "    axs[i].set_ylim([-4.2, 1.3])\n",
    "    \n",
    "axs[0].yaxis.set_minor_locator(AutoMinorLocator(2))\n",
    "axs[0].set_xlabel('$k_x$ $(\\mathrm{\\AA}^{-1})$', fontsize=18)\n",
    "axs[0].set_ylabel('Energy (eV)', fontsize=18)\n",
    "axs[1].set_xlabel('$k_y$ $(\\mathrm{\\AA}^{-1})$', fontsize=18)\n",
    "axs[1].set_yticks([])\n",
    "plt.subplots_adjust(wspace=0.1)\n",
    "plt.savefig('../results/figures/sfig_9c.png', bbox_inches='tight', transparent=True, dpi=300)"
   ]
  }
 ],
 "metadata": {
  "kernelspec": {
   "display_name": "Python 3 (ipykernel)",
   "language": "python",
   "name": "python3"
  },
  "language_info": {
   "codemirror_mode": {
    "name": "ipython",
    "version": 3
   },
   "file_extension": ".py",
   "mimetype": "text/x-python",
   "name": "python",
   "nbconvert_exporter": "python",
   "pygments_lexer": "ipython3",
   "version": "3.7.13"
  }
 },
 "nbformat": 4,
 "nbformat_minor": 2
}
