{
 "cells": [
  {
   "cell_type": "markdown",
   "metadata": {},
   "source": [
    "## Tests of the Markov random field model for reconstructing 3D synthetic data"
   ]
  },
  {
   "cell_type": "code",
   "execution_count": null,
   "metadata": {},
   "outputs": [],
   "source": [
    "import os\n",
    "import warnings as wn\n",
    "wn.filterwarnings(\"ignore\")\n",
    "\n",
    "import numpy as np\n",
    "import fuller\n",
    "import matplotlib.pyplot as plt\n",
    "from mpes import analysis as aly\n",
    "import matplotlib as mpl\n",
    "import matplotlib.gridspec as gridspec\n",
    "from mpl_toolkits.mplot3d import Axes3D\n",
    "import matplotlib.tri as mtri\n",
    "import tifffile as ti\n",
    "from scipy import io\n",
    "%matplotlib inline"
   ]
  },
  {
   "cell_type": "code",
   "execution_count": null,
   "metadata": {},
   "outputs": [],
   "source": [
    "mpl.rcParams['font.family'] = 'sans-serif'\n",
    "mpl.rcParams['font.sans-serif'] = 'Arial'\n",
    "mpl.rcParams['axes.linewidth'] = 2\n",
    "mpl.rcParams['pdf.fonttype'] = 42\n",
    "mpl.rcParams['ps.fonttype'] = 42\n",
    "\n",
    "# Create plot folder if needed\n",
    "if not os.path.exists('../results/figures'):\n",
    "    os.mkdir('../results/figures')"
   ]
  },
  {
   "cell_type": "markdown",
   "metadata": {},
   "source": [
    "## 3D single band: Second-order Griewank function"
   ]
  },
  {
   "cell_type": "markdown",
   "metadata": {},
   "source": [
    "### Data generation"
   ]
  },
  {
   "cell_type": "code",
   "execution_count": null,
   "metadata": {},
   "outputs": [],
   "source": [
    "kx = np.arange(-6, 6, 0.04)\n",
    "ky = np.arange(-6, 6, 0.04)\n",
    "kyy, kxx = np.meshgrid(kx, ky)\n",
    "\n",
    "band_griewank = 1/4000*sum((kxx/2)**2 + (kyy/2)**2) - np.cos(2*kxx)*np.cos(2*(np.sqrt(2)/2)*kyy) - 1.5\n",
    "b3d_min, b3d_max = band_griewank.min(), band_griewank.max()\n",
    "\n",
    "Evals = np.linspace(b3d_min-2, b3d_max+2, 400)\n",
    "pes_data_3d = aly.voigt(feval=True, vardict={'amp':1, 'xvar':Evals[:, None, None],\n",
    "                                             'ctr':band_griewank, 'sig':1, 'gam':0.3})\n",
    "\n",
    "plt.imshow(pes_data_3d[:, :, 150], cmap='Blues')"
   ]
  },
  {
   "cell_type": "markdown",
   "metadata": {},
   "source": [
    "### Reconstruction"
   ]
  },
  {
   "cell_type": "code",
   "execution_count": null,
   "metadata": {},
   "outputs": [],
   "source": [
    "# Create model\n",
    "I = np.transpose(pes_data_3d, (1, 2, 0))\n",
    "I = I / I.max()\n",
    "E0 = np.zeros_like(band_griewank)\n",
    "\n",
    "mrf = fuller.mrfRec.MrfRec(E=Evals, kx=kx, ky=ky, I=I, E0=E0, eta=1)"
   ]
  },
  {
   "cell_type": "code",
   "execution_count": null,
   "metadata": {},
   "outputs": [],
   "source": [
    "# Perform reconstruction\n",
    "mrf.iter_para(200)"
   ]
  },
  {
   "cell_type": "markdown",
   "metadata": {},
   "source": [
    "### Supplementary Figure 5d"
   ]
  },
  {
   "cell_type": "code",
   "execution_count": null,
   "metadata": {},
   "outputs": [],
   "source": [
    "# Summary plot\n",
    "\n",
    "recon3d = mrf.getEb()\n",
    "\n",
    "gs = gridspec.GridSpec(1, 3, width_ratios=[5,5,5])\n",
    "fig = plt.figure(figsize=(10, 4))\n",
    "axs = []\n",
    "for i in range(3):\n",
    "    axs.append(fig.add_subplot(gs[i]))\n",
    "    \n",
    "im = axs[0].imshow(band_griewank, aspect=1, extent=[-6, 6, -6, 6], vmin=-2.2, vmax=0, cmap='Spectral_r')\n",
    "axs[0].set_yticks(range(-6, 7, 2))\n",
    "axs[0].set_ylabel('$k_y$ (a.u.)', fontsize=15)\n",
    "axs[0].set_title('Ground truth', fontsize=15)\n",
    "cax = fig.add_axes([0.93, 0.2, 0.02, 0.2])\n",
    "cb = fig.colorbar(im, cax=cax, orientation='vertical', ticks=np.arange(-2, 0.1, 1))\n",
    "cb.ax.set_title('Energy\\n(a.u.)', fontsize=15, pad=10)\n",
    "cb.ax.tick_params(axis='both', length=8, width=2, labelsize=15)\n",
    "\n",
    "axs[1].imshow(E0, cmap='Spectral_r', extent=[-6, 6, -6, 6], vmin=-2.2, vmax=0)\n",
    "axs[1].set_title('Initialization', fontsize=15)\n",
    "axs[1].tick_params(axis='y', length=0)\n",
    "axs[1].set_yticks([])\n",
    "\n",
    "axs[2].imshow(recon3d, aspect=1, extent=[-6, 6, -6, 6], vmin=-2.2, vmax=0, cmap='Spectral_r')\n",
    "axs[2].set_yticks([])\n",
    "axs[2].set_title('Reconstruction', fontsize=15)\n",
    "\n",
    "for i in [0,1,2]:\n",
    "    axs[i].set_xticks(range(-6, 7, 2))\n",
    "    axs[i].set_xlabel('$k_x$ (a.u.)', fontsize=15)\n",
    "    axs[i].tick_params(axis='both', length=8, width=2, labelsize=15)\n",
    "\n",
    "plt.subplots_adjust(wspace=0.15)\n",
    "plt.savefig('../results/figures/sfig_6d1.png', dpi=300, bbox_inches='tight', transparent=True)"
   ]
  },
  {
   "cell_type": "code",
   "execution_count": null,
   "metadata": {},
   "outputs": [],
   "source": [
    "f, ax = plt.subplots(figsize=(4, 3))\n",
    "im = ax.imshow(recon3d - band_griewank, cmap='RdBu_r', vmax=0.1, vmin=-0.1, extent=[-6, 6, -6, 6])\n",
    "ax.tick_params(axis='both', length=8, width=2, labelsize=15)\n",
    "ax.set_xticks(range(-6, 7, 2))\n",
    "ax.set_xlabel('$k_x$ (a.u.)', fontsize=15)\n",
    "ax.set_yticks(range(-6, 7, 2))\n",
    "ax.set_ylabel('$k_y$ (a.u.)', fontsize=15, rotation=-90, labelpad=20)\n",
    "ax.yaxis.set_label_position(\"right\")\n",
    "ax.yaxis.tick_right()\n",
    "ax.set_title('Difference', fontsize=15)\n",
    "cax = f.add_axes([-0.02, 0.53, 0.05, 0.25])\n",
    "cb = plt.colorbar(im, cax=cax, orientation='vertical')\n",
    "cb.ax.tick_params(axis='both', length=8, width=2, labelsize=15)\n",
    "cb.ax.set_title('Energy\\n(a.u.)', fontsize=15, pad=10)\n",
    "plt.savefig('../results/figures/sfig_6d2.png', dpi=300, bbox_inches='tight', transparent=True)"
   ]
  },
  {
   "cell_type": "markdown",
   "metadata": {},
   "source": [
    "## 3D band near-crossing: graphene band struction nearby Fermi level"
   ]
  },
  {
   "cell_type": "markdown",
   "metadata": {},
   "source": [
    "### Data generation"
   ]
  },
  {
   "cell_type": "code",
   "execution_count": null,
   "metadata": {},
   "outputs": [],
   "source": [
    "kx = np.arange(-1, 1, 0.01)\n",
    "ky = np.arange(-1, 1, 0.01)\n",
    "kyy, kxx = np.meshgrid(kx, ky)\n",
    "\n",
    "sq3 = np.sqrt(3)\n",
    "t, a = 1, 2*np.pi / (sq3)\n",
    "band_graphene = 1 + 4 * (np.cos(sq3 * kyy * a / 2) ** 2) + 4 * np.cos(sq3 * kyy * a / 2) * np.cos(3 * kxx * a / 2)\n",
    "band_graphene[band_graphene < 0] = 1.e-10\n",
    "band_graphene_upper = t*np.sqrt(band_graphene)\n",
    "band_graphene_lower = - t*np.sqrt(band_graphene)\n",
    "b3d_max, b3d_min = band_graphene_upper.max(), band_graphene_lower.min()"
   ]
  },
  {
   "cell_type": "code",
   "execution_count": null,
   "metadata": {},
   "outputs": [],
   "source": [
    "f = plt.figure(figsize=(6, 5))\n",
    "ax = f.add_subplot(111, projection='3d')\n",
    "\n",
    "tri = mtri.Triangulation(kyy.flatten(), kxx.flatten())\n",
    "ax.plot_trisurf(kxx.flatten(), kyy.flatten(), band_graphene_upper.flatten(),\n",
    "                triangles=tri.triangles, cmap='Spectral_r', antialiased=False)\n",
    "ax.plot_trisurf(kxx.flatten(), kyy.flatten(), band_graphene_lower.flatten(),\n",
    "                triangles=tri.triangles, cmap='Spectral', antialiased=False)\n",
    "\n",
    "ax.set_xlabel('$k_x$', labelpad=15)\n",
    "ax.set_ylabel('$k_y$', labelpad=15)\n",
    "ax.set_zlabel('Energy', labelpad=15);"
   ]
  },
  {
   "cell_type": "code",
   "execution_count": null,
   "metadata": {},
   "outputs": [],
   "source": [
    "Evals = np.linspace(b3d_min-2, b3d_max+2, 400)\n",
    "pes_data_3d_upper = aly.voigt(feval=True, vardict={'amp':1, 'xvar':Evals[:, None, None],\n",
    "                                             'ctr':band_graphene_upper, 'sig':0.2, 'gam':0.3})\n",
    "pes_data_3d_lower = aly.voigt(feval=True, vardict={'amp':1, 'xvar':Evals[:, None, None],\n",
    "                                             'ctr':band_graphene_lower, 'sig':0.2, 'gam':0.3})\n",
    "pes_data_3d = pes_data_3d_upper + pes_data_3d_lower\n",
    "\n",
    "plt.imshow(pes_data_3d[:, 90, :], aspect=0.15, extent=[-1, 1, b3d_min-2, b3d_max+2], cmap='Blues')\n",
    "plt.xlabel('$k_x$', fontsize=15)\n",
    "plt.ylabel('Energy', fontsize=15)\n",
    "plt.tick_params(axis='both', length=8, width=2, labelsize=15)"
   ]
  },
  {
   "cell_type": "markdown",
   "metadata": {},
   "source": [
    "### Reconstruction"
   ]
  },
  {
   "cell_type": "code",
   "execution_count": null,
   "metadata": {},
   "outputs": [],
   "source": [
    "I = np.transpose(pes_data_3d, (1, 2, 0))\n",
    "I = I / I.max()\n",
    "\n",
    "results = np.zeros((2,) + band_graphene.shape)\n",
    "E0 = np.ones((2,) + band_graphene.shape) * 4\n",
    "E0[1, :, :] *= -1\n",
    "\n",
    "for i in range(2):\n",
    "    mrf = fuller.mrfRec.MrfRec(E=Evals, kx=kx, ky=ky, I=I, E0=E0[i,...], eta=0.3)\n",
    "    mrf.iter_para(200)\n",
    "    results[i,...] = mrf.getEb()"
   ]
  },
  {
   "cell_type": "markdown",
   "metadata": {},
   "source": [
    "### Supplementary Figure 5f"
   ]
  },
  {
   "cell_type": "code",
   "execution_count": null,
   "metadata": {},
   "outputs": [],
   "source": [
    "# Summary plot\n",
    "recon3d_upper = results[0,...]\n",
    "recon3d_lower = results[1,...]\n",
    "\n",
    "init_upper = E0[0,...]\n",
    "init_lower = E0[1,...]\n",
    "\n",
    "gs = gridspec.GridSpec(2, 3)\n",
    "fig = plt.figure(figsize=(9.8, 6.5))\n",
    "axs = []\n",
    "for i in range(6):\n",
    "    axs.append(fig.add_subplot(gs[i]))\n",
    "    \n",
    "axs[0].imshow(band_graphene_upper, aspect=1, extent=[-1, 1, -1, 1], vmin=0, vmax=3, cmap='Spectral_r')\n",
    "axs[0].set_yticks(np.arange(-1, 1.1, 0.5))\n",
    "axs[0].set_ylabel('$k_y$ $(\\mathrm{\\AA^{-1}})$', fontsize=15)\n",
    "axs[0].set_title('Ground truth', fontsize=15)\n",
    "axs[0].tick_params(axis='both', length=8, width=2, labelsize=15)\n",
    "axs[0].text(0.15, 0.9, 'Conduction Band', fontsize=15, transform=axs[0].transAxes)\n",
    "\n",
    "axs[1].imshow(init_upper, cmap='Spectral_r', aspect=1, extent=[-1, 1, -1, 1], vmin=0, vmax=3)\n",
    "axs[1].set_title('Initialization', fontsize=15)\n",
    "axs[1].tick_params(axis='y', length=0)\n",
    "axs[1].set_yticks([])\n",
    "\n",
    "imu = axs[2].imshow(recon3d_upper, aspect=1, extent=[-1, 1, -1, 1], vmin=0, vmax=3, cmap='Spectral_r')\n",
    "axs[2].set_yticks([])\n",
    "axs[2].set_title('Reconstruction', fontsize=15)\n",
    "axs[2].yaxis.set_label_position(\"right\")\n",
    "\n",
    "# Upper band colorbar\n",
    "caxu = fig.add_axes([0.94, 0.5, 0.02, 0.12])\n",
    "cbu = fig.colorbar(imu, cax=caxu, orientation='vertical', ticks=np.arange(0, 3.1, 1))\n",
    "cbu.ax.set_title('Energy\\n(eV)', fontsize=15, pad=10)\n",
    "cbu.ax.tick_params(axis='both', length=8, width=2, labelsize=15)\n",
    "\n",
    "iml = axs[3].imshow(band_graphene_lower, aspect=1, extent=[-1, 1, -1, 1], vmin=-3, vmax=0, cmap='Spectral_r')\n",
    "axs[3].set_yticks(np.arange(-1, 1.1, 0.5))\n",
    "axs[3].set_ylabel('$k_y$ $(\\mathrm{\\AA^{-1}})$', fontsize=15)\n",
    "axs[3].text(0.3, 0.9, 'Valence Band', fontsize=15, transform=axs[3].transAxes)\n",
    "\n",
    "axs[4].imshow(init_lower, cmap='Spectral_r', aspect=1, extent=[-1, 1, -1, 1], vmin=-3, vmax=0)\n",
    "axs[4].tick_params(axis='y', length=0)\n",
    "axs[4].set_yticks([])\n",
    "\n",
    "axs[5].imshow(recon3d_lower, aspect=1, extent=[-1, 1, -1, 1], vmin=-3, vmax=0, cmap='Spectral_r')\n",
    "axs[5].set_yticks([])\n",
    "axs[5].yaxis.set_label_position(\"right\")\n",
    "\n",
    "# Lower band colorbar\n",
    "caxl = fig.add_axes([0.94, 0.03, 0.02, 0.12])\n",
    "cbl = fig.colorbar(iml, cax=caxl, orientation='vertical', ticks=np.arange(-3, 0.1, 1))\n",
    "cbl.ax.set_title('Energy\\n(eV)', fontsize=15, pad=10)\n",
    "cbl.ax.tick_params(axis='both', length=8, width=2, labelsize=15)\n",
    "\n",
    "for i in [0, 1, 2]:\n",
    "    axs[i].set_xticks([])\n",
    "    \n",
    "for i in [3, 4, 5]:\n",
    "    axs[i].set_xticks(np.arange(-1, 1.1, 0.5))\n",
    "    axs[i].set_xlabel('$k_x$ $(\\mathrm{\\AA^{-1}})$', fontsize=15)\n",
    "    axs[i].tick_params(axis='both', length=8, width=2, labelsize=15)\n",
    "    \n",
    "plt.subplots_adjust(hspace=0.18, wspace=0.1)\n",
    "plt.savefig('../results/figures/sfig_6f1.png', dpi=300, bbox_inches='tight', transparent=True)"
   ]
  },
  {
   "cell_type": "code",
   "execution_count": null,
   "metadata": {},
   "outputs": [],
   "source": [
    "f, ax = plt.subplots(figsize=(4, 3))\n",
    "im = ax.imshow(recon3d_upper - band_graphene_upper, cmap='RdBu_r', vmax=0.1, vmin=-0.1, extent=[-1, 1, -1, 1])\n",
    "ax.tick_params(axis='both', length=8, width=2, labelsize=15)\n",
    "ax.set_xticks(np.arange(-1, 1.1, 0.5))\n",
    "ax.set_xlabel('$k_x$ $(\\mathrm{\\AA^{-1}})$', fontsize=15)\n",
    "ax.set_yticks(np.arange(-1, 1.1, 0.5))\n",
    "ax.set_ylabel('$k_y$ $(\\mathrm{\\AA^{-1}})$', fontsize=15, rotation=-90, labelpad=20)\n",
    "ax.yaxis.set_label_position(\"right\")\n",
    "ax.yaxis.tick_right()\n",
    "ax.set_title('Difference', fontsize=15)\n",
    "cax = f.add_axes([-0.02, 0.53, 0.05, 0.25])\n",
    "cb = plt.colorbar(im, cax=cax, orientation='vertical')\n",
    "cb.ax.tick_params(axis='both', length=8, width=2, labelsize=15)\n",
    "cb.ax.set_title('Energy\\n(eV)', fontsize=15, pad=10)\n",
    "plt.savefig('../results/figures/sfig_6f2.png', dpi=300, bbox_inches='tight', transparent=True)"
   ]
  },
  {
   "cell_type": "code",
   "execution_count": null,
   "metadata": {},
   "outputs": [],
   "source": [
    "f, ax = plt.subplots(figsize=(4, 3))\n",
    "im = ax.imshow(recon3d_lower - band_graphene_lower, cmap='RdBu_r', vmax=0.1, vmin=-0.1, extent=[-1, 1, -1, 1])\n",
    "ax.tick_params(axis='both', length=8, width=2, labelsize=15)\n",
    "ax.set_xticks(np.arange(-1, 1.1, 0.5))\n",
    "ax.set_xlabel('$k_x$ $(\\mathrm{\\AA^{-1}})$', fontsize=15)\n",
    "ax.set_yticks(np.arange(-1, 1.1, 0.5))\n",
    "ax.set_ylabel('$k_y$ $(\\mathrm{\\AA^{-1}})$', fontsize=15, rotation=-90, labelpad=20)\n",
    "ax.yaxis.set_label_position(\"right\")\n",
    "ax.yaxis.tick_right()\n",
    "ax.set_title('Difference', fontsize=15)\n",
    "cax = f.add_axes([-0.02, 0.53, 0.05, 0.25])\n",
    "cb = plt.colorbar(im, cax=cax, orientation='vertical')\n",
    "cb.ax.tick_params(axis='both', length=8, width=2, labelsize=15)\n",
    "cb.ax.set_title('Energy\\n(eV)', fontsize=15, pad=10)\n",
    "plt.savefig('../results/figures/sfig_6f3.png', dpi=300, bbox_inches='tight', transparent=True)"
   ]
  }
 ],
 "metadata": {
  "kernelspec": {
   "display_name": "Python 3 (ipykernel)",
   "language": "python",
   "name": "python3"
  },
  "language_info": {
   "codemirror_mode": {
    "name": "ipython",
    "version": 3
   },
   "file_extension": ".py",
   "mimetype": "text/x-python",
   "name": "python",
   "nbconvert_exporter": "python",
   "pygments_lexer": "ipython3",
   "version": "3.7.13"
  }
 },
 "nbformat": 4,
 "nbformat_minor": 2
}
