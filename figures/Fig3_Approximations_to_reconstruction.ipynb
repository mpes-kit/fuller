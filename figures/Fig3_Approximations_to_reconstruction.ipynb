{
 "cells": [
  {
   "cell_type": "markdown",
   "metadata": {},
   "source": [
    "## Illustration of approximations to a reconstructed band"
   ]
  },
  {
   "cell_type": "code",
   "execution_count": null,
   "metadata": {},
   "outputs": [],
   "source": [
    "import warnings as wn\n",
    "wn.filterwarnings(\"ignore\")\n",
    "\n",
    "import os\n",
    "import numpy as np\n",
    "import fuller\n",
    "import matplotlib.pyplot as plt\n",
    "import matplotlib as mpl\n",
    "from tqdm import tqdm_notebook as tqdm\n",
    "from matplotlib.ticker import AutoMinorLocator\n",
    "%matplotlib inline"
   ]
  },
  {
   "cell_type": "code",
   "execution_count": null,
   "metadata": {},
   "outputs": [],
   "source": [
    "mpl.rcParams['font.family'] = 'sans-serif'\n",
    "mpl.rcParams['font.sans-serif'] = 'Arial'\n",
    "mpl.rcParams['axes.linewidth'] = 2\n",
    "mpl.rcParams['pdf.fonttype'] = 42\n",
    "mpl.rcParams['ps.fonttype'] = 42\n",
    "\n",
    "# Create plot folder if needed\n",
    "if not os.path.exists('../results/figures'):\n",
    "    os.mkdir('../results/figures')"
   ]
  },
  {
   "cell_type": "code",
   "execution_count": null,
   "metadata": {},
   "outputs": [],
   "source": [
    "bandcuts = np.load(r'../data/processed/wse2_recon_1BZ/postproc_bandcuts_lda.npz')['bandcuts']\n",
    "plt.imshow(bandcuts[3,...])"
   ]
  },
  {
   "cell_type": "code",
   "execution_count": null,
   "metadata": {},
   "outputs": [],
   "source": [
    "# Approximations using different numbers of basis terms and in different orders\n",
    "idx = 3\n",
    "recon = np.zeros_like(bandcuts[0,...])\n",
    "indarr = list(range(5, 400, 1))\n",
    "# errors for summation in default polynomial order (errseq) and in coefficient-ranked order (errmaj)\n",
    "errseq, errmaj = [], []\n",
    "# The pixel-averaged versions of errseq and errmaj\n",
    "errseqavg, errmajavg = [], []\n",
    "reconms = []\n",
    "bandref = np.nan_to_num(bandcuts[idx,...])\n",
    "bcf, bss0 = fuller.generator.decomposition_hex2d(bandref, nterms=400, ret='all')\n",
    "npixbz = np.sum(bss0[0,...] == 1) # Number of pixels within the first Brillouin zone\n",
    "magind = np.argsort(np.abs(bcf))[::-1]\n",
    "\n",
    "for nt in tqdm(indarr):\n",
    "    # Generate mask\n",
    "    currcf = np.zeros_like(bcf)\n",
    "    currcfm = np.zeros_like(bcf)\n",
    "    currcf[:nt] = bcf[:nt]\n",
    "    currcfm[magind[:nt]] = bcf[magind[:nt]]\n",
    "    recon = fuller.generator.reconstruction_hex2d(currcf, bss0)\n",
    "    reconm = fuller.generator.reconstruction_hex2d(currcfm, bss0)\n",
    "\n",
    "    reconms.append(reconm)\n",
    "    errseq.append(np.linalg.norm(recon - bandref)/np.linalg.norm(bandref))\n",
    "    errmaj.append(np.linalg.norm(reconm - bandref)/np.linalg.norm(bandref))\n",
    "    errseqavg.append(np.linalg.norm(recon - bandref)/np.sqrt(npixbz))\n",
    "    errmajavg.append(np.linalg.norm(reconm - bandref)/np.sqrt(npixbz))\n",
    "\n",
    "errseq, errmaj, errseqavg, errmajavg = list(map(np.asarray, [errseq, errmaj, errseqavg, errmajavg]))\n",
    "reconms = np.asarray(reconms)"
   ]
  },
  {
   "cell_type": "markdown",
   "metadata": {},
   "source": [
    "### Main Figure 3b"
   ]
  },
  {
   "cell_type": "code",
   "execution_count": null,
   "metadata": {},
   "outputs": [],
   "source": [
    "f, ax = plt.subplots(figsize=(5, 3.5))\n",
    "\n",
    "ax.plot(indarr, errmajavg*1000, '-', lw=2, c='#0000FF')\n",
    "ax.plot(indarr, errseqavg*1000, '-', lw=2, c='#CC6600')\n",
    "\n",
    "ax.set_xlabel('Number of terms', fontsize=18)\n",
    "ax.set_ylabel('Avg. approx. error (meV)', fontsize=18)\n",
    "ax.set_xticks(range(0, 181, 20))\n",
    "ax.set_ylim([0, 200])\n",
    "ax.set_xlim([0, 100])\n",
    "\n",
    "ax.tick_params(which='major', axis='both', length=8, width=2, labelsize=18)\n",
    "ax.tick_params(which='minor', axis='both', length=8, width=1, labelsize=18)\n",
    "\n",
    "ax.axvline(x=5, ls='--', c='k', dashes=(5, 3))\n",
    "ax.axvline(x=15, ls='--', c='k', dashes=(5, 3))\n",
    "ax.axvline(x=45, ls='--', c='k', dashes=(5, 3))\n",
    "\n",
    "ax.xaxis.set_minor_locator(AutoMinorLocator(4))\n",
    "ax.yaxis.set_minor_locator(AutoMinorLocator(5))\n",
    "ax.set_title('Polynomial\\n approximation\\n to band #4', fontsize=18, x=0.7, y=0.68, transform=ax.transAxes)\n",
    "\n",
    "ax2 = ax.twinx()\n",
    "ax2.set_yticks(np.arange(0, 0.11, 0.02))\n",
    "ax2.set_ylim([0, 200*errmaj[0]/(errmajavg[0]*1000)])\n",
    "ax2.set_ylabel('Rel. approx. error', fontsize=18, rotation=-90, labelpad=25)\n",
    "ax2.tick_params(which='major', axis='both', length=8, width=2, labelsize=18)\n",
    "ax2.tick_params(which='minor', axis='both', length=8, width=1, labelsize=18)\n",
    "ax2.yaxis.set_minor_locator(AutoMinorLocator(2))\n",
    "plt.savefig('../results/figures/fig_3b.png', bbox_inches='tight', transparent=True, dpi=300)"
   ]
  }
 ],
 "metadata": {
  "kernelspec": {
   "display_name": "Python 3 (ipykernel)",
   "language": "python",
   "name": "python3"
  },
  "language_info": {
   "codemirror_mode": {
    "name": "ipython",
    "version": 3
   },
   "file_extension": ".py",
   "mimetype": "text/x-python",
   "name": "python",
   "nbconvert_exporter": "python",
   "pygments_lexer": "ipython3",
   "version": "3.7.13"
  }
 },
 "nbformat": 4,
 "nbformat_minor": 2
}
