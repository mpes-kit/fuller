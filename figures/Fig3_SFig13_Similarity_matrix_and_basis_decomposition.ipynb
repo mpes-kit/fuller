{
 "cells": [
  {
   "cell_type": "markdown",
   "metadata": {},
   "source": [
    "## Construct similarity matrix between theoretical and reconstructed band structures"
   ]
  },
  {
   "cell_type": "code",
   "execution_count": null,
   "metadata": {},
   "outputs": [],
   "source": [
    "import warnings as wn\n",
    "wn.filterwarnings(\"ignore\")\n",
    "\n",
    "import numpy as np\n",
    "import fuller\n",
    "from mpes import analysis as aly\n",
    "import matplotlib as mpl\n",
    "import matplotlib.pyplot as plt\n",
    "import matplotlib.colors as cs\n",
    "from mpl_toolkits.axes_grid1 import make_axes_locatable\n",
    "import itertools as it\n",
    "import scipy.spatial.distance as ssd\n",
    "from numpy.linalg import norm\n",
    "from tqdm import tqdm_notebook as tqdm\n",
    "%matplotlib inline"
   ]
  },
  {
   "cell_type": "code",
   "execution_count": null,
   "metadata": {},
   "outputs": [],
   "source": [
    "# Create plot folder if needed\n",
    "import os\n",
    "if not os.path.exists('../results/figures'):\n",
    "    os.mkdir('../results/figures')"
   ]
  },
  {
   "cell_type": "code",
   "execution_count": null,
   "metadata": {},
   "outputs": [],
   "source": [
    "mpl.rcParams['font.family'] = 'sans-serif'\n",
    "mpl.rcParams['font.sans-serif'] = 'Arial'\n",
    "mpl.rcParams['axes.linewidth'] = 2\n",
    "mpl.rcParams['pdf.fonttype'] = 42\n",
    "mpl.rcParams['ps.fonttype'] = 42"
   ]
  },
  {
   "cell_type": "code",
   "execution_count": null,
   "metadata": {},
   "outputs": [],
   "source": [
    "bases = fuller.generator.ppz.hexike_basis(nterms=400, npix=207, vertical=True, outside=0)"
   ]
  },
  {
   "cell_type": "code",
   "execution_count": null,
   "metadata": {},
   "outputs": [],
   "source": [
    "bandout = np.nan_to_num(fuller.utils.loadHDF(r'../data/theory/bands_1BZ/wse2_pbesol_bandcuts.h5')['bands'])\n",
    "cfs_pbesol = []\n",
    "for i in tqdm(range(14)):\n",
    "    cfs_pbesol.append(fuller.generator.decomposition_hex2d(bandout[i,...], bases=bases, baxis=0, ret='coeffs'))\n",
    "cfs_pbesol = np.array(cfs_pbesol)\n",
    "\n",
    "bandout = np.nan_to_num(fuller.utils.loadHDF(r'../data/theory/bands_1BZ/wse2_pbe_bandcuts.h5')['bands'])\n",
    "cfs_pbe = []\n",
    "for i in tqdm(range(14)):\n",
    "    cfs_pbe.append(fuller.generator.decomposition_hex2d(bandout[i,...], bases=bases, baxis=0, ret='coeffs'))\n",
    "cfs_pbe = np.array(cfs_pbe)\n",
    "\n",
    "bandout = np.nan_to_num(fuller.utils.loadHDF(r'../data/theory/bands_1BZ/wse2_hse_bandcuts.h5')['bands'])\n",
    "cfs_hse = []\n",
    "for i in tqdm(range(14)):\n",
    "    cfs_hse.append(fuller.generator.decomposition_hex2d(bandout[i,...], bases=bases, baxis=0, ret='coeffs'))\n",
    "cfs_hse = np.array(cfs_hse)\n",
    "\n",
    "bandout = np.nan_to_num(fuller.utils.loadHDF(r'../data/theory/bands_1BZ/wse2_lda_bandcuts.h5')['bands'])\n",
    "cfs_lda = []\n",
    "for i in tqdm(range(14)):\n",
    "    cfs_lda.append(fuller.generator.decomposition_hex2d(bandout[i,...], bases=bases, baxis=0, ret='coeffs'))\n",
    "cfs_lda = np.array(cfs_lda)"
   ]
  },
  {
   "cell_type": "code",
   "execution_count": null,
   "metadata": {},
   "outputs": [],
   "source": [
    "bases_recon = fuller.generator.ppz.hexike_basis(nterms=400, npix=175, vertical=True, outside=0)"
   ]
  },
  {
   "cell_type": "code",
   "execution_count": null,
   "metadata": {},
   "outputs": [],
   "source": [
    "bandout = np.nan_to_num(np.load(r'../data/processed/wse2_recon_1BZ/postproc_bandcuts_pbe.npz')['bandcuts'])\n",
    "cfs_rec_pbe_sym = []\n",
    "for i in tqdm(range(14)):\n",
    "    cfs_rec_pbe_sym.append(fuller.generator.decomposition_hex2d(bandout[i,...], bases=bases_recon, baxis=0, ret='coeffs'))\n",
    "cfs_rec_pbe_sym = np.array(cfs_rec_pbe_sym)\n",
    "\n",
    "bandout = np.nan_to_num(np.load(r'../data/processed/wse2_recon_1BZ/postproc_bandcuts_pbesol.npz')['bandcuts'])\n",
    "cfs_rec_pbesol_sym = []\n",
    "for i in tqdm(range(14)):\n",
    "    cfs_rec_pbesol_sym.append(fuller.generator.decomposition_hex2d(bandout[i,...], bases=bases_recon, baxis=0, ret='coeffs'))\n",
    "cfs_rec_pbesol_sym = np.array(cfs_rec_pbesol_sym)\n",
    "\n",
    "bandout = np.nan_to_num(np.load(r'../data/processed/wse2_recon_1BZ/postproc_bandcuts_lda.npz')['bandcuts'])\n",
    "cfs_rec_lda_sym = []\n",
    "for i in tqdm(range(14)):\n",
    "    cfs_rec_lda_sym.append(fuller.generator.decomposition_hex2d(bandout[i,...], bases=bases_recon, baxis=0, ret='coeffs'))\n",
    "cfs_rec_lda_sym = np.array(cfs_rec_lda_sym)\n",
    "\n",
    "bandout = np.nan_to_num(np.load(r'../data/processed/wse2_recon_1BZ/postproc_bandcuts_hse.npz')['bandcuts'])\n",
    "cfs_rec_hse_sym = []\n",
    "for i in tqdm(range(14)):\n",
    "    cfs_rec_hse_sym.append(fuller.generator.decomposition_hex2d(bandout[i,...], bases=bases_recon, baxis=0, ret='coeffs'))\n",
    "cfs_rec_hse_sym = np.array(cfs_rec_hse_sym)"
   ]
  },
  {
   "cell_type": "markdown",
   "metadata": {},
   "source": [
    "### Main Figure 3d"
   ]
  },
  {
   "cell_type": "code",
   "execution_count": null,
   "metadata": {},
   "outputs": [],
   "source": [
    "def demean(bscoefs):\n",
    "    c = np.mean(bscoefs[:,0])\n",
    "    bscoefsdm = bscoefs.copy()\n",
    "    bscoefsdm[:, 0] -= c\n",
    "    return bscoefsdm"
   ]
  },
  {
   "cell_type": "code",
   "execution_count": null,
   "metadata": {},
   "outputs": [],
   "source": [
    "# Calculate distance metrics with zeroed DFT band structure\n",
    "# Per-band Euclidean distance between band structures\n",
    "cfs = [cfs_lda, cfs_pbe, cfs_pbesol, cfs_hse, cfs_rec_lda_sym, cfs_rec_pbe_sym, cfs_rec_pbesol_sym, cfs_rec_hse_sym]\n",
    "ncfs = len(cfs)\n",
    "dcdcent = np.zeros((ncfs, ncfs))\n",
    "ids = list(it.product(range(ncfs), repeat=2))\n",
    "for ipair, pair in enumerate(ids):\n",
    "    i, j = pair[0], pair[1]\n",
    "    icfsdc, jcfsdc = demean(cfs[i]), demean(cfs[j])\n",
    "    dnorm = 0\n",
    "    for ii in range(14):\n",
    "        dnorm += norm(icfsdc[ii,:] - jcfsdc[ii,:])\n",
    "    dcdcent[i,j] = dnorm / 14\n",
    "\n",
    "dcmstdsym = np.zeros((ncfs, ncfs))\n",
    "ids = list(it.product(range(ncfs), repeat=2))\n",
    "for ipair, pair in enumerate(ids):\n",
    "    i, j = pair[0], pair[1]\n",
    "    iest, jest = cfs[i].copy(), cfs[j].copy()\n",
    "    icfsdc, jcfsdc = demean(iest), demean(jest)\n",
    "    dnorms = []\n",
    "    for ii in range(14):\n",
    "        dnorms.append(norm(icfsdc[ii,:] - jcfsdc[ii,:]))\n",
    "    dcmstdsym[i,j] = np.std(dnorms)/np.sqrt(14)"
   ]
  },
  {
   "cell_type": "code",
   "execution_count": null,
   "metadata": {},
   "outputs": [],
   "source": [
    "nr, nc = dcdcent.shape\n",
    "dcm = dcdcent.copy()\n",
    "dcmstd = dcmstdsym.copy()\n",
    "\n",
    "# Combine two triangular matrix plots\n",
    "matnan = np.ones((8, 8))*np.nan\n",
    "ut = np.triu(dcm, k=0) + np.tril(matnan, k=-1)\n",
    "lt = np.tril(dcmstd, k=-1) + np.triu(matnan, k=0)\n",
    "f, ax = plt.subplots(figsize=(6, 6))\n",
    "fup = ax.matshow(ut*1000, cmap='viridis', vmin=0, vmax=250)\n",
    "flo = ax.matshow(lt*1000, cmap='viridis', vmin=0)\n",
    "\n",
    "divider = make_axes_locatable(ax)\n",
    "caxu = divider.append_axes(\"right\", size=\"5%\", pad=0.2)\n",
    "caxu.tick_params(axis='y', size=8, length=8, width=2, labelsize=15)\n",
    "caxl = divider.append_axes(\"bottom\", size=\"5%\", pad=0.2)\n",
    "caxl.tick_params(axis='x', size=8, length=8, width=2, labelsize=15)\n",
    "cbup = f.colorbar(fup, orientation='vertical', cax=caxu, ticks=np.arange(0, 351, 50))\n",
    "cblo = f.colorbar(flo, orientation='horizontal', cax=caxl, ticks=np.arange(0, 31, 5))\n",
    "cbup.ax.set_yticklabels(np.arange(0, 351, 50))\n",
    "cbup.ax.set_ylabel('Band structure distance (meV/band)', fontsize=15, rotation=-90, labelpad=20)\n",
    "# cbup.ax.set_ylim([0, 250])\n",
    "cblo.ax.set_xlabel('Standard error (meV/band)', fontsize=15, rotation=0, labelpad=5)\n",
    "\n",
    "meths = ['LDA', 'PBE', 'PBEsol', 'HSE06', 'LDA \\nrecon.', 'PBE \\nrecon.', 'PBEsol \\nrecon.', 'HSE06 \\nrecon.']\n",
    "ax.set_xticklabels([''] + meths, fontsize=15, rotation=90)\n",
    "ax.set_yticklabels([''] + meths, fontsize=15, rotation=0)\n",
    "ax.tick_params(axis='both', size=8, width=2)\n",
    "ax.tick_params(axis='x', bottom=False, pad=8)\n",
    "ax.tick_params(axis='y', pad=4)\n",
    "\n",
    "dcm_merged = np.zeros_like(dcm) + np.triu(dcm, k=1) + np.tril(dcmstd, k=-1)\n",
    "dcm_merged = np.rint(dcm_merged*1000).astype('int')\n",
    "for i in range(nr):\n",
    "    for j in range(nc):\n",
    "        if i == j:\n",
    "            ax.text(j, i, 0, ha='center', va='center', color='w', fontsize=15, fontweight='bold')\n",
    "        else:\n",
    "            ax.text(j, i, dcm_merged[i, j], ha='center', va='center', color='#FF4500', fontsize=15, fontweight='bold')\n",
    "            \n",
    "plt.savefig('../results/figures/fig_3d.png', bbox_inches='tight', transparent=True, dpi=300)"
   ]
  },
  {
   "cell_type": "markdown",
   "metadata": {},
   "source": [
    "### Supplementary Figure 13e-h"
   ]
  },
  {
   "cell_type": "code",
   "execution_count": null,
   "metadata": {},
   "outputs": [],
   "source": [
    "# Construct new colormap 'KRdBu' and 'KRdBu_r' (based on 'RdBu' with black blended into the very end of the red side)\n",
    "cmap_rdbu = mpl.cm.get_cmap('RdBu')\n",
    "cmap_gr = mpl.cm.get_cmap('Greys_r')\n",
    "colors = [cmap_gr(0.1), cmap_rdbu(0.1)]\n",
    "nk = 13\n",
    "\n",
    "KRd = cs.LinearSegmentedColormap.from_list('KRdBu', colors, N=nk)\n",
    "KRdvals = KRd(np.linspace(0, 1, nk))\n",
    "RdBuvals = cmap_rdbu(np.linspace(0.1, 1, 256-nk))\n",
    "KRdBu_vals = np.concatenate((KRdvals, RdBuvals))\n",
    "KRdBu_r_vals = np.flipud(KRdBu_vals)\n",
    "KRdBu = cs.ListedColormap(KRdBu_vals)\n",
    "KRdBu_r = cs.ListedColormap(KRdBu_r_vals)"
   ]
  },
  {
   "cell_type": "code",
   "execution_count": null,
   "metadata": {},
   "outputs": [],
   "source": [
    "def similarity_matrix_plot(cmat, title=''):\n",
    "    \"\"\" Plot similarity matrix in the manuscript.\n",
    "    \"\"\"\n",
    "    \n",
    "    f, ax = plt.subplots(figsize=(6, 6))\n",
    "    im = ax.matshow(cmat, cmap=KRdBu_r, extent=[0, 14, 14, 0], origin='upper', vmin=-1, vmax=1)\n",
    "    tks = list(np.arange(0.5, 14, 1))\n",
    "    ax.set_xticks(tks)\n",
    "    ax.set_yticks(tks)\n",
    "    ax.set_xticklabels(['#' + str(int(i+0.5)) for i in tks], fontsize=15, rotation=90)\n",
    "    ax.set_yticklabels(['#' + str(int(i+0.5)) for i in tks], fontsize=15, rotation=0)\n",
    "    ax.tick_params(axis='both', size=8, width=2, labelsize=15)\n",
    "    ax.tick_params(axis='x', bottom=False)\n",
    "    ax.tick_params(axis='x', pad=8)\n",
    "    ax.set_title(title, fontsize=15, y=1.15)\n",
    "    # ax.set_title('HSE06', fontsize=15, x=0.5, y=1.15)\n",
    "    divider = make_axes_locatable(ax)\n",
    "    cax = divider.append_axes(\"right\", size=\"5%\", pad=0.2)\n",
    "    cax.tick_params(axis='y', size=8)\n",
    "    cb = plt.colorbar(im, cax=cax, ticks=np.arange(-1, 1.01, 0.2))\n",
    "    cb.ax.set_ylabel('Cosine similarity', fontsize=15, rotation=-90, labelpad=20)\n",
    "    cb.ax.tick_params(axis='both', length=8, width=2, labelsize=15)\n",
    "    # plt.colorbar(im, cax=cax, ticks=[])\n",
    "    ax.text(-0.18, 1.08, ' Band\\n index', rotation=-45, transform=ax.transAxes, fontsize=15)\n",
    "    \n",
    "    return ax"
   ]
  },
  {
   "cell_type": "code",
   "execution_count": null,
   "metadata": {
    "scrolled": false
   },
   "outputs": [],
   "source": [
    "# Plot the cosince similarity matrices for each DFT calculation (indicated in figure title)\n",
    "dcm_lda = fuller.metrics.similarity_matrix(cfs_lda, fmetric=fuller.metrics.dcos)\n",
    "similarity_matrix_plot(dcm_lda, title='LDA')\n",
    "plt.savefig('../results/figures/sfig_13e.png', bbox_inches='tight', transparent=True, dpi=300)\n",
    "\n",
    "dcm_pbe = fuller.metrics.similarity_matrix(cfs_pbe, fmetric=fuller.metrics.dcos)\n",
    "similarity_matrix_plot(dcm_pbe, title='PBE')\n",
    "plt.savefig('../results/figures/sfig_13f.png', bbox_inches='tight', transparent=True, dpi=300)\n",
    "\n",
    "dcm_pbesol = fuller.metrics.similarity_matrix(cfs_pbesol, fmetric=fuller.metrics.dcos)\n",
    "similarity_matrix_plot(dcm_pbesol, title='PBEsol')\n",
    "plt.savefig('../results/figures/sfig_13g.png', bbox_inches='tight', transparent=True, dpi=300)\n",
    "\n",
    "dcm_hse = fuller.metrics.similarity_matrix(cfs_hse, fmetric=fuller.metrics.dcos)\n",
    "similarity_matrix_plot(dcm_hse, title='HSE06');\n",
    "plt.savefig('../results/figures/sfig_13h.png', bbox_inches='tight', transparent=True, dpi=300)"
   ]
  },
  {
   "cell_type": "markdown",
   "metadata": {},
   "source": [
    "### Supplementary Figure 13a-d"
   ]
  },
  {
   "cell_type": "code",
   "execution_count": null,
   "metadata": {},
   "outputs": [],
   "source": [
    "def decomposition_plot(coefs, coef_count, title):\n",
    "    \n",
    "    cl = plt.cm.tab20(np.linspace(0,1,14))\n",
    "    f, ax = plt.subplots(figsize=(6, 10))\n",
    "    xs = np.arange(1, 400)\n",
    "    for i in range(14):\n",
    "        ax.plot(xs, coefs[i,1:]-i/3, lw=1, color=cl[i])\n",
    "        ax.axhline(y=-i/3, lw=1, color=cl[i])\n",
    "        ax.text(320, -i/3+0.08, 'Band #'+str(i+1), fontsize=15, fontname=\"Arial\")\n",
    "    ax.bar(xs, coef_count, bottom=-4.9, width=1, color=(0.3, 0.3, 0.3))\n",
    "    ax.axhline(y=-4.9, lw=1, color=(0.3, 0.3, 0.3))\n",
    "    ax.set_title(title, fontsize=15, y=0.88)\n",
    "    ax.text(320, -4.9+0.08, 'All bands', fontsize=15, fontname=\"Arial\")\n",
    "    # ax.text('Counts', transform=ax.transAxes)\n",
    "\n",
    "    # ax.tick_params(axis='y', length=0)\n",
    "    ax.set_xticks(list(range(0, 401, 50)))\n",
    "    ax.set_yticks([])\n",
    "    ax.set_ylim([-5, 1])\n",
    "    ax.tick_params(axis='x', length=8, width=2, labelsize=15)\n",
    "    ax.set_ylabel('Amplitude (a. u.)', fontsize=15)\n",
    "    ax.set_xlim([0, 400])\n",
    "    ax.set_xlabel('Coefficient index', fontsize=15)\n",
    "    ax.spines['left'].set_visible(False)\n",
    "    ax.spines['right'].set_visible(False)\n",
    "    ax.spines['top'].set_visible(False)\n",
    "    \n",
    "    return ax"
   ]
  },
  {
   "cell_type": "code",
   "execution_count": null,
   "metadata": {
    "scrolled": false
   },
   "outputs": [],
   "source": [
    "cfs_lda_large = fuller.utils.binarize(cfs_lda, threshold=1e-2)[:,1:].sum(axis=0)/40\n",
    "decomposition_plot(cfs_lda, cfs_lda_large, title='LDA')\n",
    "plt.savefig('../results/figures/sfig_13a.png', bbox_inches='tight', transparent=True, dpi=300)\n",
    "\n",
    "cfs_pbe_large = fuller.utils.binarize(cfs_pbe, threshold=1e-2)[:,1:].sum(axis=0)/40\n",
    "decomposition_plot(cfs_pbe, cfs_pbe_large, title='PBE')\n",
    "plt.savefig('../results/figures/sfig_13b.png', bbox_inches='tight', transparent=True, dpi=300)\n",
    "\n",
    "cfs_pbesol_large = fuller.utils.binarize(cfs_pbesol, threshold=1e-2)[:,1:].sum(axis=0)/40\n",
    "decomposition_plot(cfs_pbesol, cfs_pbesol_large, title='PBEsol')\n",
    "plt.savefig('../results/figures/sfig_13c.png', bbox_inches='tight', transparent=True, dpi=300)\n",
    "\n",
    "cfs_hse_large = fuller.utils.binarize(cfs_hse, threshold=1e-2)[:,1:].sum(axis=0)/40\n",
    "decomposition_plot(cfs_hse, cfs_hse_large, title='HSE06');\n",
    "plt.savefig('../results/figures/sfig_13d.png', bbox_inches='tight', transparent=True, dpi=300)"
   ]
  }
 ],
 "metadata": {
  "kernelspec": {
   "display_name": "Python 3 (ipykernel)",
   "language": "python",
   "name": "python3"
  },
  "language_info": {
   "codemirror_mode": {
    "name": "ipython",
    "version": 3
   },
   "file_extension": ".py",
   "mimetype": "text/x-python",
   "name": "python",
   "nbconvert_exporter": "python",
   "pygments_lexer": "ipython3",
   "version": "3.7.13"
  }
 },
 "nbformat": 4,
 "nbformat_minor": 2
}
