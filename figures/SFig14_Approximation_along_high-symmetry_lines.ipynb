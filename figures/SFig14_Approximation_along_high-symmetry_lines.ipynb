{
 "cells": [
  {
   "cell_type": "markdown",
   "metadata": {},
   "source": [
    "## Approximation of reconstructed bands viewed from high-symmetry lines"
   ]
  },
  {
   "cell_type": "code",
   "execution_count": null,
   "metadata": {},
   "outputs": [],
   "source": [
    "import warnings as wn\n",
    "wn.filterwarnings(\"ignore\")\n",
    "\n",
    "import os\n",
    "import numpy as np\n",
    "import fuller\n",
    "from mpes import analysis as aly\n",
    "import matplotlib.pyplot as plt\n",
    "import matplotlib as mpl\n",
    "from tqdm import tqdm_notebook as tqdm\n",
    "%matplotlib inline"
   ]
  },
  {
   "cell_type": "code",
   "execution_count": null,
   "metadata": {},
   "outputs": [],
   "source": [
    "# mpl.rcParams['font.family'] = 'sans-serif'\n",
    "# mpl.rcParams['font.sans-serif'] = 'Arial'\n",
    "mpl.rcParams['axes.linewidth'] = 2\n",
    "mpl.rcParams['pdf.fonttype'] = 42\n",
    "mpl.rcParams['ps.fonttype'] = 42\n",
    "\n",
    "# Create plot folder if needed\n",
    "if not os.path.exists('../results/figures'):\n",
    "    os.mkdir('../results/figures')"
   ]
  },
  {
   "cell_type": "code",
   "execution_count": null,
   "metadata": {},
   "outputs": [],
   "source": [
    "# Generate hexagonal Zernike basis\n",
    "bss = fuller.generator.ppz.hexike_basis(nterms=400, npix=175, vertical=True, outside=0)\n",
    "\n",
    "with np.load('../data/processed/LDARecon_Approx_Polynomials.npz') as fl:\n",
    "    bandcuts = fl['bands']"
   ]
  },
  {
   "cell_type": "code",
   "execution_count": null,
   "metadata": {},
   "outputs": [],
   "source": [
    "center = np.array([88.04458508, 85.93048041])\n",
    "corners = np.array([[ 43.96685519, 162.03029721],\n",
    "       [132.1174288 , 162.02202934],\n",
    "       [175.73285949,  85.93552008],\n",
    "       [132.11926251,   9.83338561],\n",
    "       [ 43.96347185,   9.85004975],\n",
    "       [  0.36015304,  85.93011921]])"
   ]
  },
  {
   "cell_type": "code",
   "execution_count": null,
   "metadata": {},
   "outputs": [],
   "source": [
    "# Define high-symmetry points\n",
    "G = center\n",
    "K = corners[0,:]\n",
    "K1 = corners[1,:]\n",
    "M = (K + K1) / 2\n",
    "\n",
    "# Define high-symmetry lines (k-path)\n",
    "pathPoints = np.asarray([G, M, K, G])\n",
    "nGM, nMK, nKG = 70, 39, 79\n",
    "segPoints = [nGM, nMK, nKG]\n",
    "rowInds, colInds, pathInds = aly.points2path(pathPoints[:,0], pathPoints[:,1], npoints=segPoints)\n",
    "nSegPoints = len(rowInds)\n",
    "bandDiagramRecon = aly.bandpath_map(np.moveaxis(bandcuts, 0, 2), pathr=rowInds, pathc=colInds, eaxis=2)\n",
    "\n",
    "lda_shift = -0.86813 + 0.15 # Global energy shift"
   ]
  },
  {
   "cell_type": "code",
   "execution_count": null,
   "metadata": {},
   "outputs": [],
   "source": [
    "# Test plot\n",
    "plt.plot(bandDiagramRecon.T)\n",
    "plt.axis('off');"
   ]
  },
  {
   "cell_type": "markdown",
   "metadata": {},
   "source": [
    "### Approximation of all 14 energy bands by polynomials in coefficient order"
   ]
  },
  {
   "cell_type": "code",
   "execution_count": null,
   "metadata": {
    "scrolled": true
   },
   "outputs": [],
   "source": [
    "# Approximation by polynomials in coefficient order\n",
    "allbcf = []\n",
    "allapprox, approx = {}, []\n",
    "nterms = [5, 45, 150]\n",
    "for iband in tqdm(range(14)):\n",
    "    brec = np.nan_to_num(bandcuts[iband,...])\n",
    "    bcf = fuller.generator.decomposition_hex2d(brec, nterms=400, bases=bss, ret='coeffs')\n",
    "    \n",
    "    allbcf.append(bcf)\n",
    "    for nt in nterms:\n",
    "        currcf = bcf.copy()\n",
    "        currcf[nt:] = 0\n",
    "        recon = fuller.generator.reconstruction_hex2d(currcf, bss)\n",
    "        try:\n",
    "            allapprox[str(nt)].append(recon)\n",
    "        except:\n",
    "            allapprox[str(nt)] = []\n",
    "            allapprox[str(nt)].append(recon)\n",
    "\n",
    "allbcf = np.asarray(allbcf)\n",
    "for k, v in allapprox.items():\n",
    "    allapprox[k] = np.asarray(v)"
   ]
  },
  {
   "cell_type": "code",
   "execution_count": null,
   "metadata": {},
   "outputs": [],
   "source": [
    "bci_approx = {}\n",
    "for k in allapprox.keys():\n",
    "    bci_approx[k] = aly.bandpath_map(np.moveaxis(allapprox[k], 0, 2), pathr=rowInds, pathc=colInds, eaxis=2)"
   ]
  },
  {
   "cell_type": "markdown",
   "metadata": {},
   "source": [
    "### Supplementary Figure 14i"
   ]
  },
  {
   "cell_type": "code",
   "execution_count": null,
   "metadata": {},
   "outputs": [],
   "source": [
    "f, axs = plt.subplots(3, 1, figsize=(7.5, 14))\n",
    "\n",
    "for i, nt in enumerate(nterms):\n",
    "    axs[i].plot(bandDiagramRecon.T - lda_shift, c='b')\n",
    "    axs[i].plot(bandDiagramRecon[-1,:] - lda_shift, c='b', label='Reconstruction')\n",
    "    axs[i].plot(bci_approx[str(nt)].T - lda_shift, c='r')\n",
    "    axs[i].plot(bci_approx[str(nt)][-1,:] - lda_shift, c='r', label='Approximation')\n",
    "    axs[i].set_xlim([0, nSegPoints])\n",
    "    axs[i].tick_params(axis='y', length=8, width=2, labelsize=15)\n",
    "    axs[i].set_yticks(np.arange(-8, 0.1, 1))\n",
    "    axs[i].set_ylim([-7.5, 0.8])\n",
    "    axs[i].set_ylabel('Energy (eV)', fontsize=15)\n",
    "    axs[i].set_title(str(nt)+' terms', x=0.76, y=0.9, fontsize=15)\n",
    "    axs[i].legend(fontsize=15, frameon=False, borderpad=0, bbox_to_anchor=(0.5, 0.2))\n",
    "#     axs[i].axhline(y=0, lw=2, c='k', ls='dashed')\n",
    "    if i < 2:\n",
    "        axs[i].tick_params(axis='x', length=0, labelsize=0)\n",
    "    \n",
    "    for p in pathInds[:-1]:\n",
    "        axs[i].axvline(x=p, c='k', ls='--', lw=2, dashes=[4, 2])\n",
    "\n",
    "axs[-1].set_xticks(pathInds)\n",
    "axs[-1].set_xticklabels(['$\\overline{\\Gamma}$', '$\\overline{\\mathrm{M}}$',\n",
    "                           '$\\overline{\\mathrm{K}}$', '$\\overline{\\Gamma}$'])\n",
    "axs[-1].tick_params(axis='x', length=8, width=2, labelsize=15)\n",
    "plt.suptitle('Approximation by polynomials in default order', y=0.9, fontsize=15)\n",
    "plt.subplots_adjust(hspace=0.08, wspace=0)\n",
    "\n",
    "plt.savefig('../results/figures/sfig_14i.png', dpi=300, bbox_inches='tight', transparent=True)"
   ]
  },
  {
   "cell_type": "markdown",
   "metadata": {},
   "source": [
    "### Approximation of all 14 energy bands by polynomials in default order"
   ]
  },
  {
   "cell_type": "code",
   "execution_count": null,
   "metadata": {},
   "outputs": [],
   "source": [
    "# Approximation by polynomials in default order\n",
    "allbcf = []\n",
    "allapproxx, approx = {}, []\n",
    "nterms = [5, 45, 150]\n",
    "for iband in tqdm(range(14)):\n",
    "    brec = np.nan_to_num(bandcuts[iband,...])\n",
    "    bcf = fuller.generator.decomposition_hex2d(brec, nterms=400, bases=bss, ret='coeffs')\n",
    "    \n",
    "    order = np.argsort(np.abs(bcf))[::-1]\n",
    "    ordcf = bcf[order]\n",
    "    ordbss = bss[order,...]\n",
    "    \n",
    "    allbcf.append(bcf)\n",
    "    for nt in nterms:\n",
    "        currcf = ordcf.copy()\n",
    "        currcf[nt:] = 0\n",
    "        recon = fuller.generator.reconstruction_hex2d(currcf, ordbss)\n",
    "        try:\n",
    "            allapproxx[str(nt)].append(recon)\n",
    "        except:\n",
    "            allapproxx[str(nt)] = []\n",
    "            allapproxx[str(nt)].append(recon)\n",
    "\n",
    "allbcf = np.asarray(allbcf)\n",
    "for k, v in allapproxx.items():\n",
    "    allapproxx[k] = np.asarray(v)"
   ]
  },
  {
   "cell_type": "code",
   "execution_count": null,
   "metadata": {},
   "outputs": [],
   "source": [
    "bci_approxx = {}\n",
    "for k in allapproxx.keys():\n",
    "    bci_approxx[k] = aly.bandpath_map(np.moveaxis(allapproxx[k], 0, 2), pathr=rowInds, pathc=colInds, eaxis=2)"
   ]
  },
  {
   "cell_type": "markdown",
   "metadata": {},
   "source": [
    "### Supplementary Figure 14j"
   ]
  },
  {
   "cell_type": "code",
   "execution_count": null,
   "metadata": {},
   "outputs": [],
   "source": [
    "f, axs = plt.subplots(3, 1, figsize=(7.5, 14))\n",
    "\n",
    "for i, nt in enumerate(nterms):\n",
    "    axs[i].plot(bandDiagramRecon.T - lda_shift, c='b')\n",
    "    axs[i].plot(bandDiagramRecon[-1,:] - lda_shift, c='b', label='Reconstruction')\n",
    "    axs[i].plot(bci_approxx[str(nt)].T - lda_shift, c='r')\n",
    "    axs[i].plot(bci_approxx[str(nt)][-1,:] - lda_shift, c='r', label='Approximation')\n",
    "    axs[i].set_xlim([0, nSegPoints])\n",
    "    axs[i].tick_params(axis='y', length=8, width=2, labelsize=15)\n",
    "    axs[i].set_yticks(np.arange(-8, 0.1, 1))\n",
    "    axs[i].set_ylim([-7.5, 0.8])\n",
    "    axs[i].set_ylabel('Energy (eV)', fontsize=15)\n",
    "    axs[i].set_title(str(nt)+' terms', x=0.76, y=0.9, fontsize=15)\n",
    "    axs[i].legend(fontsize=15, frameon=False, borderpad=0, bbox_to_anchor=(0.5, 0.2))\n",
    "#     axs[i].axhline(y=0, lw=2, c='k', ls='dashed')\n",
    "    if i < 2:\n",
    "        axs[i].tick_params(axis='x', length=0, labelsize=0)\n",
    "    \n",
    "    for p in pathInds[:-1]:\n",
    "        axs[i].axvline(x=p, c='k', ls='--', lw=2, dashes=[4, 2])\n",
    "\n",
    "axs[-1].set_xticks(pathInds)\n",
    "axs[-1].set_xticklabels(['$\\overline{\\Gamma}$', '$\\overline{\\mathrm{M}}$',\n",
    "                           '$\\overline{\\mathrm{K}}$', '$\\overline{\\Gamma}$'])\n",
    "axs[-1].tick_params(axis='x', length=8, width=2, labelsize=15)\n",
    "plt.suptitle('Approximation by polynomials in coefficient order', y=0.9, fontsize=15)\n",
    "plt.subplots_adjust(hspace=0.08, wspace=0)\n",
    "\n",
    "plt.savefig('../results/figures/sfig_14j.png', dpi=300, bbox_inches='tight', transparent=True)"
   ]
  },
  {
   "cell_type": "code",
   "execution_count": null,
   "metadata": {},
   "outputs": [],
   "source": [
    "# np.savez('LDARecon_approx_bands.npz', allapprox=allapprox, allapproxord=allapproxx,\n",
    "#          linecut=bci_approx, linecutord=bci_approxx)"
   ]
  }
 ],
 "metadata": {
  "kernelspec": {
   "display_name": "Python 3 (ipykernel)",
   "language": "python",
   "name": "python3"
  },
  "language_info": {
   "codemirror_mode": {
    "name": "ipython",
    "version": 3
   },
   "file_extension": ".py",
   "mimetype": "text/x-python",
   "name": "python",
   "nbconvert_exporter": "python",
   "pygments_lexer": "ipython3",
   "version": "3.7.13"
  }
 },
 "nbformat": 4,
 "nbformat_minor": 2
}
