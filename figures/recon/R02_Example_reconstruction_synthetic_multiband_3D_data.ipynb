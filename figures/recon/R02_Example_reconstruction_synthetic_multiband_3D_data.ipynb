{
 "cells": [
  {
   "cell_type": "markdown",
   "metadata": {},
   "source": [
    "## Reconstruction of synthetic 3D multiband photoemission data"
   ]
  },
  {
   "cell_type": "code",
   "execution_count": null,
   "metadata": {},
   "outputs": [],
   "source": [
    "import warnings as wn\n",
    "wn.filterwarnings(\"ignore\")\n",
    "\n",
    "import os\n",
    "import numpy as np\n",
    "import fuller\n",
    "from fuller.mrfRec import MrfRec\n",
    "import matplotlib.pyplot as plt\n",
    "import matplotlib as mpl\n",
    "from tqdm import tqdm_notebook as tqdm\n",
    "%matplotlib inline\n",
    "\n",
    "mpl.rcParams['font.family'] = 'sans-serif'\n",
    "mpl.rcParams['font.sans-serif'] = 'Arial'\n",
    "mpl.rcParams['axes.linewidth'] = 2\n",
    "mpl.rcParams['pdf.fonttype'] = 42\n",
    "mpl.rcParams['ps.fonttype'] = 42"
   ]
  },
  {
   "cell_type": "code",
   "execution_count": null,
   "metadata": {},
   "outputs": [],
   "source": [
    "# Import synthetic data and axes values\n",
    "fdir = r'../../data/synthetic'\n",
    "data = fuller.utils.loadHDF(fdir + r'/synth_data_WSe2_LDA_top8.h5', hierarchy='nested')\n",
    "E0 = data['params']['E']\n",
    "kx = data['params']['kx']\n",
    "ky = data['params']['ky']\n",
    "I = np.moveaxis(np.nan_to_num(data['data']['mpes_padded']), 0, -1)\n",
    "I.shape"
   ]
  },
  {
   "cell_type": "code",
   "execution_count": null,
   "metadata": {},
   "outputs": [],
   "source": [
    "# Import initial conditions\n",
    "datab = fuller.utils.loadHDF(r'../../data/theory/bands_padded/wse2_hse_bands_padded.h5')\n",
    "datab['bands_padded'].shape"
   ]
  },
  {
   "cell_type": "code",
   "execution_count": null,
   "metadata": {},
   "outputs": [],
   "source": [
    "# Compare ground truth with coefficient-tuned band structure\n",
    "for i in range(6):\n",
    "    if i < 5:\n",
    "        plt.plot(ky, data['data']['bands_padded'][i, :, 150], c='k')\n",
    "        plt.plot(ky, datab['bands_padded'][i, :, 128].T, ls='--', c='b')\n",
    "    elif i == 5:\n",
    "        plt.plot(ky, data['data']['bands_padded'][i, :, 150], c='k', label='ground truth (LDA)')\n",
    "        plt.plot(ky, datab['bands_padded'][i, :, 128].T, ls='--', c='b', label='initialization (PBE)')\n",
    "\n",
    "plt.tick_params(axis='both', length=10, labelsize=15)\n",
    "plt.ylabel('Energy (eV)', fontsize=15)\n",
    "plt.legend(bbox_to_anchor=(1,0.2,0.2,0.3), fontsize=15, frameon=False);"
   ]
  },
  {
   "cell_type": "code",
   "execution_count": null,
   "metadata": {},
   "outputs": [],
   "source": [
    "# Create MRF model\n",
    "mrf = MrfRec(E=E0, kx=kx, ky=ky, I=I, eta=.12)\n",
    "mrf.I_normalized = False"
   ]
  },
  {
   "cell_type": "code",
   "execution_count": null,
   "metadata": {},
   "outputs": [],
   "source": [
    "mrf.normalizeI(kernel_size=(20, 20, 20), clip_limit=0.01)"
   ]
  },
  {
   "cell_type": "code",
   "execution_count": null,
   "metadata": {},
   "outputs": [],
   "source": [
    "# These hyperparameters are already tuned\n",
    "etas = [0.08, 0.1, 0.08, 0.1,  0.1, 0.14, 0.08, 0.08]\n",
    "ofs =  [0.3,  0.1, 0.26, 0.14, 0.3, 0.24, 0.34, 0.14]"
   ]
  },
  {
   "cell_type": "code",
   "execution_count": null,
   "metadata": {},
   "outputs": [],
   "source": [
    "# Demonstration for reconstructing one band\n",
    "mrf.eta = etas[1]\n",
    "offset = ofs[1]\n",
    "mrf.initializeBand(kx, ky, datab['bands_padded'][1,...], offset=offset, kScale=1., flipKAxes=False)\n",
    "mrf.iter_para(100, use_gpu=True, disable_tqdm=False, graph_reset=True)"
   ]
  },
  {
   "cell_type": "code",
   "execution_count": null,
   "metadata": {
    "scrolled": false
   },
   "outputs": [],
   "source": [
    "# Illustration of outcome (black line = initialization, red line = reconstruction)\n",
    "mrf.plotBands()\n",
    "mrf.plotI(ky=0, plotBand=True, plotBandInit=True, plotSliceInBand=False, cmapName='coolwarm')\n",
    "mrf.plotI(ky=0.4, plotBand=True, plotBandInit=True, plotSliceInBand=False, cmapName='coolwarm')\n",
    "mrf.plotI(kx=0, plotBand=True, plotBandInit=True, plotSliceInBand=False, cmapName='coolwarm')\n",
    "mrf.plotI(kx=0.4, plotBand=True, plotBandInit=True, plotSliceInBand=False, cmapName='coolwarm')"
   ]
  },
  {
   "cell_type": "markdown",
   "metadata": {},
   "source": [
    "### Reconstruct all bands and save the results"
   ]
  },
  {
   "cell_type": "code",
   "execution_count": null,
   "metadata": {},
   "outputs": [],
   "source": [
    "if not os.path.exists(r'../../results/hse_lda'):\n",
    "    os.mkdir(r'../../results/hse_lda')"
   ]
  },
  {
   "cell_type": "code",
   "execution_count": null,
   "metadata": {},
   "outputs": [],
   "source": [
    "# Reconstruct band by band\n",
    "for idx, (eta, offset) in enumerate(zip(tqdm(etas), ofs)):\n",
    "\n",
    "        mrf.eta = eta\n",
    "        iband = idx + 1\n",
    "        mrf.initializeBand(kx, ky, datab['bands_padded'][idx,...], offset=offset, kScale=1., flipKAxes=False)\n",
    "        mrf.iter_para(100, use_gpu=True, disable_tqdm=True, graph_reset=True)\n",
    "        mrf.saveBand(r'../../results/hse_lda/mrf_rec_band='+str(iband).zfill(2)+'_ofs='+str(offset)+'_eta='+str(eta)+'.h5',\n",
    "                      index=iband)"
   ]
  }
 ],
 "metadata": {
  "kernelspec": {
   "display_name": "Python 3",
   "language": "python",
   "name": "python3"
  },
  "language_info": {
   "codemirror_mode": {
    "name": "ipython",
    "version": 3
   },
   "file_extension": ".py",
   "mimetype": "text/x-python",
   "name": "python",
   "nbconvert_exporter": "python",
   "pygments_lexer": "ipython3",
   "version": "3.7.3"
  }
 },
 "nbformat": 4,
 "nbformat_minor": 2
}
