{
 "cells": [
  {
   "cell_type": "markdown",
   "metadata": {},
   "source": [
    "## Reconstruction of photoemission band structure using Markov Random Field model\n",
    "### Model setup"
   ]
  },
  {
   "cell_type": "code",
   "execution_count": null,
   "metadata": {},
   "outputs": [],
   "source": [
    "import warnings as wn\n",
    "wn.filterwarnings(\"ignore\")\n",
    "\n",
    "import os\n",
    "import numpy as np\n",
    "import matplotlib.pyplot as plt\n",
    "import matplotlib as mpl\n",
    "import fuller\n",
    "from fuller.mrfRec import MrfRec\n",
    "from tqdm import tnrange\n",
    "\n",
    "%matplotlib inline\n",
    "mpl.rcParams['axes.linewidth'] = 2\n",
    "mpl.rcParams['pdf.fonttype'] = 42\n",
    "mpl.rcParams['ps.fonttype'] = 42"
   ]
  },
  {
   "cell_type": "code",
   "execution_count": null,
   "metadata": {},
   "outputs": [],
   "source": [
    "# Load preprocessed data\n",
    "data_path = '../../data/pes/3_smooth.h5'\n",
    "data = fuller.utils.loadHDF(data_path)\n",
    "\n",
    "E = data['E'][:470]\n",
    "kx = data['kx']\n",
    "ky = data['ky']\n",
    "I = data['V'][...,:470]"
   ]
  },
  {
   "cell_type": "code",
   "execution_count": null,
   "metadata": {},
   "outputs": [],
   "source": [
    "# Create MRF model\n",
    "mrf = MrfRec(E=E, kx=kx, ky=ky, I=I, eta=.12)\n",
    "mrf.I_normalized = True"
   ]
  },
  {
   "cell_type": "markdown",
   "metadata": {},
   "source": [
    "### Reconstruction"
   ]
  },
  {
   "cell_type": "code",
   "execution_count": null,
   "metadata": {},
   "outputs": [],
   "source": [
    "# Initialize parameters for loop\n",
    "path_dft = ['../../data/theory/WSe2_LDA_bands.mat',\n",
    "            '../../data/theory/WSe2_PBE_bands.mat',\n",
    "            '../../data/theory/WSe2_PBEsol_bands.mat',\n",
    "            '../../data/theory/WSe2_HSE06_bands.mat']\n",
    "path_hyperparam = ['../../data/hyperparameter/LDA.csv',\n",
    "                   '../../data/hyperparameter/PBE.csv',\n",
    "                   '../../data/hyperparameter/PBEsol.csv',\n",
    "                   '../../data/hyperparameter/HSE06.csv']\n",
    "num_dft = 1 # Number of DFTs to consider, can be up to 4 here, but set to 1 to save computation\n",
    "recon = np.zeros((num_dft, 14, len(kx), len(ky)))\n",
    "\n",
    "for ind_dft in tnrange(num_dft, desc='Initialization'):\n",
    "    # Load hyperparameter and DFT\n",
    "    hyperparam = np.loadtxt(path_hyperparam[ind_dft], delimiter=',', skiprows=1)\n",
    "    kx_dft, ky_dft, E_dft = mrf.loadBandsMat(path_dft[ind_dft])\n",
    "    \n",
    "    for ind_band in tnrange(14, desc='Band'):\n",
    "        # Set eta and initialization\n",
    "        mrf.eta = hyperparam[ind_band, 1]\n",
    "        mrf.initializeBand(kx=kx_dft, ky=ky_dft, Eb=E_dft[2 * ind_band,...], kScale=hyperparam[ind_band, 3],\n",
    "                           offset=hyperparam[ind_band, 2] + 0.65, flipKAxes=True)\n",
    "        \n",
    "        # Perform optimization\n",
    "        mrf.iter_para(150, disable_tqdm=True)\n",
    "        \n",
    "        # Store result\n",
    "        recon[ind_dft, ind_band, ...] = mrf.getEb()"
   ]
  },
  {
   "cell_type": "markdown",
   "metadata": {},
   "source": [
    "### Results"
   ]
  },
  {
   "cell_type": "code",
   "execution_count": null,
   "metadata": {},
   "outputs": [],
   "source": [
    "# Plot slices ky slice\n",
    "dft_name = ['LDA', 'PBE', 'PBEsol', 'HSE06']\n",
    "\n",
    "# Mask to only plot Brillouin zone\n",
    "mask = np.load('../../data/processed/WSe2_Brillouin_Zone_Mask.npy')\n",
    "mrf.I = mrf.I * mask[:, :, None]\n",
    "ky_val = 0\n",
    "ind_ky = np.argmin(np.abs(mrf.ky - ky_val))\n",
    "\n",
    "# Loop over initializations and bands\n",
    "for ind_dft in range(num_dft):\n",
    "    mrf.plotI(ky=ky_val, cmapName='coolwarm')\n",
    "    plt.title(dft_name[ind_dft], fontsize=26)\n",
    "    plt.xlim((-1.35, 1.3))\n",
    "    kx_dft, ky_dft, E_dft = mrf.loadBandsMat(path_dft[ind_dft])\n",
    "    for ind_band in range(14):\n",
    "        #mrf.initializeBand(kx=kx_dft, ky=ky_dft, Eb=E_dft[2 * ind_band,...], kScale=1,\n",
    "        #                   offset=0.65, flipKAxes=True)\n",
    "        #E0 = mrf.E[mrf.indE0[:, ind_ky]]\n",
    "        #plt.plot(mrf.kx, E0 * mask[:, ind_ky], 'k', linewidth=2.0, \n",
    "        #         label='DFT' if ind_band==0 else None, zorder=3)\n",
    "        mrf.initializeBand(kx=kx_dft, ky=ky_dft, Eb=E_dft[2 * ind_band,...], kScale=hyperparam[ind_band, 3],\n",
    "                           offset=hyperparam[ind_band, 2] + 0.65, flipKAxes=True)\n",
    "        E0 = mrf.E[mrf.indE0[:, ind_ky]]\n",
    "        plt.plot(mrf.kx, E0 * mask[:, ind_ky], 'c--', linewidth=2.0, \n",
    "                 label='Initialization' if ind_band==0 else None, zorder=2)\n",
    "        plt.plot(mrf.kx, recon[ind_dft, ind_band, :, ind_ky] * mask[:, ind_ky], 'r', linewidth=2.0,\n",
    "                 label='Reconstruction' if ind_band==0 else None, zorder=1)\n",
    "    plt.legend(loc=4, prop={'size': 14}, framealpha=1)\n",
    "        "
   ]
  }
 ],
 "metadata": {
  "kernelspec": {
   "display_name": "Python 3",
   "language": "python",
   "name": "python3"
  },
  "language_info": {
   "codemirror_mode": {
    "name": "ipython",
    "version": 3
   },
   "file_extension": ".py",
   "mimetype": "text/x-python",
   "name": "python",
   "nbconvert_exporter": "python",
   "pygments_lexer": "ipython3",
   "version": "3.7.3"
  }
 },
 "nbformat": 4,
 "nbformat_minor": 2
}
