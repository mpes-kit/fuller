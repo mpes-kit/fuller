{
 "cells": [
  {
   "cell_type": "markdown",
   "metadata": {},
   "source": [
    "## Example visualizations of hyperparameter tuning for reconstruction"
   ]
  },
  {
   "cell_type": "code",
   "execution_count": null,
   "metadata": {},
   "outputs": [],
   "source": [
    "import warnings as wn\n",
    "wn.filterwarnings(\"ignore\")\n",
    "\n",
    "import os\n",
    "import numpy as np\n",
    "import fuller\n",
    "import matplotlib.pyplot as plt\n",
    "from matplotlib.figure import figaspect\n",
    "from h5py import File\n",
    "import natsort as nts\n",
    "import glob as g\n",
    "from mpes import analysis as aly, visualization as vis\n",
    "import matplotlib as mpl\n",
    "import scipy.io as sio\n",
    "%matplotlib inline"
   ]
  },
  {
   "cell_type": "code",
   "execution_count": null,
   "metadata": {},
   "outputs": [],
   "source": [
    "mpl.rcParams['font.family'] = 'sans-serif'\n",
    "mpl.rcParams['font.sans-serif'] = 'Arial'\n",
    "mpl.rcParams['axes.linewidth'] = 2\n",
    "mpl.rcParams['pdf.fonttype'] = 42\n",
    "mpl.rcParams['ps.fonttype'] = 42\n",
    "\n",
    "colornames = ['#646464', '#666666', '#6a6a6a', '#6f6f6f', '#737373', '#787878', '#7d7d7d', '#828282', '#878787', '#8d8d8d', '#929292', '#989898', '#9e9e9e', '#a4a4a4', '#aaaaaa', '#b0b0b0', '#b6b6b6', '#bcbcbc', '#c2c2c2', '#c9c9c9', '#cfcfcf', '#d6d6d6', '#dcdcdc', '#e3e3e3', '#eaeaea', '#efefee', '#efeee5', '#efeddc', '#efecd3', '#eeebca', '#eeeac0', '#eee9b7', '#eee8ad', '#ede7a4', '#ede69a', '#ede590', '#ede487', '#ece37d', '#ece273', '#ece069', '#ecdf5f', '#ebde55', '#ebdd4b', '#ebdc41', '#ebdb37', '#ebd333', '#ebc933', '#ecbe32', '#ecb432', '#eda931', '#ee9e31', '#ee9330', '#ef8830', '#ef7d2f', '#f0722f', '#f0672e', '#f15c2e', '#f2512d', '#f2462d', '#f33b2c', '#f3302c', '#f4252b', '#f4192b', '#ef182f', '#e81834', '#e21939', '#db1a3e', '#d51a43', '#ce1b48', '#c71b4d', '#c11c52', '#ba1c58', '#b31d5d', '#ac1d62', '#a61e67', '#9f1e6c', '#981f72', '#911f77', '#8a207c', '#842182']\n",
    "custom_cmap = mpl.colors.LinearSegmentedColormap.from_list('custom', colornames, N=256)\n",
    "\n",
    "# Create plot folder if needed\n",
    "if not os.path.exists('../results/figures'):\n",
    "    os.mkdir('../results/figures')"
   ]
  },
  {
   "cell_type": "code",
   "execution_count": null,
   "metadata": {},
   "outputs": [],
   "source": [
    "# Load reconstruction data\n",
    "fdir = r'../data/hyperparameter/tuning_SFig3'\n",
    "flist = fuller.utils.findFiles(fdir, fstring='/*', ftype='h5')\n",
    "\n",
    "recband = []\n",
    "for f in flist:\n",
    "    with File(f) as file:\n",
    "        recband.append(file['bands/Eb'][:])\n",
    "recband = np.asarray(recband)\n",
    "recband.shape"
   ]
  },
  {
   "cell_type": "code",
   "execution_count": null,
   "metadata": {},
   "outputs": [],
   "source": [
    "# Reshape the reconstruction data into a grid for plotting\n",
    "smaband = recband.reshape((14, 11, 256, 256))[::2, 1::2, ...].reshape((35, 256, 256))\n",
    "smaband.shape"
   ]
  },
  {
   "cell_type": "code",
   "execution_count": null,
   "metadata": {},
   "outputs": [],
   "source": [
    "# Generate circular mask for the data\n",
    "msk = aly.circmask(recband[0,...], 128, 125, 115, sign='xnan', method='algebraic')\n",
    "\n",
    "# Ranges of hyperparameters\n",
    "etas = np.around(np.arange(0.02, 0.29, 0.02), decimals=2)\n",
    "shifts = np.around(np.arange(0.0, 0.51, 0.05), decimals=2)\n",
    "\n",
    "# Obtain axis values of kx, ky\n",
    "axes = fuller.utils.loadHDF(flist[0], groups=['axes'])\n",
    "kx, ky = axes['kx'], axes['ky']"
   ]
  },
  {
   "cell_type": "markdown",
   "metadata": {},
   "source": [
    "### Supplementary Figure 4a"
   ]
  },
  {
   "cell_type": "code",
   "execution_count": null,
   "metadata": {},
   "outputs": [],
   "source": [
    "# Plot a grid of reconstructed bands\n",
    "ims, axs = vis.sliceview3d(smaband*msk[None,...], axis=0, ncol=7, vmin=-1, vmax=0,\n",
    "                           colormap=custom_cmap, axisreturn='nested', numbered=False, figsize=(20, 20*5/7),\n",
    "                          imkwds={'extent':[kx[0]+0.05, kx[-1]+0.05, ky[0]-0.02, ky[-1]-0.02]});\n",
    "\n",
    "# Annotate the plot-frames of good reconstructions\n",
    "pairs = [[1, 4], [1, 5], [1, 6], [2, 0], [2, 1], [2, 2]]\n",
    "for ri, ci in pairs:\n",
    "    [i.set_linewidth(4) for i in axs[ri, ci].spines.values()]\n",
    "    [i.set_color('#FFA500') for i in axs[ri, ci].spines.values()]\n",
    "\n",
    "# Annotate figures on the uppermost and bottommost rows\n",
    "for j in range(7):\n",
    "    jj = j*2\n",
    "    axs[0, j].set_title('$\\eta$ = '+str(\"%1.2f\" %etas[jj])+' eV', fontsize=20, pad=10)\n",
    "    \n",
    "    axs[-1, j].get_xaxis().set_visible(True)\n",
    "    axs[-1, j].set_xticks(np.arange(-1.5, 1.6, 0.5))\n",
    "    axs[-1, j].set_xticklabels(['', '-1', '', '0', '', '1', ''])\n",
    "    axs[-1, j].tick_params(axis='x', length=8, width=2, labelsize=20)\n",
    "    axs[-1, j].set_xlabel('$k_x$ ($\\mathrm{\\AA}^{-1}$)', fontsize=20)\n",
    "\n",
    "# Annotate figures on leftmost and rightmost columns\n",
    "for i in range(5):\n",
    "    ii = i+1\n",
    "    axs[i, 0].get_yaxis().set_visible(True)\n",
    "    axs[i, 0].set_yticks([])\n",
    "    axs[i, 0].set_ylabel('$\\Delta$E = '+str(\"%1.2f\" %shifts[ii])+' eV', fontsize=20, labelpad=5)\n",
    "    \n",
    "    axs[i, -1].get_yaxis().set_visible(True)\n",
    "    axs[i, -1].yaxis.set_label_position(\"right\")\n",
    "    axs[i, -1].yaxis.tick_right()\n",
    "    axs[i, -1].set_yticks(np.arange(-1.5, 1.6, 0.5))\n",
    "    axs[i, -1].set_yticklabels(['', '-1', '', '0', '', '1', ''])\n",
    "    axs[i, -1].tick_params(axis='y', length=8, width=2, labelsize=20)\n",
    "    axs[i, -1].set_ylabel('$k_y$ ($\\mathrm{\\AA}^{-1}$)', fontsize=20, rotation=-90, labelpad=25)\n",
    "\n",
    "plt.subplots_adjust(\n",
    "        left=0.05,\n",
    "        right=0.95,\n",
    "        bottom=0.05,\n",
    "        top=0.95,\n",
    "        wspace=0.05,\n",
    "        hspace=0.05)\n",
    "\n",
    "plt.savefig(r'../results/figures/sfig_4a.png', transparent=False, bbox_inches='tight', dpi=300)"
   ]
  },
  {
   "cell_type": "code",
   "execution_count": null,
   "metadata": {},
   "outputs": [],
   "source": [
    "# Plot the colorbar\n",
    "fig = plt.figure(figsize=(8, 3))\n",
    "ax = fig.add_axes([0.05, 0.80, 0.04, 0.5])\n",
    "norm = mpl.colors.Normalize(vmin=-1, vmax=0)\n",
    "cb = mpl.colorbar.ColorbarBase(ax, cmap=custom_cmap,\n",
    "                                norm=norm, ticks=[-1, 0],\n",
    "                                orientation='vertical')\n",
    "# cb.ax.set_yticks([-1, 0])\n",
    "cb.ax.set_yticklabels(['low', 'high'], fontsize=20)\n",
    "cb.ax.set_ylabel('E (eV)', fontsize=20, rotation=-90, labelpad=-10)\n",
    "cb.ax.tick_params(axis='y', length=0, pad=5)"
   ]
  },
  {
   "cell_type": "code",
   "execution_count": null,
   "metadata": {},
   "outputs": [],
   "source": [
    "# Energy coordinates\n",
    "elo, ehi = (0.0, -8.252199)\n",
    "eshift = 0.65 # global shift\n",
    "elo += eshift\n",
    "ehi += eshift\n",
    "\n",
    "# Extract high-symmetry lines from reconstructed bands\n",
    "pth = np.load(r'../data/hyperparameter/tuning_SFig3/path_coords.npz')\n",
    "# pth = np.load(r'../data/processed/hslines/WSe2_kpath.npz')\n",
    "rowInds, colInds = pthr, pthc = pth['pathr'], pth['pathc']\n",
    "bcuts = aly.bandpath_map(smaband, pathr=rowInds, pathc=colInds, eaxis=0)\n",
    "bcuts = bcuts.reshape((5, 7, 186))\n",
    "\n",
    "# Photoemission data cut along high-symmetry lines\n",
    "vcut = np.load(r'../data/processed/hslines/WSe2_vcut.npy')\n",
    "\n",
    "# Load LDA-DFT band structure calculation along high-symmetry lines\n",
    "bandlines = sio.loadmat(r'../data/theory/hslines/WSe2_bandlines_LDA_186.mat')['lines']\n",
    "bandlines.shape"
   ]
  },
  {
   "cell_type": "markdown",
   "metadata": {},
   "source": [
    "### Supplementary Figure 4b"
   ]
  },
  {
   "cell_type": "code",
   "execution_count": null,
   "metadata": {},
   "outputs": [],
   "source": [
    "# Plot a grid of photoemission data cuts along high symmetry lines\n",
    "ims, axs = vis.sliceview3d(np.tile(vcut[::-1,:], (35, 1, 1)), axis=0, ncol=7, imkwds={'extent':[0, 185, ehi, elo]},\n",
    "                           colormap='Blues', axisreturn='nested', numbered=False, figsize=(20, 10));\n",
    "\n",
    "# Annotate the plot-frames of good reconstructions\n",
    "shifts_small = np.arange(0.10, 0.31, 0.05)\n",
    "pairs = [[1, 4], [1, 5], [1, 6], [2, 0], [2, 1], [2, 2]]\n",
    "pairs = [[1, 4], [1, 5], [1, 6], [2, 0], [2, 1], [2, 2]]\n",
    "for ri, ci in pairs:\n",
    "    [i.set_linewidth(4) for i in axs[ri, ci].spines.values()]\n",
    "    [i.set_color('#FFA500') for i in axs[ri, ci].spines.values()]\n",
    "\n",
    "# Plot reconstructions and initializations\n",
    "pos = np.array([  0,  69, 107, 185]) # High-symmetry point locations\n",
    "for j in range(7):\n",
    "    for i in range(5):\n",
    "        axs[i, j].plot(bcuts[i, j, :] + 0.65, '-', c='r', lw=1, zorder=2) # Plot reconstruction\n",
    "        axs[i, j].plot(bandlines[:, 1] + 0.65 + 0.02*i, '-', c='#00FF00', lw=1, zorder=1) # Plot initialization\n",
    "        \n",
    "        # Annotate high symmetry positions\n",
    "        for p in pos[:-1]:\n",
    "            axs[i, j].axvline(x=p, c='k', ls='--', lw=2, dashes=[4, 3])\n",
    "\n",
    "# Annotate figures on the uppermost and bottommost rows\n",
    "for j in range(7):\n",
    "    jj = j*2\n",
    "    axs[0, j].set_title('$\\eta$ = '+str(\"%1.2f\" %etas[jj])+' eV', fontsize=20, pad=10)\n",
    "    \n",
    "    axs[-1, j].get_xaxis().set_visible(True)\n",
    "    axs[-1, j].tick_params(axis='both', length=8, width=2, labelsize=15)\n",
    "    axs[-1, j].set_ylim([ehi, elo])\n",
    "    axs[-1, j].set_xticks(pos)\n",
    "    axs[-1, j].set_xticklabels(['$\\overline{\\Gamma}$', '$\\overline{\\mathrm{M}}$',\n",
    "                           '$\\overline{\\mathrm{K}}$', '$\\overline{\\Gamma}$'])\n",
    "\n",
    "# Annotate figures on leftmost and rightmost columns\n",
    "for i in range(5):\n",
    "    ii = 1 + i*2\n",
    "    axs[i, 0].get_yaxis().set_visible(True)\n",
    "    axs[i, 0].set_yticks([])\n",
    "    axs[i, 0].set_ylabel('$\\Delta$E = '+str(\"%1.2f\" %shifts[i])+' eV', fontsize=20, labelpad=5)\n",
    "    \n",
    "    axs[i, -1].get_yaxis().set_visible(True)\n",
    "    axs[i, -1].set_yticks(np.arange(-7, 0.1))\n",
    "    axs[i, -1].set_yticklabels(['', '-6', '', '-4', '', '-2', '', '0'])\n",
    "    axs[i, -1].set_ylabel('E (eV)', fontsize=20, rotation=-90, labelpad=20)\n",
    "    axs[i, -1].yaxis.set_label_position(\"right\")\n",
    "    axs[i, -1].yaxis.tick_right()\n",
    "    axs[i, -1].tick_params(axis='y', length=8, width=2, labelsize=20)\n",
    "\n",
    "plt.subplots_adjust(\n",
    "        left=0.05,\n",
    "        right=0.95,\n",
    "        bottom=0.05,\n",
    "        top=0.95,\n",
    "        wspace=0.05,\n",
    "        hspace=0.08)\n",
    "\n",
    "plt.savefig(r'../results/figures/sfig_4b.png', transparent=True, bbox_inches='tight', pad_inches=0.05, dpi=300)"
   ]
  },
  {
   "cell_type": "code",
   "execution_count": null,
   "metadata": {},
   "outputs": [],
   "source": [
    "# Plot the figure legend\n",
    "fig, ax = plt.subplots(figsize=(8, 3))\n",
    "ax.imshow(vcut, cmap='Blues', extent=[0, 185, ehi, elo], aspect=12)\n",
    "ax.tick_params(axis='both', length=0)\n",
    "ax.set_xticklabels([])\n",
    "ax.set_yticklabels([])\n",
    "ax.plot(bandlines[:, 1] + 0.65 + 0.05*i, '-', c='#00FF00', lw=1, zorder=1, label='Initialization')\n",
    "ax.plot(bcuts[i, j, :] + 0.65, '-', c='r', lw=1, zorder=2, label='Reconstruction')\n",
    "ax.legend(loc=9, fontsize=15, frameon=True, bbox_to_anchor=(1.2, 0.2), facecolor='#C0C0C0')"
   ]
  }
 ],
 "metadata": {
  "kernelspec": {
   "display_name": "Python 3 (ipykernel)",
   "language": "python",
   "name": "python3"
  },
  "language_info": {
   "codemirror_mode": {
    "name": "ipython",
    "version": 3
   },
   "file_extension": ".py",
   "mimetype": "text/x-python",
   "name": "python",
   "nbconvert_exporter": "python",
   "pygments_lexer": "ipython3",
   "version": "3.7.13"
  }
 },
 "nbformat": 4,
 "nbformat_minor": 2
}
